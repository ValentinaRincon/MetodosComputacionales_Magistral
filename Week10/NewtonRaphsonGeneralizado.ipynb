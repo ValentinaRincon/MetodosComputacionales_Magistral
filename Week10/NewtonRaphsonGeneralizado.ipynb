{
 "cells": [
  {
   "cell_type": "code",
   "execution_count": 5,
   "id": "59fbc58c",
   "metadata": {},
   "outputs": [
    {
     "data": {
      "text/html": [
       "<style>.container { width:90% !important; }</style>"
      ],
      "text/plain": [
       "<IPython.core.display.HTML object>"
      ]
     },
     "metadata": {},
     "output_type": "display_data"
    }
   ],
   "source": [
    "from IPython.display import display, HTML\n",
    "display(HTML(\"<style>.container { width:90% !important; }</style>\"))\n",
    "import numpy as np\n",
    "import matplotlib.pyplot as plt"
   ]
  },
  {
   "cell_type": "code",
   "execution_count": 6,
   "id": "48ca9732",
   "metadata": {},
   "outputs": [],
   "source": [
    "# Definamos el sistema usando una lista\n",
    "G = np.array([lambda x,y,z: 6*x - 2*np.cos(y*z) - 1.,\n",
    "     lambda x,y,z: 9*y + np.sqrt( x**2 + np.sin(z) + 1.06 ) + 0.9,\n",
    "     lambda x,y,z: 60*z + 3*np.exp(-x*y)+10*np.pi - 3])"
   ]
  },
  {
   "cell_type": "code",
   "execution_count": 7,
   "id": "2362307e",
   "metadata": {},
   "outputs": [],
   "source": [
    "def GetF(G,r):\n",
    "    \n",
    "    n = r.shape[0]\n",
    "    \n",
    "    v = np.zeros_like(r)\n",
    "    \n",
    "    for i in range(n):\n",
    "        v[i] = G[i](r[0],r[1],r[2])\n",
    "        \n",
    "    return v"
   ]
  },
  {
   "cell_type": "code",
   "execution_count": 8,
   "id": "a8844b0a",
   "metadata": {},
   "outputs": [],
   "source": [
    "def GetJacobian(f,r,h=1e-6):\n",
    "    \n",
    "    n = r.shape[0]\n",
    "    \n",
    "    J = np.zeros((n,n))\n",
    "    \n",
    "    for i in range(n):\n",
    "        for j in range(n):\n",
    "            \n",
    "            rf = r.copy()\n",
    "            rb = r.copy()\n",
    "            \n",
    "            rf[j] = rf[j] + h\n",
    "            rb[j] = rb[j] - h\n",
    "            \n",
    "            J[i,j] = ( f[i](rf[0],rf[1],rf[2]) - f[i](rb[0],rb[1],rb[2])  )/(2*h)\n",
    "            \n",
    "    \n",
    "    return J"
   ]
  },
  {
   "cell_type": "code",
   "execution_count": 20,
   "id": "ad1bea29",
   "metadata": {},
   "outputs": [],
   "source": [
    "def NewtonRaphson(G,r,itmax=1000,error=1e-9):\n",
    "    \n",
    "    it = 0\n",
    "    d = 1.\n",
    "    dvector = []\n",
    "    \n",
    "    while d > error and it < itmax:\n",
    "        \n",
    "        # Vector actual\n",
    "        rc = r\n",
    "        \n",
    "        F = GetF(G,rc)\n",
    "        J = GetJacobian(G,rc)\n",
    "        InvJ = np.linalg.inv(J)\n",
    "        \n",
    "        r = rc - np.dot(InvJ,F)\n",
    "        \n",
    "        diff = r - rc\n",
    "        \n",
    "        d = np.max( np.abs(diff) )\n",
    "        \n",
    "        dvector.append(d)\n",
    "        print(dvector)\n",
    "        \n",
    "        it += 1\n",
    "    \n",
    "    print(it)\n",
    "    return r,dvector"
   ]
  },
  {
   "cell_type": "code",
   "execution_count": 21,
   "id": "663fd4b0",
   "metadata": {},
   "outputs": [
    {
     "name": "stdout",
     "output_type": "stream",
     "text": [
      "[0.5235987756181211]\n",
      "[0.5235987756181211, 0.013464494608999344]\n",
      "[0.5235987756181211, 0.013464494608999344, 1.3125552370152338e-05]\n",
      "[0.5235987756181211, 0.013464494608999344, 1.3125552370152338e-05, 7.48751061152575e-12]\n",
      "4\n"
     ]
    }
   ],
   "source": [
    "r,dvector = NewtonRaphson(G,np.array([0.,0.,0.]))"
   ]
  },
  {
   "cell_type": "code",
   "execution_count": 17,
   "id": "bc9f4882",
   "metadata": {},
   "outputs": [
    {
     "data": {
      "text/plain": [
       "array([ 0.49814468, -0.1996059 , -0.52882598])"
      ]
     },
     "execution_count": 17,
     "metadata": {},
     "output_type": "execute_result"
    }
   ],
   "source": [
    "r"
   ]
  },
  {
   "cell_type": "code",
   "execution_count": 19,
   "id": "2b0ccd53",
   "metadata": {},
   "outputs": [
    {
     "data": {
      "image/png": "[encoded data removed]",
      "text/plain": [
       "<Figure size 432x288 with 1 Axes>"
      ]
     },
     "metadata": {
      "needs_background": "light"
     },
     "output_type": "display_data"
    }
   ],
   "source": [
    "plt.plot(dvector)\n",
    "plt.yscale('log')"
   ]
  },
  {
   "cell_type": "code",
   "execution_count": null,
   "id": "98585068",
   "metadata": {},
   "outputs": [],
   "source": []
  }
 ],
 "metadata": {
  "kernelspec": {
   "display_name": "Python 3 (ipykernel)",
   "language": "python",
   "name": "python3"
  },
  "language_info": {
   "codemirror_mode": {
    "name": "ipython",
    "version": 3
   },
   "file_extension": ".py",
   "mimetype": "text/x-python",
   "name": "python",
   "nbconvert_exporter": "python",
   "pygments_lexer": "ipython3",
   "version": "3.9.12"
  }
 },
 "nbformat": 4,
 "nbformat_minor": 5
}
