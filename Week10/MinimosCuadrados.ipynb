{
 "cells": [
  {
   "cell_type": "code",
   "execution_count": 1,
   "id": "f89486a3",
   "metadata": {},
   "outputs": [
    {
     "data": {
      "text/html": [
       "<style>.container { width:90% !important; }</style>"
      ],
      "text/plain": [
       "<IPython.core.display.HTML object>"
      ]
     },
     "metadata": {},
     "output_type": "display_data"
    }
   ],
   "source": [
    "#%matplotlib notebook\n",
    "from IPython.display import display, HTML\n",
    "display(HTML(\"<style>.container { width:90% !important; }</style>\"))\n",
    "\n",
    "import numpy as np\n",
    "import matplotlib.pyplot as plt\n",
    "import sympy as sym\n",
    "\n",
    "from scipy.stats import norm\n",
    "from scipy.stats import t\n",
    "from scipy.stats import chi2\n",
    "\n",
    "import os\n",
    "import os.path as path\n",
    "import wget"
   ]
  },
  {
   "cell_type": "code",
   "execution_count": 2,
   "id": "8a012be1",
   "metadata": {},
   "outputs": [
    {
     "name": "stdout",
     "output_type": "stream",
     "text": [
      "\r",
      "  0% [                                                                                  ]   0 / 522\r",
      "100% [..................................................................................] 522 / 522File loaded\n"
     ]
    }
   ],
   "source": [
    "if not path.exists('Data'):\n",
    "    os.mkdir('Data')\n",
    "    \n",
    "!rm Data/*\n",
    "\n",
    "file = 'Data/Minimos.dat'\n",
    "url = 'https://raw.githubusercontent.com/asegura4488/Database/main/MetodosComputacionalesReforma/MinimosLineal.txt'\n",
    "#url = 'https://raw.githubusercontent.com/asegura4488/Database/main/MetodosComputacionalesReforma/MinimosCuadratico.txt'\n",
    "\n",
    "if not path.exists(file):\n",
    "    Path_ = wget.download(url,file)\n",
    "    print('File loaded')\n",
    "else:\n",
    "    Path_ = file"
   ]
  },
  {
   "cell_type": "code",
   "execution_count": 3,
   "id": "c1cc7b41",
   "metadata": {},
   "outputs": [],
   "source": [
    "data = np.loadtxt(Path_)\n",
    "x = data[:,0]\n",
    "y = data[:,1]"
   ]
  },
  {
   "cell_type": "code",
   "execution_count": 21,
   "id": "de6ce899",
   "metadata": {},
   "outputs": [
    {
     "data": {
      "text/plain": [
       "array([ 1.38312776,  0.20207141,  6.61152841, 17.53741169,  9.35291186,\n",
       "       18.20962765, 16.94786656, 15.73554829,  0.73024537,  6.16521468,\n",
       "       15.8431403 ,  2.48142666, 11.59745048,  6.85399048, 19.54029378,\n",
       "       12.4707602 ,  6.23431791,  5.67185743,  9.98496566,  6.02569871])"
      ]
     },
     "execution_count": 21,
     "metadata": {},
     "output_type": "execute_result"
    }
   ],
   "source": [
    "# Agregamos ruido\n",
    "N = len(x)\n",
    "sigma = np.random.uniform(0,20.,size=N)\n",
    "sigma"
   ]
  },
  {
   "cell_type": "code",
   "execution_count": 22,
   "id": "aa1d9a5d",
   "metadata": {},
   "outputs": [
    {
     "data": {
      "text/plain": [
       "<matplotlib.legend.Legend at 0x7f971c190940>"
      ]
     },
     "execution_count": 22,
     "metadata": {},
     "output_type": "execute_result"
    },
    {
     "data": {
      "image/png": "[encoded data removed]",
      "text/plain": [
       "<Figure size 432x288 with 1 Axes>"
      ]
     },
     "metadata": {
      "needs_background": "light"
     },
     "output_type": "display_data"
    }
   ],
   "source": [
    "#plt.scatter(x,y)\n",
    "plt.errorbar(x,y,yerr=sigma,fmt='o',color='k',label='Data')\n",
    "plt.legend(loc=0)"
   ]
  },
  {
   "cell_type": "code",
   "execution_count": 23,
   "id": "488ccb22",
   "metadata": {},
   "outputs": [],
   "source": [
    "def GetFit(x,y,n=1):\n",
    "    \n",
    "    l = x.shape[0]\n",
    "    b = y\n",
    "    \n",
    "    A = np.ones((l,n+1))\n",
    "    \n",
    "    for i in range(1,n+1):\n",
    "        A[:,i] = x**i\n",
    "        \n",
    "    AT = np.dot(A.T,A)\n",
    "    bT = np.dot(A.T,b)\n",
    "\n",
    "    xsol = np.linalg.solve(AT,bT)\n",
    "    \n",
    "    return xsol"
   ]
  },
  {
   "cell_type": "code",
   "execution_count": 38,
   "id": "94b596be",
   "metadata": {},
   "outputs": [
    {
     "data": {
      "text/plain": [
       "array([-4.79078867e+00, -9.03458989e+00,  1.64538088e+01, -9.23631656e+00,\n",
       "        2.67971883e+00, -4.55145182e-01,  4.78033312e-02, -3.14495622e-03,\n",
       "        1.26184854e-04, -2.82295372e-06,  2.69913493e-08])"
      ]
     },
     "execution_count": 38,
     "metadata": {},
     "output_type": "execute_result"
    }
   ],
   "source": [
    "# Grado polinomial\n",
    "n = 10\n",
    "param = GetFit(x,y,n)\n",
    "param"
   ]
  },
  {
   "cell_type": "code",
   "execution_count": 39,
   "id": "da205afd",
   "metadata": {},
   "outputs": [],
   "source": [
    "def GetModel(x,p):\n",
    "    \n",
    "    y = 0.\n",
    "    for i in range(len(p)):\n",
    "        y += p[i]*x**i\n",
    "        \n",
    "    return y"
   ]
  },
  {
   "cell_type": "code",
   "execution_count": 40,
   "id": "7699c2d6",
   "metadata": {},
   "outputs": [
    {
     "data": {
      "text/latex": [
       "$\\displaystyle 2.69913493397088 \\cdot 10^{-8} x^{10} - 2.82295372455924 \\cdot 10^{-6} x^{9} + 0.000126184854124166 x^{8} - 0.00314495621659385 x^{7} + 0.0478033312334675 x^{6} - 0.455145182268717 x^{5} + 2.67971883161942 x^{4} - 9.23631656221559 x^{3} + 16.4538088241099 x^{2} - 9.0345898899002 x - 4.79078867196062$"
      ],
      "text/plain": [
       "2.69913493397088e-8*x**10 - 2.82295372455924e-6*x**9 + 0.000126184854124166*x**8 - 0.00314495621659385*x**7 + 0.0478033312334675*x**6 - 0.455145182268717*x**5 + 2.67971883161942*x**4 - 9.23631656221559*x**3 + 16.4538088241099*x**2 - 9.0345898899002*x - 4.79078867196062"
      ]
     },
     "execution_count": 40,
     "metadata": {},
     "output_type": "execute_result"
    }
   ],
   "source": [
    "X = sym.Symbol('x',real=True)\n",
    "GetModel(X,param)"
   ]
  },
  {
   "cell_type": "code",
   "execution_count": 41,
   "id": "8429e3e4",
   "metadata": {},
   "outputs": [],
   "source": [
    "_x = np.linspace(np.min(x),np.max(x),50)\n",
    "_y = GetModel(_x,param)"
   ]
  },
  {
   "cell_type": "code",
   "execution_count": 42,
   "id": "65354bfc",
   "metadata": {},
   "outputs": [
    {
     "data": {
      "text/plain": [
       "<matplotlib.legend.Legend at 0x7f96e6f36fa0>"
      ]
     },
     "execution_count": 42,
     "metadata": {},
     "output_type": "execute_result"
    },
    {
     "data": {
      "image/png": "[encoded data removed]",
      "text/plain": [
       "<Figure size 432x288 with 1 Axes>"
      ]
     },
     "metadata": {
      "needs_background": "light"
     },
     "output_type": "display_data"
    }
   ],
   "source": [
    "plt.errorbar(x,y,yerr=sigma,fmt='o',color='k',label='Data')\n",
    "plt.plot(_x,_y,color='r',lw=2,label='Model')\n",
    "plt.legend()"
   ]
  },
  {
   "cell_type": "code",
   "execution_count": 43,
   "id": "86d03386",
   "metadata": {},
   "outputs": [],
   "source": [
    "def GetError(x,y,p):\n",
    "    \n",
    "    l = x.shape[0]\n",
    "    \n",
    "    A = np.ones((l,n+1))\n",
    "    \n",
    "    for i in range(1,n+1):\n",
    "        A[:,i] = x**i\n",
    "        \n",
    "    # Residuos\n",
    "    R = y - np.dot(A,p)\n",
    "    \n",
    "    sigma2 = np.dot(R.T,R)/(len(y)-len(p))\n",
    "    \n",
    "    print(sigma2)"
   ]
  },
  {
   "cell_type": "code",
   "execution_count": 44,
   "id": "02160e63",
   "metadata": {},
   "outputs": [
    {
     "name": "stdout",
     "output_type": "stream",
     "text": [
      "1.6226707388935049\n"
     ]
    }
   ],
   "source": [
    "Cov = GetError(x,y,param)"
   ]
  },
  {
   "cell_type": "code",
   "execution_count": null,
   "id": "4577ec1c",
   "metadata": {},
   "outputs": [],
   "source": []
  }
 ],
 "metadata": {
  "kernelspec": {
   "display_name": "Python 3 (ipykernel)",
   "language": "python",
   "name": "python3"
  },
  "language_info": {
   "codemirror_mode": {
    "name": "ipython",
    "version": 3
   },
   "file_extension": ".py",
   "mimetype": "text/x-python",
   "name": "python",
   "nbconvert_exporter": "python",
   "pygments_lexer": "ipython3",
   "version": "3.9.12"
  }
 },
 "nbformat": 4,
 "nbformat_minor": 5
}
