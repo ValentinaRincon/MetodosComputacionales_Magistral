{
 "cells": [
  {
   "cell_type": "code",
   "execution_count": 106,
   "id": "f89486a3",
   "metadata": {},
   "outputs": [
    {
     "data": {
      "text/html": [
       "<style>.container { width:90% !important; }</style>"
      ],
      "text/plain": [
       "<IPython.core.display.HTML object>"
      ]
     },
     "metadata": {},
     "output_type": "display_data"
    }
   ],
   "source": [
    "#%matplotlib notebook\n",
    "from IPython.display import display, HTML\n",
    "display(HTML(\"<style>.container { width:90% !important; }</style>\"))\n",
    "\n",
    "import numpy as np\n",
    "import matplotlib.pyplot as plt\n",
    "import sympy as sym\n",
    "\n",
    "from scipy.stats import norm\n",
    "from scipy.stats import t\n",
    "from scipy.stats import chi2\n",
    "\n",
    "import os\n",
    "import os.path as path\n",
    "import wget"
   ]
  },
  {
   "cell_type": "code",
   "execution_count": 107,
   "id": "8a012be1",
   "metadata": {},
   "outputs": [
    {
     "name": "stdout",
     "output_type": "stream",
     "text": [
      "\r",
      "  0% [                                                                                  ]   0 / 521\r",
      "100% [..................................................................................] 521 / 521File loaded\n"
     ]
    }
   ],
   "source": [
    "if not path.exists('Data'):\n",
    "    os.mkdir('Data')\n",
    "    \n",
    "!rm Data/*\n",
    "\n",
    "file = 'Data/Minimos.dat'\n",
    "#url = 'https://raw.githubusercontent.com/asegura4488/Database/main/MetodosComputacionalesReforma/MinimosLineal.txt'\n",
    "url = 'https://raw.githubusercontent.com/asegura4488/Database/main/MetodosComputacionalesReforma/MinimosCuadratico.txt'\n",
    "\n",
    "if not path.exists(file):\n",
    "    Path_ = wget.download(url,file)\n",
    "    print('File loaded')\n",
    "else:\n",
    "    Path_ = file"
   ]
  },
  {
   "cell_type": "code",
   "execution_count": 108,
   "id": "c1cc7b41",
   "metadata": {},
   "outputs": [],
   "source": [
    "data = np.loadtxt(Path_)\n",
    "x = data[:,0]\n",
    "y = data[:,1]"
   ]
  },
  {
   "cell_type": "code",
   "execution_count": 109,
   "id": "de6ce899",
   "metadata": {},
   "outputs": [
    {
     "data": {
      "text/plain": [
       "array([13.77618553, 15.94036819, 12.93345302, 13.47861877, 16.63552621,\n",
       "       18.79066566,  7.36579927,  3.88248059,  7.00489755, 10.95662622,\n",
       "        9.9231965 ,  7.06068854,  4.35027471,  6.68912052, 10.64660981,\n",
       "        7.15069573,  9.96484802, 11.33862684, 10.86472759,  9.52684203])"
      ]
     },
     "execution_count": 109,
     "metadata": {},
     "output_type": "execute_result"
    }
   ],
   "source": [
    "# Agregamos ruido\n",
    "N = len(x)\n",
    "sigma = np.random.uniform(0,20.,size=N)\n",
    "sigma"
   ]
  },
  {
   "cell_type": "code",
   "execution_count": 110,
   "id": "aa1d9a5d",
   "metadata": {},
   "outputs": [
    {
     "data": {
      "text/plain": [
       "<matplotlib.legend.Legend at 0x7f96db6b3a60>"
      ]
     },
     "execution_count": 110,
     "metadata": {},
     "output_type": "execute_result"
    },
    {
     "data": {
      "image/png": "[encoded data removed]",
      "text/plain": [
       "<Figure size 432x288 with 1 Axes>"
      ]
     },
     "metadata": {
      "needs_background": "light"
     },
     "output_type": "display_data"
    }
   ],
   "source": [
    "#plt.scatter(x,y)\n",
    "plt.errorbar(x,y,yerr=sigma,fmt='o',color='k',label='Data')\n",
    "plt.legend(loc=0)"
   ]
  },
  {
   "cell_type": "code",
   "execution_count": 111,
   "id": "488ccb22",
   "metadata": {},
   "outputs": [],
   "source": [
    "def GetFit(x,y,n=1):\n",
    "    \n",
    "    l = x.shape[0]\n",
    "    b = y\n",
    "    \n",
    "    A = np.ones((l,n+1))\n",
    "    \n",
    "    for i in range(1,n+1):\n",
    "        A[:,i] = x**i\n",
    "        \n",
    "    AT = np.dot(A.T,A)\n",
    "    bT = np.dot(A.T,b)\n",
    "\n",
    "    xsol = np.linalg.solve(AT,bT)\n",
    "    \n",
    "    return xsol"
   ]
  },
  {
   "cell_type": "code",
   "execution_count": 112,
   "id": "94b596be",
   "metadata": {},
   "outputs": [
    {
     "data": {
      "text/plain": [
       "array([-45.46163845,  35.6566259 ])"
      ]
     },
     "execution_count": 112,
     "metadata": {},
     "output_type": "execute_result"
    }
   ],
   "source": [
    "# Grado polinomial\n",
    "n = 1\n",
    "param = GetFit(x,y,n)\n",
    "param"
   ]
  },
  {
   "cell_type": "code",
   "execution_count": 113,
   "id": "da205afd",
   "metadata": {},
   "outputs": [],
   "source": [
    "def GetModel(x,p):\n",
    "    \n",
    "    y = 0.\n",
    "    for i in range(len(p)):\n",
    "        y += p[i]*x**i\n",
    "        \n",
    "    return y"
   ]
  },
  {
   "cell_type": "code",
   "execution_count": 114,
   "id": "7699c2d6",
   "metadata": {},
   "outputs": [
    {
     "data": {
      "text/latex": [
       "$\\displaystyle 35.6566259009329 x - 45.4616384480982$"
      ],
      "text/plain": [
       "35.6566259009329*x - 45.4616384480982"
      ]
     },
     "execution_count": 114,
     "metadata": {},
     "output_type": "execute_result"
    }
   ],
   "source": [
    "X = sym.Symbol('x',real=True)\n",
    "GetModel(X,param)"
   ]
  },
  {
   "cell_type": "code",
   "execution_count": 115,
   "id": "8429e3e4",
   "metadata": {},
   "outputs": [],
   "source": [
    "_x = np.linspace(np.min(x),np.max(x),50)\n",
    "_y = GetModel(_x,param)"
   ]
  },
  {
   "cell_type": "code",
   "execution_count": 116,
   "id": "65354bfc",
   "metadata": {},
   "outputs": [
    {
     "data": {
      "text/plain": [
       "<matplotlib.legend.Legend at 0x7f96db759f40>"
      ]
     },
     "execution_count": 116,
     "metadata": {},
     "output_type": "execute_result"
    },
    {
     "data": {
      "image/png": "[encoded data removed]",
      "text/plain": [
       "<Figure size 432x288 with 1 Axes>"
      ]
     },
     "metadata": {
      "needs_background": "light"
     },
     "output_type": "display_data"
    }
   ],
   "source": [
    "plt.errorbar(x,y,yerr=sigma,fmt='o',color='k',label='Data')\n",
    "plt.plot(_x,_y,color='r',lw=2,label='Model')\n",
    "plt.legend()"
   ]
  },
  {
   "cell_type": "code",
   "execution_count": 117,
   "id": "86d03386",
   "metadata": {},
   "outputs": [],
   "source": [
    "def GetError(x,y,p):\n",
    "    \n",
    "    l = x.shape[0]\n",
    "    \n",
    "    A = np.ones((l,n+1))\n",
    "    \n",
    "    for i in range(1,n+1):\n",
    "        A[:,i] = x**i\n",
    "        \n",
    "    # Residuos\n",
    "    R = y - np.dot(A,p)\n",
    "    \n",
    "    sigma2 = np.dot(R.T,R)/(len(y)-len(p))\n",
    "    \n",
    "    Cov = sigma2*np.linalg.inv(np.dot(A.T,A))\n",
    "    \n",
    "    print(sigma2)\n",
    "    \n",
    "    return Cov"
   ]
  },
  {
   "cell_type": "code",
   "execution_count": 118,
   "id": "02160e63",
   "metadata": {},
   "outputs": [
    {
     "name": "stdout",
     "output_type": "stream",
     "text": [
      "684.9651208613924\n"
     ]
    },
    {
     "data": {
      "text/plain": [
       "array([[127.2078106 , -18.59191095],\n",
       "       [-18.59191095,   3.7183822 ]])"
      ]
     },
     "execution_count": 118,
     "metadata": {},
     "output_type": "execute_result"
    }
   ],
   "source": [
    "Cov = GetError(x,y,param)\n",
    "Cov"
   ]
  },
  {
   "cell_type": "code",
   "execution_count": 120,
   "id": "4577ec1c",
   "metadata": {},
   "outputs": [
    {
     "data": {
      "text/plain": [
       "array([-45.46163845,  35.6566259 ])"
      ]
     },
     "execution_count": 120,
     "metadata": {},
     "output_type": "execute_result"
    }
   ],
   "source": [
    "param"
   ]
  },
  {
   "cell_type": "code",
   "execution_count": 122,
   "id": "caeb404e",
   "metadata": {},
   "outputs": [
    {
     "data": {
      "text/plain": [
       "35.65662590093289"
      ]
     },
     "execution_count": 122,
     "metadata": {},
     "output_type": "execute_result"
    }
   ],
   "source": [
    "a3 = param[1]\n",
    "a3"
   ]
  },
  {
   "cell_type": "code",
   "execution_count": 101,
   "id": "100a2f05",
   "metadata": {},
   "outputs": [
    {
     "data": {
      "text/plain": [
       "0.007802022641454136"
      ]
     },
     "execution_count": 101,
     "metadata": {},
     "output_type": "execute_result"
    }
   ],
   "source": [
    "sigmaa3 = np.sqrt(Cov[2,2])\n",
    "sigmaa3"
   ]
  },
  {
   "cell_type": "code",
   "execution_count": 103,
   "id": "d8bb94e7",
   "metadata": {},
   "outputs": [
    {
     "data": {
      "text/plain": [
       "0.6567846550652696"
      ]
     },
     "execution_count": 103,
     "metadata": {},
     "output_type": "execute_result"
    }
   ],
   "source": [
    "tobs = np.abs((0. - np.abs(a3)))/sigmaa3\n",
    "tobs"
   ]
  },
  {
   "cell_type": "code",
   "execution_count": 104,
   "id": "4d52703b",
   "metadata": {},
   "outputs": [
    {
     "data": {
      "text/plain": [
       "16"
      ]
     },
     "execution_count": 104,
     "metadata": {},
     "output_type": "execute_result"
    }
   ],
   "source": [
    "df = N - len(param) - 1\n",
    "df"
   ]
  },
  {
   "cell_type": "code",
   "execution_count": 105,
   "id": "1dc21af8",
   "metadata": {},
   "outputs": [
    {
     "data": {
      "text/plain": [
       "2.1199052992210112"
      ]
     },
     "execution_count": 105,
     "metadata": {},
     "output_type": "execute_result"
    }
   ],
   "source": [
    "tcritico = t.ppf(0.975,df=df)\n",
    "tcritico"
   ]
  },
  {
   "cell_type": "code",
   "execution_count": null,
   "id": "929fdbae",
   "metadata": {},
   "outputs": [],
   "source": []
  }
 ],
 "metadata": {
  "kernelspec": {
   "display_name": "Python 3 (ipykernel)",
   "language": "python",
   "name": "python3"
  },
  "language_info": {
   "codemirror_mode": {
    "name": "ipython",
    "version": 3
   },
   "file_extension": ".py",
   "mimetype": "text/x-python",
   "name": "python",
   "nbconvert_exporter": "python",
   "pygments_lexer": "ipython3",
   "version": "3.9.12"
  }
 },
 "nbformat": 4,
 "nbformat_minor": 5
}
