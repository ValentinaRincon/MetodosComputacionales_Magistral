{
 "cells": [
  {
   "cell_type": "code",
   "execution_count": 1,
   "id": "f2c91709",
   "metadata": {},
   "outputs": [
    {
     "data": {
      "text/html": [
       "<style>.container { width:90% !important; }</style>"
      ],
      "text/plain": [
       "<IPython.core.display.HTML object>"
      ]
     },
     "metadata": {},
     "output_type": "display_data"
    }
   ],
   "source": [
    "from IPython.display import display, HTML\n",
    "display(HTML(\"<style>.container { width:90% !important; }</style>\"))\n",
    "import numpy as np\n",
    "import sympy as sym"
   ]
  },
  {
   "cell_type": "code",
   "execution_count": 2,
   "id": "532a83da",
   "metadata": {},
   "outputs": [],
   "source": [
    "x = sym.Symbol('x',real=True)\n",
    "y = sym.Symbol('y',real=True)"
   ]
  },
  {
   "cell_type": "code",
   "execution_count": 3,
   "id": "879d339f",
   "metadata": {},
   "outputs": [],
   "source": [
    "def f(x,y):\n",
    "    \n",
    "    z = x + sym.I*y\n",
    "    f = z**2 + 1\n",
    "    f = f.expand()\n",
    "    return sym.re(f),sym.im(f)"
   ]
  },
  {
   "cell_type": "code",
   "execution_count": 4,
   "id": "2e2732c2",
   "metadata": {},
   "outputs": [
    {
     "data": {
      "text/plain": [
       "[x**2 - y**2 + 1, 2*x*y]"
      ]
     },
     "execution_count": 4,
     "metadata": {},
     "output_type": "execute_result"
    }
   ],
   "source": [
    "f0,f1 = f(x,y)\n",
    "F = [f0,f1]\n",
    "F"
   ]
  },
  {
   "cell_type": "code",
   "execution_count": 6,
   "id": "fe80a649",
   "metadata": {},
   "outputs": [
    {
     "data": {
      "text/latex": [
       "$\\displaystyle \\left[\\begin{matrix}2 x & - 2 y\\\\2 y & 2 x\\end{matrix}\\right]$"
      ],
      "text/plain": [
       "Matrix([\n",
       "[2*x, -2*y],\n",
       "[2*y,  2*x]])"
      ]
     },
     "execution_count": 6,
     "metadata": {},
     "output_type": "execute_result"
    }
   ],
   "source": [
    "J = sym.zeros(2,2)\n",
    "\n",
    "for i in range(2):\n",
    "    for j in range(2):\n",
    "        if j==0:\n",
    "            J[i,j] = sym.diff(F[i],x,1)\n",
    "        else:\n",
    "            J[i,j] = sym.diff(F[i],y,1)\n",
    "\n",
    "J"
   ]
  },
  {
   "cell_type": "code",
   "execution_count": 7,
   "id": "947bfa14",
   "metadata": {},
   "outputs": [
    {
     "data": {
      "text/latex": [
       "$\\displaystyle \\left[\\begin{matrix}\\frac{1 - \\frac{2 y^{2}}{x \\left(2 x + \\frac{2 y^{2}}{x}\\right)}}{2 x} & \\frac{y}{x \\left(2 x + \\frac{2 y^{2}}{x}\\right)}\\\\- \\frac{y}{x \\left(2 x + \\frac{2 y^{2}}{x}\\right)} & \\frac{1}{2 x + \\frac{2 y^{2}}{x}}\\end{matrix}\\right]$"
      ],
      "text/plain": [
       "Matrix([\n",
       "[(1 - 2*y**2/(x*(2*x + 2*y**2/x)))/(2*x), y/(x*(2*x + 2*y**2/x))],\n",
       "[                -y/(x*(2*x + 2*y**2/x)),     1/(2*x + 2*y**2/x)]])"
      ]
     },
     "execution_count": 7,
     "metadata": {},
     "output_type": "execute_result"
    }
   ],
   "source": [
    "InvJ = J.inv(method='LU')\n",
    "InvJ"
   ]
  },
  {
   "cell_type": "code",
   "execution_count": 12,
   "id": "3a5bd886",
   "metadata": {},
   "outputs": [],
   "source": [
    "Fn = sym.lambdify([x,y],F,'numpy')\n",
    "IJn = sym.lambdify([x,y],InvJ,'numpy')"
   ]
  },
  {
   "cell_type": "code",
   "execution_count": 13,
   "id": "fab8853c",
   "metadata": {},
   "outputs": [
    {
     "data": {
      "text/plain": [
       "array([[ 0.25,  0.25],\n",
       "       [-0.25,  0.25]])"
      ]
     },
     "execution_count": 13,
     "metadata": {},
     "output_type": "execute_result"
    }
   ],
   "source": [
    "IJn(1.,1.)"
   ]
  },
  {
   "cell_type": "code",
   "execution_count": 14,
   "id": "3448928d",
   "metadata": {},
   "outputs": [],
   "source": [
    "def NewtonRaphson(z,Fn,Jn,itmax=100,precision=1e-9):\n",
    "    \n",
    "    error = 1\n",
    "    it = 0\n",
    "    \n",
    "    while error > precision and it < itmax:\n",
    "        \n",
    "        IFn = Fn(z[0],z[1])\n",
    "        IJn = Jn(z[0],z[1])\n",
    "        \n",
    "        z1 = z - np.dot(IJn,IFn)\n",
    "        \n",
    "        error = np.max( np.abs(z1-z) )\n",
    "        \n",
    "        z = z1\n",
    "        it +=1\n",
    "        \n",
    "    print(it)\n",
    "    return z"
   ]
  },
  {
   "cell_type": "code",
   "execution_count": 17,
   "id": "afa738ef",
   "metadata": {},
   "outputs": [
    {
     "name": "stdout",
     "output_type": "stream",
     "text": [
      "6\n"
     ]
    },
    {
     "data": {
      "text/plain": [
       "array([ 0., -1.])"
      ]
     },
     "execution_count": 17,
     "metadata": {},
     "output_type": "execute_result"
    }
   ],
   "source": [
    "z0 = np.array([1,-2])\n",
    "zsol = NewtonRaphson(z0,Fn,IJn)\n",
    "zsol"
   ]
  },
  {
   "cell_type": "code",
   "execution_count": null,
   "id": "c9eaadbc",
   "metadata": {},
   "outputs": [],
   "source": []
  }
 ],
 "metadata": {
  "kernelspec": {
   "display_name": "Python 3 (ipykernel)",
   "language": "python",
   "name": "python3"
  },
  "language_info": {
   "codemirror_mode": {
    "name": "ipython",
    "version": 3
   },
   "file_extension": ".py",
   "mimetype": "text/x-python",
   "name": "python",
   "nbconvert_exporter": "python",
   "pygments_lexer": "ipython3",
   "version": "3.9.12"
  }
 },
 "nbformat": 4,
 "nbformat_minor": 5
}
