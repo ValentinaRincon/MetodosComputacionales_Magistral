{
 "cells": [
  {
   "cell_type": "code",
   "execution_count": 15,
   "id": "2764eb6e",
   "metadata": {},
   "outputs": [],
   "source": [
    "import numpy as np\n",
    "import matplotlib.pyplot as plt"
   ]
  },
  {
   "cell_type": "code",
   "execution_count": 16,
   "id": "763ad0c7",
   "metadata": {},
   "outputs": [],
   "source": [
    "x = np.linspace(0,8,10)\n",
    "\n",
    "y = np.zeros((3,len(x)))\n",
    "\n",
    "y[0] = 2*x-2\n",
    "y[1] = -0.5*x + 0.5\n",
    "y[2] = 4 - x"
   ]
  },
  {
   "cell_type": "code",
   "execution_count": 17,
   "id": "1de13b88",
   "metadata": {},
   "outputs": [
    {
     "name": "stdout",
     "output_type": "stream",
     "text": [
      "(3, 2)\n",
      "(3,)\n"
     ]
    }
   ],
   "source": [
    "A = np.array([[2,-1],[1,2],[1,1]])\n",
    "b = np.array([2,1,4])\n",
    "At = A.T\n",
    "print(A.shape)\n",
    "print(b.shape)"
   ]
  },
  {
   "cell_type": "code",
   "execution_count": 18,
   "id": "de2745ff",
   "metadata": {},
   "outputs": [
    {
     "name": "stdout",
     "output_type": "stream",
     "text": [
      "[[ 2  1  1]\n",
      " [-1  2  1]]\n"
     ]
    }
   ],
   "source": [
    "print(At)"
   ]
  },
  {
   "cell_type": "code",
   "execution_count": 19,
   "id": "43e7fd82",
   "metadata": {},
   "outputs": [
    {
     "name": "stdout",
     "output_type": "stream",
     "text": [
      "[[6 1]\n",
      " [1 6]]\n"
     ]
    }
   ],
   "source": [
    "M = np.dot(At,A)\n",
    "print(M)"
   ]
  },
  {
   "cell_type": "code",
   "execution_count": 20,
   "id": "81c90bfd",
   "metadata": {},
   "outputs": [],
   "source": [
    "bt = np.dot(At,b)"
   ]
  },
  {
   "cell_type": "code",
   "execution_count": 21,
   "id": "2fb49f13",
   "metadata": {},
   "outputs": [
    {
     "name": "stdout",
     "output_type": "stream",
     "text": [
      "[9 4]\n"
     ]
    }
   ],
   "source": [
    "print(bt)"
   ]
  },
  {
   "cell_type": "code",
   "execution_count": 22,
   "id": "cf267de3",
   "metadata": {},
   "outputs": [],
   "source": [
    "xsol = np.linalg.solve(M,bt)"
   ]
  },
  {
   "cell_type": "code",
   "execution_count": 23,
   "id": "79645362",
   "metadata": {},
   "outputs": [
    {
     "name": "stdout",
     "output_type": "stream",
     "text": [
      "[1.42857143 0.42857143]\n"
     ]
    }
   ],
   "source": [
    "print(xsol)"
   ]
  },
  {
   "cell_type": "code",
   "execution_count": 28,
   "id": "9fc81dad",
   "metadata": {},
   "outputs": [
    {
     "data": {
      "text/plain": [
       "<matplotlib.collections.PathCollection at 0x7f4ab9cf6af0>"
      ]
     },
     "execution_count": 28,
     "metadata": {},
     "output_type": "execute_result"
    },
    {
     "data": {
      "image/png": "[encoded data removed]",
      "text/plain": [
       "<Figure size 432x288 with 1 Axes>"
      ]
     },
     "metadata": {
      "needs_background": "light"
     },
     "output_type": "display_data"
    }
   ],
   "source": [
    "for l in range(y.shape[0]):\n",
    "    plt.plot(x,y[l],ls='--',lw=2)\n",
    "plt.scatter(xsol[0],xsol[1],color='r')"
   ]
  },
  {
   "cell_type": "code",
   "execution_count": 25,
   "id": "d3580b7d",
   "metadata": {},
   "outputs": [
    {
     "data": {
      "text/plain": [
       "2.5354627641855494"
      ]
     },
     "execution_count": 25,
     "metadata": {},
     "output_type": "execute_result"
    }
   ],
   "source": [
    "# Esta sería la menor distancia\n",
    "np.linalg.norm(np.dot(A,xsol)-b)"
   ]
  },
  {
   "cell_type": "code",
   "execution_count": 29,
   "id": "7b029dba",
   "metadata": {},
   "outputs": [
    {
     "data": {
      "text/plain": [
       "5.0"
      ]
     },
     "execution_count": 29,
     "metadata": {},
     "output_type": "execute_result"
    }
   ],
   "source": [
    "# En otro lugar, la distancia siempre es mayor.\n",
    "np.linalg.norm(np.dot(A,[2.,2.])-b)"
   ]
  },
  {
   "cell_type": "code",
   "execution_count": null,
   "id": "cb4fd52d",
   "metadata": {},
   "outputs": [],
   "source": []
  }
 ],
 "metadata": {
  "kernelspec": {
   "display_name": "Python 3 (ipykernel)",
   "language": "python",
   "name": "python3"
  },
  "language_info": {
   "codemirror_mode": {
    "name": "ipython",
    "version": 3
   },
   "file_extension": ".py",
   "mimetype": "text/x-python",
   "name": "python",
   "nbconvert_exporter": "python",
   "pygments_lexer": "ipython3",
   "version": "3.9.12"
  }
 },
 "nbformat": 4,
 "nbformat_minor": 5
}
