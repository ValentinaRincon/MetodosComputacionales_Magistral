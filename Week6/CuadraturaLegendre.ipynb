{
 "cells": [
  {
   "cell_type": "code",
   "execution_count": 7,
   "id": "b2b94732",
   "metadata": {},
   "outputs": [
    {
     "data": {
      "text/html": [
       "<style>.container { width:100% !important; }</style>"
      ],
      "text/plain": [
       "<IPython.core.display.HTML object>"
      ]
     },
     "metadata": {},
     "output_type": "display_data"
    }
   ],
   "source": [
    "from IPython.display import display, HTML\n",
    "display(HTML(\"<style>.container { width:100% !important; }</style>\"))\n",
    "import numpy as np\n",
    "import matplotlib.pyplot as plt\n",
    "from scipy import integrate\n",
    "import sympy as sym\n",
    "sym.init_printing(use_unicode=True)"
   ]
  },
  {
   "cell_type": "code",
   "execution_count": 9,
   "id": "7a2da5dc",
   "metadata": {},
   "outputs": [
    {
     "name": "stdout",
     "output_type": "stream",
     "text": [
      "Machine parameters for float64\n",
      "---------------------------------------------------------------\n",
      "precision =  15   resolution = 1.0000000000000001e-15\n",
      "machep =    -52   eps =        2.2204460492503131e-16\n",
      "negep =     -53   epsneg =     1.1102230246251565e-16\n",
      "minexp =  -1022   tiny =       2.2250738585072014e-308\n",
      "maxexp =   1024   max =        1.7976931348623157e+308\n",
      "nexp =       11   min =        -max\n",
      "smallest_normal = 2.2250738585072014e-308   smallest_subnormal = 4.9406564584124654e-324\n",
      "---------------------------------------------------------------\n",
      "\n"
     ]
    }
   ],
   "source": [
    "print(np.finfo(np.float64))"
   ]
  },
  {
   "cell_type": "code",
   "execution_count": 10,
   "id": "6c36ec67",
   "metadata": {},
   "outputs": [],
   "source": [
    "a = 0.\n",
    "b = 0.25*np.pi\n",
    "f = lambda x: np.sin(x)"
   ]
  },
  {
   "cell_type": "code",
   "execution_count": 12,
   "id": "a1d266bb",
   "metadata": {},
   "outputs": [
    {
     "data": {
      "image/png": "[encoded data removed]",
      "text/latex": [
       "$\\displaystyle 0.292893218813452$"
      ],
      "text/plain": [
       "0.2928932188134524"
      ]
     },
     "execution_count": 12,
     "metadata": {},
     "output_type": "execute_result"
    }
   ],
   "source": [
    "I = -np.cos(b) + np.cos(a)\n",
    "I"
   ]
  },
  {
   "cell_type": "code",
   "execution_count": 37,
   "id": "86348bac",
   "metadata": {},
   "outputs": [
    {
     "data": {
      "text/plain": [
       "(array([-0.93246951, -0.66120939, -0.23861919,  0.23861919,  0.66120939,\n",
       "         0.93246951]),\n",
       " array([0.17132449, 0.36076157, 0.46791393, 0.46791393, 0.36076157,\n",
       "        0.17132449]))"
      ]
     },
     "execution_count": 37,
     "metadata": {},
     "output_type": "execute_result"
    }
   ],
   "source": [
    "n = 6\n",
    "Roots, Weights = np.polynomial.legendre.leggauss(n)\n",
    "Roots,Weights"
   ]
  },
  {
   "cell_type": "code",
   "execution_count": 38,
   "id": "36753925",
   "metadata": {},
   "outputs": [
    {
     "data": {
      "image/png": "[encoded data removed]",
      "text/latex": [
       "$\\displaystyle 0.292893218813452$"
      ],
      "text/plain": [
       "0.2928932188134525"
      ]
     },
     "execution_count": 38,
     "metadata": {},
     "output_type": "execute_result"
    }
   ],
   "source": [
    "t = 0.5*( (b-a)*Roots + a + b )\n",
    "Integral = 0.5*(b-a)*np.sum(Weights*f(t))\n",
    "Integral"
   ]
  },
  {
   "cell_type": "code",
   "execution_count": 39,
   "id": "a1646d8f",
   "metadata": {},
   "outputs": [],
   "source": [
    "x = sym.Symbol('x',real=True)\n",
    "y = sym.Symbol('y',real=True)"
   ]
  },
  {
   "cell_type": "code",
   "execution_count": 40,
   "id": "f44062b3",
   "metadata": {},
   "outputs": [],
   "source": [
    "def GetLegendre(n,x,y):\n",
    "    \n",
    "    y = (x**2 - 1)**n\n",
    "    \n",
    "    poly = sym.diff( y,x,n )/(2**n*np.math.factorial(n))\n",
    "    \n",
    "    return poly"
   ]
  },
  {
   "cell_type": "code",
   "execution_count": 41,
   "id": "2c4ecd4c",
   "metadata": {},
   "outputs": [],
   "source": [
    "Legendre = []\n",
    "DLegendre = []\n",
    "\n",
    "for i in range(n+1):\n",
    "    Poly = GetLegendre(i,x,y)\n",
    "    Legendre.append(Poly)\n",
    "    DLegendre.append(sym.diff(Poly,x,1))"
   ]
  },
  {
   "cell_type": "code",
   "execution_count": 42,
   "id": "b2c97bd6",
   "metadata": {},
   "outputs": [
    {
     "data": {
      "image/png": "[encoded data removed]",
      "text/latex": [
       "$\\displaystyle \\left[ 1, \\  x, \\  \\frac{3 x^{2} - 1}{2}, \\  \\frac{x \\left(5 x^{2} - 3\\right)}{2}, \\  \\frac{8 x^{4} + 24 x^{2} \\left(x^{2} - 1\\right) + 3 \\left(x^{2} - 1\\right)^{2}}{8}, \\  \\frac{x \\left(8 x^{4} + 40 x^{2} \\left(x^{2} - 1\\right) + 15 \\left(x^{2} - 1\\right)^{2}\\right)}{8}, \\  \\frac{16 x^{6} + 120 x^{4} \\left(x^{2} - 1\\right) + 90 x^{2} \\left(x^{2} - 1\\right)^{2} + 5 \\left(x^{2} - 1\\right)^{3}}{16}\\right]$"
      ],
      "text/plain": [
       "⎡                                                                2    ⎛                           \n",
       "⎢         2        ⎛   2    ⎞     4       2 ⎛ 2    ⎞     ⎛ 2    ⎞     ⎜   4       2 ⎛ 2    ⎞      \n",
       "⎢      3⋅x  - 1  x⋅⎝5⋅x  - 3⎠  8⋅x  + 24⋅x ⋅⎝x  - 1⎠ + 3⋅⎝x  - 1⎠   x⋅⎝8⋅x  + 40⋅x ⋅⎝x  - 1⎠ + 15⋅\n",
       "⎢1, x, ────────, ────────────, ───────────────────────────────────, ──────────────────────────────\n",
       "⎣         2           2                         8                                      8          \n",
       "\n",
       "        2⎞                                          2             3⎤\n",
       "⎛ 2    ⎞ ⎟      6        4 ⎛ 2    ⎞       2 ⎛ 2    ⎞      ⎛ 2    ⎞ ⎥\n",
       "⎝x  - 1⎠ ⎠  16⋅x  + 120⋅x ⋅⎝x  - 1⎠ + 90⋅x ⋅⎝x  - 1⎠  + 5⋅⎝x  - 1⎠ ⎥\n",
       "──────────, ───────────────────────────────────────────────────────⎥\n",
       "                                       16                          ⎦"
      ]
     },
     "execution_count": 42,
     "metadata": {},
     "output_type": "execute_result"
    }
   ],
   "source": [
    "Legendre"
   ]
  },
  {
   "cell_type": "code",
   "execution_count": 43,
   "id": "bff60fcd",
   "metadata": {},
   "outputs": [
    {
     "data": {
      "image/png": "[encoded data removed]",
      "text/latex": [
       "$\\displaystyle \\left[ 0, \\  1, \\  3 x, \\  \\frac{15 x^{2}}{2} - \\frac{3}{2}, \\  10 x^{3} + \\frac{15 x \\left(x^{2} - 1\\right)}{2}, \\  x^{4} + 5 x^{2} \\left(x^{2} - 1\\right) + \\frac{x \\left(112 x^{3} + 140 x \\left(x^{2} - 1\\right)\\right)}{8} + \\frac{15 \\left(x^{2} - 1\\right)^{2}}{8}, \\  21 x^{5} + \\frac{105 x^{3} \\left(x^{2} - 1\\right)}{2} + \\frac{105 x \\left(x^{2} - 1\\right)^{2}}{8}\\right]$"
      ],
      "text/plain": [
       "⎡                                                                                                 \n",
       "⎢               2                   ⎛ 2    ⎞                         ⎛     3         ⎛ 2    ⎞⎞    \n",
       "⎢           15⋅x    3      3   15⋅x⋅⎝x  - 1⎠   4      2 ⎛ 2    ⎞   x⋅⎝112⋅x  + 140⋅x⋅⎝x  - 1⎠⎠   1\n",
       "⎢0, 1, 3⋅x, ───── - ─, 10⋅x  + ─────────────, x  + 5⋅x ⋅⎝x  - 1⎠ + ─────────────────────────── + ─\n",
       "⎣             2     2                2                                          8                 \n",
       "\n",
       "          2                                          2⎤\n",
       "  ⎛ 2    ⎞                3 ⎛ 2    ⎞         ⎛ 2    ⎞ ⎥\n",
       "5⋅⎝x  - 1⎠       5   105⋅x ⋅⎝x  - 1⎠   105⋅x⋅⎝x  - 1⎠ ⎥\n",
       "───────────, 21⋅x  + ─────────────── + ───────────────⎥\n",
       "    8                       2                 8       ⎦"
      ]
     },
     "execution_count": 43,
     "metadata": {},
     "output_type": "execute_result"
    }
   ],
   "source": [
    "DLegendre"
   ]
  },
  {
   "cell_type": "code",
   "execution_count": null,
   "id": "68bf059e",
   "metadata": {},
   "outputs": [],
   "source": []
  },
  {
   "cell_type": "code",
   "execution_count": 44,
   "id": "755b9da9",
   "metadata": {},
   "outputs": [],
   "source": [
    "def GetNewton(f,df,xn,itmax=10000,precision=1e-14):\n",
    "    \n",
    "    error = 1.\n",
    "    it = 0\n",
    "    \n",
    "    while error >= precision and it < itmax:\n",
    "        \n",
    "        try:\n",
    "            \n",
    "            xn1 = xn - f(xn)/df(xn)\n",
    "            \n",
    "            error = np.abs(f(xn)/df(xn))\n",
    "            \n",
    "        except ZeroDivisionError:\n",
    "            print('Zero Division')\n",
    "            \n",
    "        xn = xn1\n",
    "        it += 1\n",
    "        \n",
    "    if it == itmax:\n",
    "        return False\n",
    "    else:\n",
    "        return xn"
   ]
  },
  {
   "cell_type": "code",
   "execution_count": 45,
   "id": "2194b43a",
   "metadata": {},
   "outputs": [],
   "source": [
    "def GetRoots(f,df,x,tolerancia = 14):\n",
    "    \n",
    "    Roots = np.array([])\n",
    "    \n",
    "    for i in x:\n",
    "        \n",
    "        root = GetNewton(f,df,i)\n",
    "        \n",
    "        if root != False:\n",
    "            \n",
    "            croot = np.round( root, tolerancia )\n",
    "            \n",
    "            if croot not in Roots:\n",
    "                Roots = np.append(Roots, croot)\n",
    "                \n",
    "    Roots.sort()\n",
    "    \n",
    "    return Roots"
   ]
  },
  {
   "cell_type": "code",
   "execution_count": 46,
   "id": "6de8b2ec",
   "metadata": {},
   "outputs": [],
   "source": [
    "def GetAllRoots(n,xn,Legendre,DLegendre):\n",
    "    \n",
    "    poly = sym.lambdify([x],Legendre[n],'numpy')\n",
    "    Dpoly = sym.lambdify([x],DLegendre[n],'numpy')\n",
    "    Roots = GetRoots(poly,Dpoly,xn)\n",
    "    \n",
    "    return Roots"
   ]
  },
  {
   "cell_type": "code",
   "execution_count": 47,
   "id": "8df992db",
   "metadata": {},
   "outputs": [],
   "source": [
    "xn = np.linspace(-1,1,100)\n",
    "Roots1 = GetAllRoots(n,xn,Legendre,DLegendre)"
   ]
  },
  {
   "cell_type": "code",
   "execution_count": 48,
   "id": "ab0177cf",
   "metadata": {},
   "outputs": [
    {
     "data": {
      "text/plain": [
       "array([-0.93246951, -0.66120939, -0.23861919,  0.23861919,  0.66120939,\n",
       "        0.93246951])"
      ]
     },
     "execution_count": 48,
     "metadata": {},
     "output_type": "execute_result"
    }
   ],
   "source": [
    "Roots1"
   ]
  },
  {
   "cell_type": "code",
   "execution_count": 49,
   "id": "b25fde61",
   "metadata": {},
   "outputs": [
    {
     "data": {
      "text/plain": [
       "array([-0.93246951, -0.66120939, -0.23861919,  0.23861919,  0.66120939,\n",
       "        0.93246951])"
      ]
     },
     "execution_count": 49,
     "metadata": {},
     "output_type": "execute_result"
    }
   ],
   "source": [
    "Roots"
   ]
  },
  {
   "cell_type": "code",
   "execution_count": 51,
   "id": "6ae0b12e",
   "metadata": {},
   "outputs": [
    {
     "data": {
      "text/plain": [
       "array([0.17132449, 0.36076157, 0.46791393, 0.46791393, 0.36076157,\n",
       "       0.17132449])"
      ]
     },
     "execution_count": 51,
     "metadata": {},
     "output_type": "execute_result"
    }
   ],
   "source": [
    "Weights"
   ]
  },
  {
   "cell_type": "code",
   "execution_count": 54,
   "id": "28b4aa82",
   "metadata": {},
   "outputs": [],
   "source": [
    "def GetWeights(Roots,DLegendre):\n",
    "    \n",
    "    Dpoly = sym.lambdify([x],DLegendre[n],'numpy')\n",
    "    Weights = 2/((1-Roots**2)*Dpoly(Roots)**2)\n",
    "    \n",
    "    return Weights"
   ]
  },
  {
   "cell_type": "code",
   "execution_count": 55,
   "id": "5f4522fb",
   "metadata": {},
   "outputs": [
    {
     "data": {
      "text/plain": [
       "array([0.17132449, 0.36076157, 0.46791393, 0.46791393, 0.36076157,\n",
       "       0.17132449])"
      ]
     },
     "execution_count": 55,
     "metadata": {},
     "output_type": "execute_result"
    }
   ],
   "source": [
    "GetWeights(Roots,DLegendre)"
   ]
  },
  {
   "cell_type": "code",
   "execution_count": null,
   "id": "f0e43f92",
   "metadata": {},
   "outputs": [],
   "source": []
  },
  {
   "cell_type": "code",
   "execution_count": 5,
   "id": "d66340f7",
   "metadata": {},
   "outputs": [],
   "source": [
    "f = lambda x: np.sin(x)\n",
    "a = 0.\n",
    "b = 0.25*np.pi"
   ]
  },
  {
   "cell_type": "code",
   "execution_count": 6,
   "id": "c61ba950",
   "metadata": {},
   "outputs": [
    {
     "data": {
      "image/png": "[encoded data removed]",
      "text/latex": [
       "$\\displaystyle \\left( 0.292893218813452, \\  3.25176795283269 \\cdot 10^{-15}\\right)$"
      ],
      "text/plain": [
       "(0.2928932188134524, 3.2517679528326894e-15)"
      ]
     },
     "execution_count": 6,
     "metadata": {},
     "output_type": "execute_result"
    }
   ],
   "source": [
    "# Integral usando scipy\n",
    "integrate.quad(f,a,b)"
   ]
  },
  {
   "cell_type": "code",
   "execution_count": null,
   "id": "a199d239",
   "metadata": {},
   "outputs": [],
   "source": []
  },
  {
   "cell_type": "code",
   "execution_count": null,
   "id": "14cae28a",
   "metadata": {},
   "outputs": [],
   "source": []
  },
  {
   "cell_type": "code",
   "execution_count": null,
   "id": "c917ea48",
   "metadata": {},
   "outputs": [],
   "source": []
  }
 ],
 "metadata": {
  "kernelspec": {
   "display_name": "Python 3 (ipykernel)",
   "language": "python",
   "name": "python3"
  },
  "language_info": {
   "codemirror_mode": {
    "name": "ipython",
    "version": 3
   },
   "file_extension": ".py",
   "mimetype": "text/x-python",
   "name": "python",
   "nbconvert_exporter": "python",
   "pygments_lexer": "ipython3",
   "version": "3.9.12"
  }
 },
 "nbformat": 4,
 "nbformat_minor": 5
}
