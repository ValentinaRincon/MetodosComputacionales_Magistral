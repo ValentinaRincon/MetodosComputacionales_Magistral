{
 "cells": [
  {
   "cell_type": "code",
   "execution_count": 1,
   "id": "ced93bbc",
   "metadata": {},
   "outputs": [],
   "source": [
    "import numpy as np\n",
    "import matplotlib.pyplot as plt\n",
    "import scipy.optimize as spo\n",
    "from scipy import integrate"
   ]
  },
  {
   "cell_type": "code",
   "execution_count": 2,
   "id": "dfd692be",
   "metadata": {},
   "outputs": [],
   "source": [
    "def Likelihood(mu,n,b,s):\n",
    "    \n",
    "    l = mu*s + b\n",
    "    \n",
    "    L = np.exp( -l ) * l**n / np.math.factorial(int(n))\n",
    "    \n",
    "    return L"
   ]
  },
  {
   "cell_type": "code",
   "execution_count": 3,
   "id": "ca6dbd88",
   "metadata": {},
   "outputs": [
    {
     "data": {
      "text/plain": [
       "0.25651562069968376"
      ]
     },
     "execution_count": 3,
     "metadata": {},
     "output_type": "execute_result"
    }
   ],
   "source": [
    "Likelihood(0.5,2.,2.,1.)"
   ]
  },
  {
   "cell_type": "code",
   "execution_count": 4,
   "id": "4bbc9182",
   "metadata": {},
   "outputs": [],
   "source": [
    "def JointLikelihood(mu,data):\n",
    "    \n",
    "    N = data.shape[0]\n",
    "    \n",
    "    n = data[:,0]\n",
    "    b = data[:,1]\n",
    "    s = data[:,2]\n",
    "    \n",
    "    JointL = 1.\n",
    "    \n",
    "    for c in range(N):\n",
    "        JointL *= Likelihood(mu,n[c],b[c],s[c])\n",
    "        \n",
    "    return JointL"
   ]
  },
  {
   "cell_type": "code",
   "execution_count": 48,
   "id": "dde01e7e",
   "metadata": {},
   "outputs": [],
   "source": [
    "def JointLogLikelihood(mu,data):\n",
    "    \n",
    "    N = data.shape[0]\n",
    "    \n",
    "    n = data[:,0]\n",
    "    b = data[:,1]\n",
    "    s = data[:,2]\n",
    "    \n",
    "    JointL = 0.\n",
    "    \n",
    "    for c in range(N):\n",
    "        JointL += np.log(Likelihood(mu,n[c],b[c],s[c]))\n",
    "        \n",
    "    return -JointL"
   ]
  },
  {
   "cell_type": "code",
   "execution_count": 49,
   "id": "c02c0411",
   "metadata": {},
   "outputs": [
    {
     "data": {
      "text/plain": [
       "array([[0., 0., 1.]])"
      ]
     },
     "execution_count": 49,
     "metadata": {},
     "output_type": "execute_result"
    }
   ],
   "source": [
    "n = np.array([0])\n",
    "b = np.array([0])\n",
    "s = np.array([1])\n",
    "\n",
    "N = n.shape[0]\n",
    "\n",
    "data = np.zeros((N,3))\n",
    "\n",
    "data[:,0] = n\n",
    "data[:,1] = b\n",
    "data[:,2] = s\n",
    "\n",
    "data"
   ]
  },
  {
   "cell_type": "code",
   "execution_count": 50,
   "id": "83eb7224",
   "metadata": {},
   "outputs": [],
   "source": [
    "mu = np.linspace(0.,4.,100)\n",
    "JointLike = JointLikelihood(mu,data)"
   ]
  },
  {
   "cell_type": "code",
   "execution_count": 51,
   "id": "984fbd3a",
   "metadata": {},
   "outputs": [
    {
     "data": {
      "text/plain": [
       "[<matplotlib.lines.Line2D at 0x7fa670436dc0>]"
      ]
     },
     "execution_count": 51,
     "metadata": {},
     "output_type": "execute_result"
    },
    {
     "data": {
      "image/png": "[encoded data removed]",
      "text/plain": [
       "<Figure size 432x288 with 1 Axes>"
      ]
     },
     "metadata": {
      "needs_background": "light"
     },
     "output_type": "display_data"
    }
   ],
   "source": [
    "plt.plot(mu,JointLike)"
   ]
  },
  {
   "cell_type": "code",
   "execution_count": 52,
   "id": "93eda1a7",
   "metadata": {},
   "outputs": [
    {
     "data": {
      "text/plain": [
       "1.0000000000000002"
      ]
     },
     "execution_count": 52,
     "metadata": {},
     "output_type": "execute_result"
    }
   ],
   "source": [
    "Norm = integrate.quad( JointLikelihood, 0, np.inf, args=(data) )[0]\n",
    "Norm"
   ]
  },
  {
   "cell_type": "code",
   "execution_count": 53,
   "id": "2663a015",
   "metadata": {},
   "outputs": [],
   "source": [
    "JointLike = JointLike/Norm"
   ]
  },
  {
   "cell_type": "code",
   "execution_count": 54,
   "id": "b21d31f5",
   "metadata": {},
   "outputs": [
    {
     "name": "stdout",
     "output_type": "stream",
     "text": [
      "2.9939000000018936 0.9499032929202184\n"
     ]
    }
   ],
   "source": [
    "#Calcular el percentile 95\n",
    "mup = 0.\n",
    "I = 0.\n",
    "tolerancia = 1e-4\n",
    "\n",
    "while np.abs(I - 0.95) > tolerancia:\n",
    "    \n",
    "    I = integrate.quad( JointLikelihood, 0.,mup, args=(data) )[0]\n",
    "    \n",
    "    mup += tolerancia\n",
    "    \n",
    "print(mup,I)"
   ]
  },
  {
   "cell_type": "code",
   "execution_count": 55,
   "id": "f54a2c65",
   "metadata": {},
   "outputs": [
    {
     "data": {
      "text/plain": [
       "<matplotlib.lines.Line2D at 0x7fa67051f9d0>"
      ]
     },
     "execution_count": 55,
     "metadata": {},
     "output_type": "execute_result"
    },
    {
     "data": {
      "image/png": "[encoded data removed]",
      "text/plain": [
       "<Figure size 432x288 with 1 Axes>"
      ]
     },
     "metadata": {
      "needs_background": "light"
     },
     "output_type": "display_data"
    }
   ],
   "source": [
    "plt.plot(mu,JointLike)\n",
    "plt.axvline(x=mup,color='r')"
   ]
  },
  {
   "cell_type": "code",
   "execution_count": 56,
   "id": "e0ad55d5",
   "metadata": {},
   "outputs": [
    {
     "data": {
      "text/plain": [
       "array([[1., 0., 1.]])"
      ]
     },
     "execution_count": 56,
     "metadata": {},
     "output_type": "execute_result"
    }
   ],
   "source": [
    "n = np.array([1])\n",
    "b = np.array([0])\n",
    "s = np.array([1])\n",
    "\n",
    "N = n.shape[0]\n",
    "\n",
    "data1 = np.zeros((N,3))\n",
    "\n",
    "data1[:,0] = n\n",
    "data1[:,1] = b\n",
    "data1[:,2] = s\n",
    "\n",
    "data1"
   ]
  },
  {
   "cell_type": "code",
   "execution_count": 57,
   "id": "5435a996",
   "metadata": {},
   "outputs": [],
   "source": [
    "JointLike1 = JointLikelihood(mu,data1)"
   ]
  },
  {
   "cell_type": "code",
   "execution_count": 58,
   "id": "4d62321f",
   "metadata": {},
   "outputs": [
    {
     "data": {
      "text/plain": [
       "[<matplotlib.lines.Line2D at 0x7fa670391610>]"
      ]
     },
     "execution_count": 58,
     "metadata": {},
     "output_type": "execute_result"
    },
    {
     "data": {
      "image/png": "[encoded data removed]",
      "text/plain": [
       "<Figure size 432x288 with 1 Axes>"
      ]
     },
     "metadata": {
      "needs_background": "light"
     },
     "output_type": "display_data"
    }
   ],
   "source": [
    "plt.plot(mu,JointLike1)"
   ]
  },
  {
   "cell_type": "code",
   "execution_count": 59,
   "id": "fb4e13e8",
   "metadata": {},
   "outputs": [
    {
     "name": "stdout",
     "output_type": "stream",
     "text": [
      "1.0101010101010102\n"
     ]
    }
   ],
   "source": [
    "ii = np.where( JointLike1 == np.amax(JointLike1) )\n",
    "muhat = mu[ii][0]\n",
    "print(muhat)"
   ]
  },
  {
   "cell_type": "code",
   "execution_count": 60,
   "id": "adb22b35",
   "metadata": {},
   "outputs": [
    {
     "data": {
      "text/plain": [
       "<matplotlib.lines.Line2D at 0x7fa6703206a0>"
      ]
     },
     "execution_count": 60,
     "metadata": {},
     "output_type": "execute_result"
    },
    {
     "data": {
      "image/png": "[encoded data removed]",
      "text/plain": [
       "<Figure size 432x288 with 1 Axes>"
      ]
     },
     "metadata": {
      "needs_background": "light"
     },
     "output_type": "display_data"
    }
   ],
   "source": [
    "plt.plot(mu,JointLike)\n",
    "plt.axvline(x=mup,color='r')\n",
    "plt.axvline(x=muhat,color='k')"
   ]
  },
  {
   "cell_type": "code",
   "execution_count": 61,
   "id": "d1865243",
   "metadata": {},
   "outputs": [
    {
     "data": {
      "text/plain": [
       "array([[0., 0., 1.],\n",
       "       [2., 0., 3.],\n",
       "       [1., 0., 2.]])"
      ]
     },
     "execution_count": 61,
     "metadata": {},
     "output_type": "execute_result"
    }
   ],
   "source": [
    "n = np.array([0,2,1])\n",
    "b = np.array([0,0,0])\n",
    "s = np.array([1,3,2])\n",
    "\n",
    "N = n.shape[0]\n",
    "\n",
    "data2 = np.zeros((N,3))\n",
    "\n",
    "data2[:,0] = n\n",
    "data2[:,1] = b\n",
    "data2[:,2] = s\n",
    "\n",
    "data2"
   ]
  },
  {
   "cell_type": "code",
   "execution_count": 62,
   "id": "af239083",
   "metadata": {},
   "outputs": [],
   "source": [
    "JointLike2 = JointLikelihood(mu,data2)"
   ]
  },
  {
   "cell_type": "code",
   "execution_count": 63,
   "id": "f139d5a8",
   "metadata": {},
   "outputs": [
    {
     "data": {
      "text/plain": [
       "[<matplotlib.lines.Line2D at 0x7fa6709c0df0>]"
      ]
     },
     "execution_count": 63,
     "metadata": {},
     "output_type": "execute_result"
    },
    {
     "data": {
      "image/png": "[encoded data removed]",
      "text/plain": [
       "<Figure size 432x288 with 1 Axes>"
      ]
     },
     "metadata": {
      "needs_background": "light"
     },
     "output_type": "display_data"
    }
   ],
   "source": [
    "plt.plot(mu,JointLike2)"
   ]
  },
  {
   "cell_type": "code",
   "execution_count": 64,
   "id": "34b79322",
   "metadata": {},
   "outputs": [
    {
     "data": {
      "text/plain": [
       "0.04166666666666671"
      ]
     },
     "execution_count": 64,
     "metadata": {},
     "output_type": "execute_result"
    }
   ],
   "source": [
    "Norm = integrate.quad( JointLikelihood, 0, np.inf, args=(data2) )[0]\n",
    "Norm"
   ]
  },
  {
   "cell_type": "code",
   "execution_count": 65,
   "id": "59d1244a",
   "metadata": {},
   "outputs": [],
   "source": [
    "JointLike2 = JointLike2/Norm"
   ]
  },
  {
   "cell_type": "code",
   "execution_count": 66,
   "id": "41618eff",
   "metadata": {},
   "outputs": [
    {
     "data": {
      "text/plain": [
       "[<matplotlib.lines.Line2D at 0x7fa6706d15e0>]"
      ]
     },
     "execution_count": 66,
     "metadata": {},
     "output_type": "execute_result"
    },
    {
     "data": {
      "image/png": "[encoded data removed]",
      "text/plain": [
       "<Figure size 432x288 with 1 Axes>"
      ]
     },
     "metadata": {
      "needs_background": "light"
     },
     "output_type": "display_data"
    }
   ],
   "source": [
    "plt.plot(mu,JointLike2)"
   ]
  },
  {
   "cell_type": "code",
   "execution_count": 67,
   "id": "4c0829ee",
   "metadata": {},
   "outputs": [
    {
     "data": {
      "text/plain": [
       "3.8310891599660817"
      ]
     },
     "execution_count": 67,
     "metadata": {},
     "output_type": "execute_result"
    }
   ],
   "source": [
    "nll = lambda *p: JointLogLikelihood(*p)\n",
    "nll(0.2,data2)"
   ]
  },
  {
   "cell_type": "code",
   "execution_count": 70,
   "id": "808b36ca",
   "metadata": {},
   "outputs": [
    {
     "name": "stdout",
     "output_type": "stream",
     "text": [
      "Optimization terminated successfully.\n",
      "         Current function value: 2.882217\n",
      "         Iterations: 0\n",
      "         Function evaluations: 2\n",
      "         Gradient evaluations: 1\n"
     ]
    }
   ],
   "source": [
    "m0 = 0.5\n",
    "result = spo.minimize(nll,m0,args=(data2),options={'disp':True})"
   ]
  },
  {
   "cell_type": "code",
   "execution_count": 71,
   "id": "3d8f191b",
   "metadata": {},
   "outputs": [
    {
     "data": {
      "text/plain": [
       "      fun: 2.8822169643436166\n",
       " hess_inv: array([[1]])\n",
       "      jac: array([8.94069672e-08])\n",
       "  message: 'Optimization terminated successfully.'\n",
       "     nfev: 2\n",
       "      nit: 0\n",
       "     njev: 1\n",
       "   status: 0\n",
       "  success: True\n",
       "        x: array([0.5])"
      ]
     },
     "execution_count": 71,
     "metadata": {},
     "output_type": "execute_result"
    }
   ],
   "source": [
    "result"
   ]
  },
  {
   "cell_type": "code",
   "execution_count": null,
   "id": "7f83d909",
   "metadata": {},
   "outputs": [],
   "source": []
  }
 ],
 "metadata": {
  "kernelspec": {
   "display_name": "Python 3 (ipykernel)",
   "language": "python",
   "name": "python3"
  },
  "language_info": {
   "codemirror_mode": {
    "name": "ipython",
    "version": 3
   },
   "file_extension": ".py",
   "mimetype": "text/x-python",
   "name": "python",
   "nbconvert_exporter": "python",
   "pygments_lexer": "ipython3",
   "version": "3.9.12"
  }
 },
 "nbformat": 4,
 "nbformat_minor": 5
}
