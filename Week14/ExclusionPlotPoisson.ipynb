{
 "cells": [
  {
   "cell_type": "code",
   "execution_count": 7,
   "id": "ced93bbc",
   "metadata": {},
   "outputs": [],
   "source": [
    "import numpy as np\n",
    "import matplotlib.pyplot as plt\n",
    "import scipy.optimize as spo\n",
    "from scipy import integrate"
   ]
  },
  {
   "cell_type": "code",
   "execution_count": 8,
   "id": "dfd692be",
   "metadata": {},
   "outputs": [],
   "source": [
    "def Likelihood(mu,n,b,s):\n",
    "    \n",
    "    l = mu*s + b\n",
    "    \n",
    "    L = np.exp( -l ) * l**n / np.math.factorial(int(n))\n",
    "    \n",
    "    return L"
   ]
  },
  {
   "cell_type": "code",
   "execution_count": 9,
   "id": "ca6dbd88",
   "metadata": {},
   "outputs": [
    {
     "data": {
      "text/plain": [
       "0.25651562069968376"
      ]
     },
     "execution_count": 9,
     "metadata": {},
     "output_type": "execute_result"
    }
   ],
   "source": [
    "Likelihood(0.5,2.,2.,1.)"
   ]
  },
  {
   "cell_type": "code",
   "execution_count": 11,
   "id": "4bbc9182",
   "metadata": {},
   "outputs": [],
   "source": [
    "def JointLikelihood(mu,data):\n",
    "    \n",
    "    n = data[:,0]\n",
    "    b = data[:,1]\n",
    "    s = data[:,2]"
   ]
  },
  {
   "cell_type": "code",
   "execution_count": null,
   "id": "c02c0411",
   "metadata": {},
   "outputs": [],
   "source": []
  },
  {
   "cell_type": "code",
   "execution_count": null,
   "id": "83eb7224",
   "metadata": {},
   "outputs": [],
   "source": []
  }
 ],
 "metadata": {
  "kernelspec": {
   "display_name": "Python 3 (ipykernel)",
   "language": "python",
   "name": "python3"
  },
  "language_info": {
   "codemirror_mode": {
    "name": "ipython",
    "version": 3
   },
   "file_extension": ".py",
   "mimetype": "text/x-python",
   "name": "python",
   "nbconvert_exporter": "python",
   "pygments_lexer": "ipython3",
   "version": "3.9.12"
  }
 },
 "nbformat": 4,
 "nbformat_minor": 5
}
