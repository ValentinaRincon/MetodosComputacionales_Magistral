{
 "cells": [
  {
   "cell_type": "code",
   "execution_count": 1,
   "id": "ced93bbc",
   "metadata": {},
   "outputs": [],
   "source": [
    "import numpy as np\n",
    "import matplotlib.pyplot as plt\n",
    "import scipy.optimize as spo\n",
    "from scipy import integrate"
   ]
  },
  {
   "cell_type": "code",
   "execution_count": 2,
   "id": "dfd692be",
   "metadata": {},
   "outputs": [],
   "source": [
    "def Likelihood(mu,n,b,s):\n",
    "    \n",
    "    l = mu*s + b\n",
    "    \n",
    "    L = np.exp( -l ) * l**n / np.math.factorial(int(n))\n",
    "    \n",
    "    return L"
   ]
  },
  {
   "cell_type": "code",
   "execution_count": 3,
   "id": "ca6dbd88",
   "metadata": {},
   "outputs": [
    {
     "data": {
      "text/plain": [
       "0.25651562069968376"
      ]
     },
     "execution_count": 3,
     "metadata": {},
     "output_type": "execute_result"
    }
   ],
   "source": [
    "Likelihood(0.5,2.,2.,1.)"
   ]
  },
  {
   "cell_type": "code",
   "execution_count": 4,
   "id": "4bbc9182",
   "metadata": {},
   "outputs": [],
   "source": [
    "def JointLikelihood(mu,data):\n",
    "    \n",
    "    N = data.shape[0]\n",
    "    \n",
    "    n = data[:,0]\n",
    "    b = data[:,1]\n",
    "    s = data[:,2]\n",
    "    \n",
    "    JointL = 1.\n",
    "    \n",
    "    for c in range(N):\n",
    "        JointL *= Likelihood(mu,n[c],b[c],s[c])\n",
    "        \n",
    "    return JointL"
   ]
  },
  {
   "cell_type": "code",
   "execution_count": 6,
   "id": "c02c0411",
   "metadata": {},
   "outputs": [
    {
     "data": {
      "text/plain": [
       "array([[0., 0., 1.]])"
      ]
     },
     "execution_count": 6,
     "metadata": {},
     "output_type": "execute_result"
    }
   ],
   "source": [
    "n = np.array([0])\n",
    "b = np.array([0])\n",
    "s = np.array([1])\n",
    "\n",
    "N = n.shape[0]\n",
    "\n",
    "data = np.zeros((N,3))\n",
    "\n",
    "data[:,0] = n\n",
    "data[:,1] = b\n",
    "data[:,2] = s\n",
    "\n",
    "data"
   ]
  },
  {
   "cell_type": "code",
   "execution_count": 7,
   "id": "83eb7224",
   "metadata": {},
   "outputs": [],
   "source": [
    "mu = np.linspace(0.,4.,100)\n",
    "JointLike = JointLikelihood(mu,data)"
   ]
  },
  {
   "cell_type": "code",
   "execution_count": 8,
   "id": "86cc411c",
   "metadata": {},
   "outputs": [
    {
     "data": {
      "text/plain": [
       "[<matplotlib.lines.Line2D at 0x7fa6735c6970>]"
      ]
     },
     "execution_count": 8,
     "metadata": {},
     "output_type": "execute_result"
    },
    {
     "data": {
      "image/png": "[encoded data removed]",
      "text/plain": [
       "<Figure size 432x288 with 1 Axes>"
      ]
     },
     "metadata": {
      "needs_background": "light"
     },
     "output_type": "display_data"
    }
   ],
   "source": [
    "plt.plot(mu,JointLike)"
   ]
  },
  {
   "cell_type": "code",
   "execution_count": 10,
   "id": "e087ccc1",
   "metadata": {},
   "outputs": [
    {
     "data": {
      "text/plain": [
       "1.0000000000000002"
      ]
     },
     "execution_count": 10,
     "metadata": {},
     "output_type": "execute_result"
    }
   ],
   "source": [
    "Norm = integrate.quad( JointLikelihood, 0, np.inf, args=(data) )[0]\n",
    "Norm"
   ]
  },
  {
   "cell_type": "code",
   "execution_count": 11,
   "id": "82a7a196",
   "metadata": {},
   "outputs": [],
   "source": [
    "JointLike = JointLike/Norm"
   ]
  },
  {
   "cell_type": "code",
   "execution_count": 12,
   "id": "268c3fbc",
   "metadata": {},
   "outputs": [
    {
     "name": "stdout",
     "output_type": "stream",
     "text": [
      "2.9939000000018936 0.9499032929202184\n"
     ]
    }
   ],
   "source": [
    "#Calcular el percentile 95\n",
    "mup = 0.\n",
    "I = 0.\n",
    "tolerancia = 1e-4\n",
    "\n",
    "while np.abs(I - 0.95) > tolerancia:\n",
    "    \n",
    "    I = integrate.quad( JointLikelihood, 0.,mup, args=(data) )[0]\n",
    "    \n",
    "    mup += tolerancia\n",
    "    \n",
    "print(mup,I)"
   ]
  },
  {
   "cell_type": "code",
   "execution_count": 13,
   "id": "016f505b",
   "metadata": {},
   "outputs": [
    {
     "data": {
      "text/plain": [
       "<matplotlib.lines.Line2D at 0x7fa670a0ff40>"
      ]
     },
     "execution_count": 13,
     "metadata": {},
     "output_type": "execute_result"
    },
    {
     "data": {
      "image/png": "[encoded data removed]",
      "text/plain": [
       "<Figure size 432x288 with 1 Axes>"
      ]
     },
     "metadata": {
      "needs_background": "light"
     },
     "output_type": "display_data"
    }
   ],
   "source": [
    "plt.plot(mu,JointLike)\n",
    "plt.axvline(x=mup,color='r')"
   ]
  },
  {
   "cell_type": "code",
   "execution_count": 14,
   "id": "36f9078d",
   "metadata": {},
   "outputs": [
    {
     "data": {
      "text/plain": [
       "array([[1., 0., 1.]])"
      ]
     },
     "execution_count": 14,
     "metadata": {},
     "output_type": "execute_result"
    }
   ],
   "source": [
    "n = np.array([1])\n",
    "b = np.array([0])\n",
    "s = np.array([1])\n",
    "\n",
    "N = n.shape[0]\n",
    "\n",
    "data1 = np.zeros((N,3))\n",
    "\n",
    "data1[:,0] = n\n",
    "data1[:,1] = b\n",
    "data1[:,2] = s\n",
    "\n",
    "data1"
   ]
  },
  {
   "cell_type": "code",
   "execution_count": 15,
   "id": "e37ecb45",
   "metadata": {},
   "outputs": [],
   "source": [
    "JointLike1 = JointLikelihood(mu,data1)"
   ]
  },
  {
   "cell_type": "code",
   "execution_count": 16,
   "id": "a84aedae",
   "metadata": {},
   "outputs": [
    {
     "data": {
      "text/plain": [
       "[<matplotlib.lines.Line2D at 0x7fa6709948e0>]"
      ]
     },
     "execution_count": 16,
     "metadata": {},
     "output_type": "execute_result"
    },
    {
     "data": {
      "image/png": "[encoded data removed]",
      "text/plain": [
       "<Figure size 432x288 with 1 Axes>"
      ]
     },
     "metadata": {
      "needs_background": "light"
     },
     "output_type": "display_data"
    }
   ],
   "source": [
    "plt.plot(mu,JointLike1)"
   ]
  },
  {
   "cell_type": "code",
   "execution_count": null,
   "id": "12c44eeb",
   "metadata": {},
   "outputs": [],
   "source": []
  }
 ],
 "metadata": {
  "kernelspec": {
   "display_name": "Python 3 (ipykernel)",
   "language": "python",
   "name": "python3"
  },
  "language_info": {
   "codemirror_mode": {
    "name": "ipython",
    "version": 3
   },
   "file_extension": ".py",
   "mimetype": "text/x-python",
   "name": "python",
   "nbconvert_exporter": "python",
   "pygments_lexer": "ipython3",
   "version": "3.9.12"
  }
 },
 "nbformat": 4,
 "nbformat_minor": 5
}
