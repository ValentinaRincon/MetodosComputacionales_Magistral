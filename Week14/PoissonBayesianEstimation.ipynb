{
 "cells": [
  {
   "cell_type": "code",
   "execution_count": 1,
   "id": "16104f81",
   "metadata": {},
   "outputs": [],
   "source": [
    "import numpy as np\n",
    "import matplotlib.pyplot as plt\n",
    "from scipy.stats import poisson"
   ]
  },
  {
   "cell_type": "code",
   "execution_count": 2,
   "id": "cc2c3301",
   "metadata": {},
   "outputs": [],
   "source": [
    "mu = 0.5\n",
    "sample = poisson.rvs(mu,size=100)"
   ]
  },
  {
   "cell_type": "code",
   "execution_count": 3,
   "id": "ed370af2",
   "metadata": {},
   "outputs": [
    {
     "data": {
      "text/plain": [
       "(array([63.,  0.,  0., 31.,  0.,  0.,  4.,  0.,  0.,  2.]),\n",
       " array([0. , 0.3, 0.6, 0.9, 1.2, 1.5, 1.8, 2.1, 2.4, 2.7, 3. ]),\n",
       " <BarContainer object of 10 artists>)"
      ]
     },
     "execution_count": 3,
     "metadata": {},
     "output_type": "execute_result"
    },
    {
     "data": {
      "image/png": "[encoded data removed]",
      "text/plain": [
       "<Figure size 432x288 with 1 Axes>"
      ]
     },
     "metadata": {
      "needs_background": "light"
     },
     "output_type": "display_data"
    }
   ],
   "source": [
    "plt.hist(sample)"
   ]
  },
  {
   "cell_type": "code",
   "execution_count": 8,
   "id": "de058ee1",
   "metadata": {},
   "outputs": [],
   "source": [
    "Prior = np.array([0.4,0.3,0.2,0.1])\n",
    "Lambda_ = np.array([1.,2.,3.,4.])"
   ]
  },
  {
   "cell_type": "code",
   "execution_count": 9,
   "id": "2cf4c241",
   "metadata": {},
   "outputs": [
    {
     "data": {
      "text/plain": [
       "2.0"
      ]
     },
     "execution_count": 9,
     "metadata": {},
     "output_type": "execute_result"
    }
   ],
   "source": [
    "hatp = np.sum(Prior*Lambda_)\n",
    "hatp"
   ]
  },
  {
   "cell_type": "code",
   "execution_count": 11,
   "id": "0b991a47",
   "metadata": {},
   "outputs": [],
   "source": [
    "poisson = lambda l,x : np.exp(-l) * l**x / np.math.factorial(x) "
   ]
  },
  {
   "cell_type": "code",
   "execution_count": 18,
   "id": "423b53a8",
   "metadata": {},
   "outputs": [
    {
     "data": {
      "text/plain": [
       "array([0.01532831, 0.09022352, 0.16803136, 0.19536681])"
      ]
     },
     "execution_count": 18,
     "metadata": {},
     "output_type": "execute_result"
    }
   ],
   "source": [
    "Likelihood = poisson(Lambda_,4)\n",
    "Likelihood"
   ]
  },
  {
   "cell_type": "code",
   "execution_count": 19,
   "id": "c9ef0302",
   "metadata": {},
   "outputs": [
    {
     "data": {
      "text/plain": [
       "0.0863413332964712"
      ]
     },
     "execution_count": 19,
     "metadata": {},
     "output_type": "execute_result"
    }
   ],
   "source": [
    "Probx = np.sum(Likelihood*Prior)\n",
    "Probx"
   ]
  },
  {
   "cell_type": "code",
   "execution_count": 20,
   "id": "0f023d59",
   "metadata": {},
   "outputs": [
    {
     "data": {
      "text/plain": [
       "array([0.07101262, 0.31348898, 0.38922576, 0.22627264])"
      ]
     },
     "execution_count": 20,
     "metadata": {},
     "output_type": "execute_result"
    }
   ],
   "source": [
    "Posterior = Likelihood*Prior/Probx\n",
    "Posterior"
   ]
  },
  {
   "cell_type": "code",
   "execution_count": 21,
   "id": "2122cfc9",
   "metadata": {},
   "outputs": [
    {
     "data": {
      "text/plain": [
       "1.0"
      ]
     },
     "execution_count": 21,
     "metadata": {},
     "output_type": "execute_result"
    }
   ],
   "source": [
    "np.sum(Posterior)"
   ]
  },
  {
   "cell_type": "code",
   "execution_count": 22,
   "id": "ec9c64a7",
   "metadata": {},
   "outputs": [
    {
     "data": {
      "text/plain": [
       "<StemContainer object of 3 artists>"
      ]
     },
     "execution_count": 22,
     "metadata": {},
     "output_type": "execute_result"
    },
    {
     "data": {
      "image/png": "[encoded data removed]",
      "text/plain": [
       "<Figure size 432x288 with 1 Axes>"
      ]
     },
     "metadata": {
      "needs_background": "light"
     },
     "output_type": "display_data"
    }
   ],
   "source": [
    "plt.stem(Posterior)"
   ]
  },
  {
   "cell_type": "code",
   "execution_count": 23,
   "id": "5d2fddea",
   "metadata": {},
   "outputs": [
    {
     "data": {
      "text/plain": [
       "2.7707584253176796"
      ]
     },
     "execution_count": 23,
     "metadata": {},
     "output_type": "execute_result"
    }
   ],
   "source": [
    "lhat = np.sum(Posterior*Lambda_)\n",
    "lhat"
   ]
  },
  {
   "cell_type": "code",
   "execution_count": 25,
   "id": "3b98d9e8",
   "metadata": {},
   "outputs": [
    {
     "data": {
      "text/plain": [
       "array([4.69914178e-05, 3.25611358e-03, 1.69407219e-02, 3.05345539e-02])"
      ]
     },
     "execution_count": 25,
     "metadata": {},
     "output_type": "execute_result"
    }
   ],
   "source": [
    "JointLikelihood = poisson(Lambda_,4)*poisson(Lambda_,5)\n",
    "JointLikelihood"
   ]
  },
  {
   "cell_type": "code",
   "execution_count": 26,
   "id": "08ee5d79",
   "metadata": {},
   "outputs": [
    {
     "data": {
      "text/plain": [
       "0.007437230409082155"
      ]
     },
     "execution_count": 26,
     "metadata": {},
     "output_type": "execute_result"
    }
   ],
   "source": [
    "Probx = np.sum(JointLikelihood*Prior)\n",
    "Probx"
   ]
  },
  {
   "cell_type": "code",
   "execution_count": 27,
   "id": "d085bdcc",
   "metadata": {},
   "outputs": [
    {
     "data": {
      "text/plain": [
       "array([0.00252736, 0.1313438 , 0.45556534, 0.41056351])"
      ]
     },
     "execution_count": 27,
     "metadata": {},
     "output_type": "execute_result"
    }
   ],
   "source": [
    "Posterior = JointLikelihood*Prior/Probx\n",
    "Posterior"
   ]
  },
  {
   "cell_type": "code",
   "execution_count": 28,
   "id": "cef16df3",
   "metadata": {},
   "outputs": [
    {
     "data": {
      "text/plain": [
       "<StemContainer object of 3 artists>"
      ]
     },
     "execution_count": 28,
     "metadata": {},
     "output_type": "execute_result"
    },
    {
     "data": {
      "image/png": "[encoded data removed]",
      "text/plain": [
       "<Figure size 432x288 with 1 Axes>"
      ]
     },
     "metadata": {
      "needs_background": "light"
     },
     "output_type": "display_data"
    }
   ],
   "source": [
    "plt.stem(Posterior)"
   ]
  },
  {
   "cell_type": "code",
   "execution_count": 29,
   "id": "2d98811d",
   "metadata": {},
   "outputs": [
    {
     "data": {
      "text/plain": [
       "3.274164986959538"
      ]
     },
     "execution_count": 29,
     "metadata": {},
     "output_type": "execute_result"
    }
   ],
   "source": [
    "lhat = np.sum(Posterior*Lambda_)\n",
    "lhat"
   ]
  },
  {
   "cell_type": "code",
   "execution_count": null,
   "id": "bc57b577",
   "metadata": {},
   "outputs": [],
   "source": []
  }
 ],
 "metadata": {
  "kernelspec": {
   "display_name": "Python 3 (ipykernel)",
   "language": "python",
   "name": "python3"
  },
  "language_info": {
   "codemirror_mode": {
    "name": "ipython",
    "version": 3
   },
   "file_extension": ".py",
   "mimetype": "text/x-python",
   "name": "python",
   "nbconvert_exporter": "python",
   "pygments_lexer": "ipython3",
   "version": "3.9.12"
  }
 },
 "nbformat": 4,
 "nbformat_minor": 5
}
