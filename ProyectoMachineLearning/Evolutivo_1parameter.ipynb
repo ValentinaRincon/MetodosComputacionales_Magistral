{
 "cells": [
  {
   "cell_type": "code",
   "execution_count": 1,
   "id": "41909e8f",
   "metadata": {},
   "outputs": [],
   "source": [
    "import numpy as np\n",
    "import matplotlib.pyplot as plt\n",
    "from IPython.display import clear_output\n",
    "import time\n",
    "import copy"
   ]
  },
  {
   "cell_type": "code",
   "execution_count": 2,
   "id": "a0113785",
   "metadata": {},
   "outputs": [],
   "source": [
    "class Robot:\n",
    "    \n",
    "    def __init__(self, rate=1., Id=0):\n",
    "        \n",
    "        self.Id = Id\n",
    "        self.rate = rate\n",
    "        self.r = np.random.uniform(-10,10)\n",
    "              \n",
    "    def Mutate(self):\n",
    "        # Esto se necesita explicar\n",
    "        self.r += np.random.uniform(-self.rate,self.rate)"
   ]
  },
  {
   "cell_type": "code",
   "execution_count": 3,
   "id": "d3611349",
   "metadata": {},
   "outputs": [],
   "source": [
    "def GetRobots(N):\n",
    "    \n",
    "    Robots = []\n",
    "    \n",
    "    for i in range(N):\n",
    "        r = Robot(Id=i)\n",
    "        Robots.append(r)\n",
    "        \n",
    "    return Robots"
   ]
  },
  {
   "cell_type": "code",
   "execution_count": 4,
   "id": "4ce7940f",
   "metadata": {},
   "outputs": [],
   "source": [
    "def Plotter(e):\n",
    "    \n",
    "    fig = plt.figure(figsize=(10,3))\n",
    "    ax = fig.add_subplot(121)\n",
    "    ax1 = fig.add_subplot(122)\n",
    "        \n",
    "    ax.set_title('Epoch={:.0f}'.format(e))\n",
    "    \n",
    "    return ax,ax1"
   ]
  },
  {
   "cell_type": "code",
   "execution_count": 5,
   "id": "e7565f98",
   "metadata": {},
   "outputs": [],
   "source": [
    "# Funcion a minimizar\n",
    "f = lambda x: x**2 + 10*np.sin(x)"
   ]
  },
  {
   "cell_type": "code",
   "execution_count": 6,
   "id": "e0ed70ae",
   "metadata": {},
   "outputs": [],
   "source": [
    "def Genetic(Robots,epochs=100):\n",
    "    \n",
    "    # Solo para graficar la función de costo\n",
    "    t = np.linspace(-10,10,50)\n",
    "    \n",
    "    for e in range(int(epochs)):\n",
    "        \n",
    "        clear_output(wait=True)\n",
    "        \n",
    "        ax,ax1 = Plotter(e)\n",
    "        \n",
    "        for i, p in enumerate(Robots):\n",
    "            \n",
    "            # Mutamos y pintamos\n",
    "            p.Mutate()            \n",
    "            ax.scatter(p.r,f(p.r),marker='.',color='r',label='Id {}'.format(p.Id))\n",
    "            #ax.quiver(p.r[0],p.r[1],p.v[0],p.v[1])\n",
    "    \n",
    "        ax.plot(t,f(t),'--',lw=2)\n",
    "    \n",
    "        plt.show()\n",
    "        \n",
    "        time.sleep(0.001)"
   ]
  },
  {
   "cell_type": "code",
   "execution_count": 7,
   "id": "726ff177",
   "metadata": {},
   "outputs": [
    {
     "data": {
      "image/png": "[encoded data removed]",
      "text/plain": [
       "<Figure size 720x216 with 2 Axes>"
      ]
     },
     "metadata": {
      "needs_background": "light"
     },
     "output_type": "display_data"
    }
   ],
   "source": [
    "Robots = GetRobots(50)\n",
    "Genetic(Robots)"
   ]
  },
  {
   "cell_type": "code",
   "execution_count": null,
   "id": "7bb6255e",
   "metadata": {},
   "outputs": [],
   "source": []
  }
 ],
 "metadata": {
  "kernelspec": {
   "display_name": "Python 3 (ipykernel)",
   "language": "python",
   "name": "python3"
  },
  "language_info": {
   "codemirror_mode": {
    "name": "ipython",
    "version": 3
   },
   "file_extension": ".py",
   "mimetype": "text/x-python",
   "name": "python",
   "nbconvert_exporter": "python",
   "pygments_lexer": "ipython3",
   "version": "3.9.12"
  }
 },
 "nbformat": 4,
 "nbformat_minor": 5
}
