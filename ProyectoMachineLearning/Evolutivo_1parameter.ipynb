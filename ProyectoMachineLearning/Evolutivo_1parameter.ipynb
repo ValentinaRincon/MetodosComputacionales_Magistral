{
 "cells": [
  {
   "cell_type": "code",
   "execution_count": 1,
   "id": "41909e8f",
   "metadata": {},
   "outputs": [],
   "source": [
    "import numpy as np\n",
    "import matplotlib.pyplot as plt\n",
    "from IPython.display import clear_output\n",
    "import time\n",
    "import copy\n",
    "from tqdm import tqdm"
   ]
  },
  {
   "cell_type": "code",
   "execution_count": 2,
   "id": "a0113785",
   "metadata": {},
   "outputs": [],
   "source": [
    "class Robot:\n",
    "    \n",
    "    def __init__(self, f, Id=0, rate=1.):\n",
    "        \n",
    "        self.Id = Id\n",
    "        self.rate = rate\n",
    "        self.Fitness = np.inf\n",
    "        \n",
    "        self.f = f\n",
    "        \n",
    "        self.r = np.random.uniform(-5,5)\n",
    "              \n",
    "    def Mutate(self):\n",
    "        self.r += np.random.uniform(-self.rate,self.rate)\n",
    "        \n",
    "    def GetR(self):\n",
    "        return self.r\n",
    "    \n",
    "    def SetFitness(self):\n",
    "        \n",
    "        self.Fitness = self.f(self.GetR())"
   ]
  },
  {
   "cell_type": "code",
   "execution_count": 3,
   "id": "e7565f98",
   "metadata": {},
   "outputs": [],
   "source": [
    "# Funcion a minimizar\n",
    "f = lambda x: x**2 + 10*np.sin(x)"
   ]
  },
  {
   "cell_type": "code",
   "execution_count": 4,
   "id": "d3611349",
   "metadata": {},
   "outputs": [],
   "source": [
    "def GetRobots(N):\n",
    "    \n",
    "    Robots = []\n",
    "    \n",
    "    for i in range(N):\n",
    "        r = Robot(f=f,Id=i)\n",
    "        Robots.append(r)\n",
    "        \n",
    "    return Robots"
   ]
  },
  {
   "cell_type": "code",
   "execution_count": 5,
   "id": "4ce7940f",
   "metadata": {},
   "outputs": [],
   "source": [
    "def Plotter(e):\n",
    "    \n",
    "    fig = plt.figure(figsize=(10,3))\n",
    "    ax = fig.add_subplot(121)\n",
    "    ax1 = fig.add_subplot(122)\n",
    "        \n",
    "    ax.set_title('Epoch={:.0f}'.format(e))\n",
    "    \n",
    "    return ax,ax1"
   ]
  },
  {
   "cell_type": "code",
   "execution_count": 11,
   "id": "e0ed70ae",
   "metadata": {},
   "outputs": [],
   "source": [
    "def Genetic(Robots, epochs=50):\n",
    "    \n",
    "    # Solo para graficar la función de costo\n",
    "    t = np.linspace(-5,5,50)\n",
    "    \n",
    "    # Guardar los más aptos\n",
    "    \n",
    "    # Epochs   \n",
    "    for e in range(int(epochs)):\n",
    "  \n",
    "\n",
    "        # Actualizamos imformación de los robots\n",
    "        for i,p in enumerate(Robots):\n",
    "            p.Mutate()\n",
    "            p.SetFitness()\n",
    "        \n",
    "        clear_output(wait=True)\n",
    "        \n",
    "        ax,ax1 = Plotter(e)\n",
    "        ax.plot(t,f(t),'--',lw=2)\n",
    "    \n",
    "     \n",
    "        for i, p in enumerate(Robots):          \n",
    "            ax.scatter(p.GetR(),p.f(p.GetR()),marker='.',color='r',label='Id {}'.format(p.Id))   \n",
    "     \n",
    "        # Ordenamos los robots por fitness\n",
    "        scores = [ (p.Fitness,p) for p in Robots ]\n",
    "        print(scores)\n",
    "        \n",
    "        plt.show()\n",
    "        \n",
    "        time.sleep(0.001)"
   ]
  },
  {
   "cell_type": "code",
   "execution_count": 12,
   "id": "726ff177",
   "metadata": {},
   "outputs": [
    {
     "name": "stdout",
     "output_type": "stream",
     "text": [
      "[(8.589006677436942, <__main__.Robot object at 0x7f08b46e5f40>), (27.641927267140648, <__main__.Robot object at 0x7f08b46e5940>), (19.827917008951115, <__main__.Robot object at 0x7f08b46e5be0>), (38.06775186059854, <__main__.Robot object at 0x7f08b46e5e80>), (-7.572274616650884, <__main__.Robot object at 0x7f08b46e5e20>)]\n"
     ]
    },
    {
     "data": {
      "image/png": "[encoded data removed]",
      "text/plain": [
       "<Figure size 720x216 with 2 Axes>"
      ]
     },
     "metadata": {
      "needs_background": "light"
     },
     "output_type": "display_data"
    }
   ],
   "source": [
    "Robots = GetRobots(5)\n",
    "Genetic(Robots)"
   ]
  },
  {
   "cell_type": "code",
   "execution_count": null,
   "id": "7bb6255e",
   "metadata": {},
   "outputs": [],
   "source": []
  }
 ],
 "metadata": {
  "kernelspec": {
   "display_name": "Python 3 (ipykernel)",
   "language": "python",
   "name": "python3"
  },
  "language_info": {
   "codemirror_mode": {
    "name": "ipython",
    "version": 3
   },
   "file_extension": ".py",
   "mimetype": "text/x-python",
   "name": "python",
   "nbconvert_exporter": "python",
   "pygments_lexer": "ipython3",
   "version": "3.9.12"
  }
 },
 "nbformat": 4,
 "nbformat_minor": 5
}
