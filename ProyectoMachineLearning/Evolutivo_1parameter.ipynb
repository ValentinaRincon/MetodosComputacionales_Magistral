{
 "cells": [
  {
   "cell_type": "code",
   "execution_count": 1,
   "id": "41909e8f",
   "metadata": {},
   "outputs": [],
   "source": [
    "import numpy as np\n",
    "import matplotlib.pyplot as plt\n",
    "from IPython.display import clear_output\n",
    "import time\n",
    "import copy\n",
    "from tqdm import tqdm"
   ]
  },
  {
   "cell_type": "code",
   "execution_count": 2,
   "id": "a0113785",
   "metadata": {},
   "outputs": [],
   "source": [
    "class Robot:\n",
    "    \n",
    "    def __init__(self, f, Id=0, rate=1.):\n",
    "        \n",
    "        self.Id = Id\n",
    "        self.rate = rate\n",
    "        self.Fitness = np.inf\n",
    "        \n",
    "        self.f = f\n",
    "        \n",
    "        self.r = np.random.uniform(-5,5)\n",
    "              \n",
    "    def Mutate(self):\n",
    "        self.r += np.random.uniform(-self.rate,self.rate)\n",
    "        \n",
    "    def GetR(self):\n",
    "        return self.r\n",
    "    \n",
    "    def SetFitness(self):\n",
    "        \n",
    "        self.Fitness = self.f(self.GetR())"
   ]
  },
  {
   "cell_type": "code",
   "execution_count": 3,
   "id": "e7565f98",
   "metadata": {},
   "outputs": [],
   "source": [
    "# Funcion a minimizar\n",
    "f = lambda x: x**2 + 10*np.sin(x)"
   ]
  },
  {
   "cell_type": "code",
   "execution_count": 4,
   "id": "d3611349",
   "metadata": {},
   "outputs": [],
   "source": [
    "def GetRobots(N):\n",
    "    \n",
    "    Robots = []\n",
    "    \n",
    "    for i in range(N):\n",
    "        r = Robot(f=f,Id=i)\n",
    "        Robots.append(r)\n",
    "        \n",
    "    return Robots"
   ]
  },
  {
   "cell_type": "code",
   "execution_count": 5,
   "id": "4ce7940f",
   "metadata": {},
   "outputs": [],
   "source": [
    "def Plotter(e):\n",
    "    \n",
    "    fig = plt.figure(figsize=(10,3))\n",
    "    ax = fig.add_subplot(121)\n",
    "    ax1 = fig.add_subplot(122)\n",
    "        \n",
    "    ax.set_title('Epoch={:.0f}'.format(e))\n",
    "    \n",
    "    return ax,ax1"
   ]
  },
  {
   "cell_type": "code",
   "execution_count": 8,
   "id": "e0ed70ae",
   "metadata": {},
   "outputs": [],
   "source": [
    "def Genetic(Robots, epochs=50):\n",
    "    \n",
    "    # Solo para graficar la función de costo\n",
    "    t = np.linspace(-5,5,50)\n",
    "    \n",
    "    # Guardar los más aptos\n",
    "    \n",
    "    # Epochs   \n",
    "    for e in range(int(epochs)):\n",
    "  \n",
    "\n",
    "        # Actualizamos imformación de los robots\n",
    "        for i,p in enumerate(Robots):\n",
    "            p.Mutate()\n",
    "            p.SetFitness()\n",
    "        \n",
    "        clear_output(wait=True)\n",
    "        \n",
    "        ax,ax1 = Plotter(e)\n",
    "        ax.plot(t,f(t),'--',lw=2)\n",
    "    \n",
    "     \n",
    "        for i, p in enumerate(Robots):          \n",
    "            ax.scatter(p.GetR(),p.f(p.GetR()),marker='.',color='r',label='Id {}'.format(p.Id))   \n",
    "     \n",
    "        # Ordenamos los robots por fitness\n",
    "        scores = [ (p.Fitness,p) for p in Robots ]\n",
    "        print(scores)\n",
    "        \n",
    "        plt.show()\n",
    "        \n",
    "        time.sleep(0.001)"
   ]
  },
  {
   "cell_type": "code",
   "execution_count": null,
   "id": "726ff177",
   "metadata": {},
   "outputs": [
    {
     "name": "stdout",
     "output_type": "stream",
     "text": [
      "[(-6.104263720870191, <__main__.Robot object at 0x7f08b7deedf0>), (37.894909004921345, <__main__.Robot object at 0x7f08b7e7d790>), (-2.673680451253447, <__main__.Robot object at 0x7f08b7e7d730>), (7.496339981811959, <__main__.Robot object at 0x7f08b7e7d640>), (-5.937506001351106, <__main__.Robot object at 0x7f08b7e7d490>), (-6.638064441041375, <__main__.Robot object at 0x7f08b7e7dfa0>), (13.094099522299928, <__main__.Robot object at 0x7f08b7e7d8b0>), (8.316443225018698, <__main__.Robot object at 0x7f08b7e7dd30>), (32.037289260423734, <__main__.Robot object at 0x7f08b7e9e6d0>), (8.179544469690093, <__main__.Robot object at 0x7f08b7e9e790>), (-7.5689398795494, <__main__.Robot object at 0x7f08b7e9e850>), (12.730156947997514, <__main__.Robot object at 0x7f08b7e9e490>), (7.2221403220854805, <__main__.Robot object at 0x7f08b7e9e8e0>), (4.0497096778380195, <__main__.Robot object at 0x7f08b7e9e4f0>), (10.06991500857084, <__main__.Robot object at 0x7f08b7e9e880>), (-5.919267506140442, <__main__.Robot object at 0x7f08b7e9e070>), (14.40931332908181, <__main__.Robot object at 0x7f08b7c52370>), (0.5420790358564843, <__main__.Robot object at 0x7f08b7c52b20>), (8.352731305967861, <__main__.Robot object at 0x7f08b7c52fd0>), (34.47710461216623, <__main__.Robot object at 0x7f08b7e0d0a0>), (5.3911210947167625, <__main__.Robot object at 0x7f08b7e0d040>), (32.14011252497772, <__main__.Robot object at 0x7f08b7e0dd60>), (11.053516719163838, <__main__.Robot object at 0x7f08b7e405b0>), (-7.190959038645359, <__main__.Robot object at 0x7f08b7e40100>), (-7.652105625662655, <__main__.Robot object at 0x7f08b7e40e20>), (17.933290407412, <__main__.Robot object at 0x7f08b7e40910>), (40.14942881346667, <__main__.Robot object at 0x7f08b7e408b0>), (-5.747464477512409, <__main__.Robot object at 0x7f08b7e40a00>), (8.965387050904742, <__main__.Robot object at 0x7f08b7e40970>), (-6.99598217348072, <__main__.Robot object at 0x7f08b7e407f0>), (10.511142492739284, <__main__.Robot object at 0x7f08b7e40700>), (-7.754312648384342, <__main__.Robot object at 0x7f08b7e404c0>), (-0.0788966280978586, <__main__.Robot object at 0x7f08b7e40f10>), (8.4282690206736, <__main__.Robot object at 0x7f08b7e73e50>), (-3.302842695230975, <__main__.Robot object at 0x7f08b7ca5640>), (8.631144899269657, <__main__.Robot object at 0x7f08b7c9f370>), (-5.642525194146048, <__main__.Robot object at 0x7f08b7d94610>), (10.871029341506564, <__main__.Robot object at 0x7f08b7d940d0>), (40.54942534273067, <__main__.Robot object at 0x7f08b7d945b0>), (4.017539070268589, <__main__.Robot object at 0x7f08c02122b0>), (21.590817351064295, <__main__.Robot object at 0x7f08c02123d0>), (13.035887365134762, <__main__.Robot object at 0x7f08c0212490>), (25.449367368941523, <__main__.Robot object at 0x7f08c0212310>), (9.570999193997087, <__main__.Robot object at 0x7f08c02121c0>), (12.643036756507753, <__main__.Robot object at 0x7f08b7cd10d0>), (-5.75997816692697, <__main__.Robot object at 0x7f08b7c47ca0>), (-0.1574036247751911, <__main__.Robot object at 0x7f08b7c478e0>), (9.981409381101157, <__main__.Robot object at 0x7f08b7ccc340>), (8.493127344037466, <__main__.Robot object at 0x7f08b7cf9d90>), (32.67820628468995, <__main__.Robot object at 0x7f08b7c593a0>)]\n"
     ]
    }
   ],
   "source": [
    "Robots = GetRobots(50)\n",
    "Genetic(Robots)"
   ]
  },
  {
   "cell_type": "code",
   "execution_count": null,
   "id": "7bb6255e",
   "metadata": {},
   "outputs": [],
   "source": []
  }
 ],
 "metadata": {
  "kernelspec": {
   "display_name": "Python 3 (ipykernel)",
   "language": "python",
   "name": "python3"
  },
  "language_info": {
   "codemirror_mode": {
    "name": "ipython",
    "version": 3
   },
   "file_extension": ".py",
   "mimetype": "text/x-python",
   "name": "python",
   "nbconvert_exporter": "python",
   "pygments_lexer": "ipython3",
   "version": "3.9.12"
  }
 },
 "nbformat": 4,
 "nbformat_minor": 5
}
