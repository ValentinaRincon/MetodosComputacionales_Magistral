{
 "cells": [
  {
   "cell_type": "code",
   "execution_count": 22,
   "id": "41909e8f",
   "metadata": {},
   "outputs": [],
   "source": [
    "import numpy as np\n",
    "import matplotlib.pyplot as plt\n",
    "from IPython.display import clear_output\n",
    "import time\n",
    "import copy\n",
    "from tqdm import tqdm"
   ]
  },
  {
   "cell_type": "code",
   "execution_count": 23,
   "id": "a0113785",
   "metadata": {},
   "outputs": [],
   "source": [
    "class Robot:\n",
    "    \n",
    "    def __init__(self, f, Id=0, rate=1.):\n",
    "        \n",
    "        self.Id = Id\n",
    "        self.rate = rate\n",
    "        \n",
    "        self.f = f\n",
    "        \n",
    "        self.r = np.random.uniform(-5,5)\n",
    "              \n",
    "    def Mutate(self):\n",
    "        self.r += np.random.uniform(-self.rate,self.rate)\n",
    "        \n",
    "    def GetR(self):\n",
    "        return self.r"
   ]
  },
  {
   "cell_type": "code",
   "execution_count": 24,
   "id": "e7565f98",
   "metadata": {},
   "outputs": [],
   "source": [
    "# Funcion a minimizar\n",
    "f = lambda x: x**2 + 10*np.sin(x)"
   ]
  },
  {
   "cell_type": "code",
   "execution_count": 25,
   "id": "d3611349",
   "metadata": {},
   "outputs": [],
   "source": [
    "def GetRobots(N):\n",
    "    \n",
    "    Robots = []\n",
    "    \n",
    "    for i in range(N):\n",
    "        r = Robot(f=f,Id=i)\n",
    "        Robots.append(r)\n",
    "        \n",
    "    return Robots"
   ]
  },
  {
   "cell_type": "code",
   "execution_count": 26,
   "id": "4ce7940f",
   "metadata": {},
   "outputs": [],
   "source": [
    "def Plotter(e):\n",
    "    \n",
    "    fig = plt.figure(figsize=(10,3))\n",
    "    ax = fig.add_subplot(121)\n",
    "    ax1 = fig.add_subplot(122)\n",
    "        \n",
    "    ax.set_title('Epoch={:.0f}'.format(e))\n",
    "    \n",
    "    return ax,ax1"
   ]
  },
  {
   "cell_type": "code",
   "execution_count": 27,
   "id": "e0ed70ae",
   "metadata": {},
   "outputs": [],
   "source": [
    "def Genetic(Robots, epochs=50):\n",
    "    \n",
    "    # Solo para graficar la función de costo\n",
    "    t = np.linspace(-5,5,50)\n",
    "    \n",
    "    \n",
    "    # Epochs   \n",
    "    for e in range(int(epochs)):\n",
    "  \n",
    "\n",
    "        # Actualizamos imformación de los robots\n",
    "        for i,p in enumerate(Robots):\n",
    "            p.Mutate()\n",
    "        \n",
    "        clear_output(wait=True)\n",
    "        \n",
    "        ax,ax1 = Plotter(e)\n",
    "        ax.plot(t,f(t),'--',lw=2)\n",
    "       \n",
    "        for i, p in enumerate(Robots):          \n",
    "            ax.scatter(p.GetR(),p.f(p.GetR()),marker='.',color='r',label='Id {}'.format(p.Id))   \n",
    "     \n",
    "        plt.show()\n",
    "        \n",
    "        time.sleep(0.001)"
   ]
  },
  {
   "cell_type": "code",
   "execution_count": 28,
   "id": "726ff177",
   "metadata": {},
   "outputs": [
    {
     "data": {
      "image/png": "[encoded data removed]",
      "text/plain": [
       "<Figure size 720x216 with 2 Axes>"
      ]
     },
     "metadata": {
      "needs_background": "light"
     },
     "output_type": "display_data"
    }
   ],
   "source": [
    "Robots = GetRobots(50)\n",
    "Genetic(Robots)"
   ]
  },
  {
   "cell_type": "code",
   "execution_count": null,
   "id": "7bb6255e",
   "metadata": {},
   "outputs": [],
   "source": []
  }
 ],
 "metadata": {
  "kernelspec": {
   "display_name": "Python 3 (ipykernel)",
   "language": "python",
   "name": "python3"
  },
  "language_info": {
   "codemirror_mode": {
    "name": "ipython",
    "version": 3
   },
   "file_extension": ".py",
   "mimetype": "text/x-python",
   "name": "python",
   "nbconvert_exporter": "python",
   "pygments_lexer": "ipython3",
   "version": "3.9.12"
  }
 },
 "nbformat": 4,
 "nbformat_minor": 5
}
