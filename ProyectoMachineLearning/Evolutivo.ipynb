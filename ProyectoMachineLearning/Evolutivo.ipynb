{
 "cells": [
  {
   "cell_type": "code",
   "execution_count": 1,
   "id": "41909e8f",
   "metadata": {},
   "outputs": [],
   "source": [
    "import numpy as np\n",
    "import matplotlib.pyplot as plt\n",
    "from IPython.display import clear_output\n",
    "import time"
   ]
  },
  {
   "cell_type": "code",
   "execution_count": 2,
   "id": "a0113785",
   "metadata": {},
   "outputs": [],
   "source": [
    "class Robot:\n",
    "    \n",
    "    def __init__(self, dt, Id=0):\n",
    "        \n",
    "        self.dt = dt\n",
    "        self.Id = Id\n",
    "        \n",
    "        self.r = np.array([0.,0.])\n",
    "        \n",
    "        theta = np.random.uniform(0,2*np.pi)\n",
    "        self.v = np.array([1*np.cos(theta),1*np.sin(theta)])\n",
    "        \n",
    "        \n",
    "    def Evolution(self):\n",
    "        \n",
    "        self.r += self.v*self.dt"
   ]
  },
  {
   "cell_type": "code",
   "execution_count": 3,
   "id": "a4aedc9b",
   "metadata": {},
   "outputs": [
    {
     "data": {
      "text/plain": [
       "40"
      ]
     },
     "execution_count": 3,
     "metadata": {},
     "output_type": "execute_result"
    }
   ],
   "source": [
    "dt = 0.05\n",
    "t = np.arange(0.,2.,dt)\n",
    "len(t)"
   ]
  },
  {
   "cell_type": "code",
   "execution_count": 4,
   "id": "d3611349",
   "metadata": {},
   "outputs": [],
   "source": [
    "def GetRobots(N):\n",
    "    \n",
    "    Robots = []\n",
    "    \n",
    "    for i in range(N):\n",
    "        r = Robot(dt,Id=i)\n",
    "        Robots.append(r)\n",
    "        \n",
    "    return Robots"
   ]
  },
  {
   "cell_type": "code",
   "execution_count": 5,
   "id": "a015e314",
   "metadata": {},
   "outputs": [],
   "source": [
    "Robots = GetRobots(50)"
   ]
  },
  {
   "cell_type": "code",
   "execution_count": null,
   "id": "9ed1b007",
   "metadata": {},
   "outputs": [],
   "source": []
  },
  {
   "cell_type": "code",
   "execution_count": 6,
   "id": "1c5e1977",
   "metadata": {},
   "outputs": [],
   "source": [
    "\n",
    "    \n",
    "    \n",
    "\n",
    "\n",
    "    for r in Robots:\n",
    "        r.Evolution()"
   ]
  },
  {
   "cell_type": "code",
   "execution_count": 7,
   "id": "4ce7940f",
   "metadata": {},
   "outputs": [],
   "source": [
    "def Plotter(t):\n",
    "    \n",
    "    fig = plt.figure(figsize=(5,5))\n",
    "    ax = fig.add_subplot(111)\n",
    "    \n",
    "    ax.set_xlim(-1,1)\n",
    "    ax.set_ylim(-1,1)\n",
    "    \n",
    "    ax.set_title('t={:.2f}'.format(t))\n",
    "    \n",
    "    return ax"
   ]
  },
  {
   "cell_type": "code",
   "execution_count": 8,
   "id": "e0ed70ae",
   "metadata": {},
   "outputs": [],
   "source": [
    "def TimeEvolution(Robots,t):\n",
    "    \n",
    "    for it in range(len(t)):\n",
    "        \n",
    "        clear_output(wait=True)\n",
    "        \n",
    "        ax = Plotter(t[it])\n",
    "        \n",
    "        \n",
    "        for i, p in enumerate(Robots):\n",
    "            \n",
    "            p.Evolution()\n",
    "            \n",
    "            ax.scatter(p.r[0],p.r[1],label='Id {}'.format(p.Id))\n",
    "            ax.quiver(p.r[0],p.r[0],p.v[0],p.v[1])\n",
    "    \n",
    "        plt.show()\n",
    "        \n",
    "        time.sleep(0.01)"
   ]
  },
  {
   "cell_type": "code",
   "execution_count": null,
   "id": "e68470c2",
   "metadata": {},
   "outputs": [
    {
     "data": {
      "image/png": "[encoded data removed]",
      "text/plain": [
       "<Figure size 360x360 with 1 Axes>"
      ]
     },
     "metadata": {
      "needs_background": "light"
     },
     "output_type": "display_data"
    }
   ],
   "source": [
    "TimeEvolution(Robots,t)"
   ]
  },
  {
   "cell_type": "code",
   "execution_count": null,
   "id": "994f30a8",
   "metadata": {},
   "outputs": [],
   "source": []
  }
 ],
 "metadata": {
  "kernelspec": {
   "display_name": "Python 3 (ipykernel)",
   "language": "python",
   "name": "python3"
  },
  "language_info": {
   "codemirror_mode": {
    "name": "ipython",
    "version": 3
   },
   "file_extension": ".py",
   "mimetype": "text/x-python",
   "name": "python",
   "nbconvert_exporter": "python",
   "pygments_lexer": "ipython3",
   "version": "3.9.12"
  }
 },
 "nbformat": 4,
 "nbformat_minor": 5
}
