{
 "cells": [
  {
   "cell_type": "code",
   "execution_count": 21,
   "id": "a84c79ac",
   "metadata": {},
   "outputs": [],
   "source": [
    "import numpy as np\n",
    "import matplotlib.pyplot as plt\n",
    "from IPython.display import clear_output\n",
    "import time\n",
    "import copy\n",
    "from tqdm import tqdm"
   ]
  },
  {
   "cell_type": "code",
   "execution_count": 22,
   "id": "79f008a9",
   "metadata": {},
   "outputs": [],
   "source": [
    "class Robot:\n",
    "    \n",
    "    def __init__(self,dt,Id=0):\n",
    "        \n",
    "        self.Id = Id\n",
    "        self.dt = dt\n",
    "        \n",
    "        self.r = np.array([0.,0.])\n",
    "        \n",
    "        theta = np.random.uniform(0.,2*np.pi)\n",
    "        self.v = np.array([1.*np.cos(theta),1.*np.sin(theta)]) \n",
    "        \n",
    "    def Evolution(self):\n",
    "        \n",
    "        self.r += self.v*self.dt"
   ]
  },
  {
   "cell_type": "code",
   "execution_count": 23,
   "id": "04158729",
   "metadata": {},
   "outputs": [],
   "source": [
    "r1 = Robot(0.5)"
   ]
  },
  {
   "cell_type": "code",
   "execution_count": 24,
   "id": "1f1d1c73",
   "metadata": {},
   "outputs": [
    {
     "data": {
      "text/plain": [
       "array([0.32339844, 0.38133115])"
      ]
     },
     "execution_count": 24,
     "metadata": {},
     "output_type": "execute_result"
    }
   ],
   "source": [
    "r1.Evolution()\n",
    "r1.r"
   ]
  },
  {
   "cell_type": "code",
   "execution_count": 35,
   "id": "f22fd537",
   "metadata": {},
   "outputs": [],
   "source": [
    "dt = 0.05\n",
    "t = np.arange(0.,1.,dt)"
   ]
  },
  {
   "cell_type": "code",
   "execution_count": 36,
   "id": "6940d9d7",
   "metadata": {},
   "outputs": [],
   "source": [
    "def GetRobots(N):\n",
    "    \n",
    "    Robots = []\n",
    "    \n",
    "    for i in range(N):\n",
    "        r = Robot(dt,Id=i)\n",
    "        Robots.append(r)\n",
    "        \n",
    "    return Robots"
   ]
  },
  {
   "cell_type": "code",
   "execution_count": 37,
   "id": "a0ac9f59",
   "metadata": {},
   "outputs": [],
   "source": [
    "def Plotter(t):\n",
    "    \n",
    "    fig = plt.figure(figsize=(5,5))\n",
    "    ax = fig.add_subplot(111)\n",
    "    \n",
    "    ax.set_xlim(-1,1)\n",
    "    ax.set_ylim(-1,1)\n",
    "    \n",
    "    ax.set_title('t = {:.2f}'.format(t))\n",
    "    \n",
    "    return ax"
   ]
  },
  {
   "cell_type": "code",
   "execution_count": 38,
   "id": "346a33c0",
   "metadata": {},
   "outputs": [],
   "source": [
    "def TimeEvolution(Robots,t):\n",
    "    \n",
    "    for it in range(t.shape[0]):\n",
    "        \n",
    "        # Actualizamos\n",
    "        for i,p in enumerate(Robots):\n",
    "            p.Evolution()\n",
    "        \n",
    "        clear_output(wait=True)\n",
    "        \n",
    "        ax = Plotter(t[it])\n",
    "            \n",
    "        for i,p in enumerate(Robots):         \n",
    "            ax.scatter(p.r[0],p.r[1],label='Id {} s'.format(p.Id))\n",
    "            ax.quiver(p.r[0],p.r[1],p.v[0],p.v[1])\n",
    "       \n",
    "        ax.legend(loc='upper center', ncol=1, bbox_to_anchor=(1.2,0.9),frameon=False,fontsize=10)\n",
    "        \n",
    "        plt.show()\n",
    "        \n",
    "        time.sleep(0.005)"
   ]
  },
  {
   "cell_type": "code",
   "execution_count": 39,
   "id": "ab465dbc",
   "metadata": {},
   "outputs": [],
   "source": [
    "Robots = GetRobots(10)"
   ]
  },
  {
   "cell_type": "code",
   "execution_count": 40,
   "id": "3593000a",
   "metadata": {},
   "outputs": [
    {
     "data": {
      "image/png": "[encoded data removed]",
      "text/plain": [
       "<Figure size 360x360 with 1 Axes>"
      ]
     },
     "metadata": {
      "needs_background": "light"
     },
     "output_type": "display_data"
    }
   ],
   "source": [
    "TimeEvolution(Robots,t)"
   ]
  },
  {
   "cell_type": "code",
   "execution_count": null,
   "id": "7cb19ddd",
   "metadata": {},
   "outputs": [],
   "source": []
  },
  {
   "cell_type": "code",
   "execution_count": null,
   "id": "4d219ff2",
   "metadata": {},
   "outputs": [],
   "source": []
  }
 ],
 "metadata": {
  "kernelspec": {
   "display_name": "Python 3 (ipykernel)",
   "language": "python",
   "name": "python3"
  },
  "language_info": {
   "codemirror_mode": {
    "name": "ipython",
    "version": 3
   },
   "file_extension": ".py",
   "mimetype": "text/x-python",
   "name": "python",
   "nbconvert_exporter": "python",
   "pygments_lexer": "ipython3",
   "version": "3.9.12"
  }
 },
 "nbformat": 4,
 "nbformat_minor": 5
}
