{
 "cells": [
  {
   "cell_type": "code",
   "execution_count": 1,
   "id": "701a3087",
   "metadata": {},
   "outputs": [
    {
     "data": {
      "text/html": [
       "<style>.container { width:100% !important; }</style>"
      ],
      "text/plain": [
       "<IPython.core.display.HTML object>"
      ]
     },
     "metadata": {},
     "output_type": "display_data"
    }
   ],
   "source": [
    "from IPython.display import display, HTML\n",
    "display(HTML(\"<style>.container { width:100% !important; }</style>\"))\n",
    "import numpy as np\n",
    "import matplotlib.pyplot as plt\n",
    "from IPython.display import clear_output\n",
    "import time"
   ]
  },
  {
   "cell_type": "code",
   "execution_count": 2,
   "id": "b4d5bca6",
   "metadata": {},
   "outputs": [],
   "source": [
    "G1=(lambda x,y,z: 3*x - y - z - 1., \\\n",
    "    lambda x,y,z: -x + 3*y + z - 3., \\\n",
    "    lambda x,y,z: 2*x + y + 4*z - 7.)"
   ]
  },
  {
   "cell_type": "code",
   "execution_count": 3,
   "id": "e3c237c1",
   "metadata": {},
   "outputs": [],
   "source": [
    "def GetF(G,r):\n",
    "    \n",
    "    n = r.shape[0]\n",
    "    \n",
    "    v = np.zeros_like(r)\n",
    "    \n",
    "    for i in range(n):\n",
    "        v[i] = G[i](r[0],r[1],r[2])\n",
    "        \n",
    "    return v"
   ]
  },
  {
   "cell_type": "code",
   "execution_count": 4,
   "id": "3ca42b4e",
   "metadata": {},
   "outputs": [
    {
     "data": {
      "text/plain": [
       "array([-1., -3., -7.])"
      ]
     },
     "execution_count": 4,
     "metadata": {},
     "output_type": "execute_result"
    }
   ],
   "source": [
    "GetF(G1,np.array([0.,0.,0.]))"
   ]
  },
  {
   "cell_type": "code",
   "execution_count": 5,
   "id": "0d21327d",
   "metadata": {},
   "outputs": [],
   "source": [
    "def Metric(G,r):\n",
    "    return 0.5*np.linalg.norm(GetF(G,r))**2"
   ]
  },
  {
   "cell_type": "code",
   "execution_count": 6,
   "id": "4e99c9dd",
   "metadata": {},
   "outputs": [
    {
     "data": {
      "text/plain": [
       "88.0"
      ]
     },
     "execution_count": 6,
     "metadata": {},
     "output_type": "execute_result"
    }
   ],
   "source": [
    "Metric(G1,np.array([1.,5.,1.]))"
   ]
  },
  {
   "cell_type": "code",
   "execution_count": 7,
   "id": "52c3b07c",
   "metadata": {},
   "outputs": [],
   "source": [
    "def GetJacobian(f,r,h=1e-6):\n",
    "    \n",
    "    n = r.shape[0]\n",
    "    \n",
    "    J = np.zeros((n,n))\n",
    "    \n",
    "    for i in range(n):\n",
    "        for j in range(n):\n",
    "            \n",
    "            rf = r.copy()\n",
    "            rb = r.copy()\n",
    "            \n",
    "            rf[j] = rf[j] + h\n",
    "            rb[j] = rb[j] - h\n",
    "            \n",
    "            J[i,j] = ( f[i](rf[0],rf[1],rf[2]) - f[i](rb[0],rb[1],rb[2])  )/(2*h)\n",
    "            \n",
    "    \n",
    "    return J"
   ]
  },
  {
   "cell_type": "code",
   "execution_count": 8,
   "id": "cd87d61f",
   "metadata": {},
   "outputs": [
    {
     "data": {
      "text/plain": [
       "array([[ 3., -1., -1.],\n",
       "       [-1.,  3.,  1.],\n",
       "       [ 2.,  1.,  4.]])"
      ]
     },
     "execution_count": 8,
     "metadata": {},
     "output_type": "execute_result"
    }
   ],
   "source": [
    "GetJacobian(G1,np.array([1.,5.,1.]))"
   ]
  },
  {
   "cell_type": "code",
   "execution_count": 9,
   "id": "3459c36a",
   "metadata": {},
   "outputs": [],
   "source": [
    "def GetFig(R,M,it):\n",
    "    \n",
    "    fig = plt.figure(figsize=(6,3))\n",
    "    \n",
    "    ax = fig.add_subplot(1,2,1)\n",
    "    ax1 = fig.add_subplot(1,2,2)\n",
    "    \n",
    "    ax.plot(R[:it])\n",
    "    \n",
    "    ax1.plot(M[:it])\n",
    "   \n",
    "    plt.show()"
   ]
  },
  {
   "cell_type": "code",
   "execution_count": 10,
   "id": "d5c702c2",
   "metadata": {},
   "outputs": [],
   "source": [
    "def Minimizer(G,r,lr=1e-3,epochs=int(1e4),error=1e-7):\n",
    "    \n",
    "    metric = 1\n",
    "    it = 0\n",
    "    \n",
    "    M = np.array([])\n",
    "    R = np.array([r])\n",
    "    \n",
    "    while metric > error and it < epochs:\n",
    "        \n",
    "        M = np.append(M,Metric(G,r))\n",
    "        \n",
    "        J = GetJacobian(G,r)\n",
    "        Vector = GetF(G,r)\n",
    "        \n",
    "        # Machine learning\n",
    "        r -= lr*np.dot(J,Vector)\n",
    "        \n",
    "        R = np.vstack((R,r))\n",
    "        \n",
    "        if it%50 == 0:\n",
    "            print(r)\n",
    "            clear_output(wait=True)\n",
    "            GetFig(R,M,it)\n",
    "            time.sleep(0.01)\n",
    "    \n",
    "    return r"
   ]
  },
  {
   "cell_type": "code",
   "execution_count": null,
   "id": "feda2f31",
   "metadata": {},
   "outputs": [
    {
     "data": {
      "image/png": "[encoded data removed]",
      "text/plain": [
       "<Figure size 432x216 with 2 Axes>"
      ]
     },
     "metadata": {
      "needs_background": "light"
     },
     "output_type": "display_data"
    },
    {
     "name": "stdout",
     "output_type": "stream",
     "text": [
      "[1.71703403 3.63625418 0.29011127]\n"
     ]
    }
   ],
   "source": [
    "xsol = Minimizer(G1,np.array([1.,5.,1.]))"
   ]
  },
  {
   "cell_type": "code",
   "execution_count": null,
   "id": "24bff66a",
   "metadata": {},
   "outputs": [],
   "source": []
  },
  {
   "cell_type": "code",
   "execution_count": null,
   "id": "6f98c983",
   "metadata": {},
   "outputs": [],
   "source": []
  }
 ],
 "metadata": {
  "kernelspec": {
   "display_name": "Python 3 (ipykernel)",
   "language": "python",
   "name": "python3"
  },
  "language_info": {
   "codemirror_mode": {
    "name": "ipython",
    "version": 3
   },
   "file_extension": ".py",
   "mimetype": "text/x-python",
   "name": "python",
   "nbconvert_exporter": "python",
   "pygments_lexer": "ipython3",
   "version": "3.9.12"
  }
 },
 "nbformat": 4,
 "nbformat_minor": 5
}
