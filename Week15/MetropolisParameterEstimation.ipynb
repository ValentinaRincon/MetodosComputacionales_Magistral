{
 "cells": [
  {
   "cell_type": "code",
   "execution_count": 5,
   "id": "8661f7f0",
   "metadata": {},
   "outputs": [],
   "source": [
    "import numpy as np\n",
    "import matplotlib.pyplot as plt\n",
    "import emcee\n",
    "import corner"
   ]
  },
  {
   "cell_type": "code",
   "execution_count": 6,
   "id": "6ee2d206",
   "metadata": {},
   "outputs": [],
   "source": [
    "def Likelihood(mu,n,b,s):\n",
    "    \n",
    "    l = mu*s + b\n",
    "    \n",
    "    L = np.exp( -l ) * l**n / np.math.factorial(int(n))\n",
    "    \n",
    "    return L"
   ]
  },
  {
   "cell_type": "code",
   "execution_count": 7,
   "id": "b6d6f2d1",
   "metadata": {},
   "outputs": [],
   "source": [
    "def JointLogLikelihood(mu,data):\n",
    "    \n",
    "    N = data.shape[0]\n",
    "    \n",
    "    n = data[:,0]\n",
    "    b = data[:,1]\n",
    "    s = data[:,2]\n",
    "    \n",
    "    JointL = 0.\n",
    "    \n",
    "    for c in range(N):\n",
    "        JointL += np.log(Likelihood(mu,n[c],b[c],s[c]))\n",
    "        \n",
    "    return JointL"
   ]
  },
  {
   "cell_type": "code",
   "execution_count": 8,
   "id": "9fad2552",
   "metadata": {},
   "outputs": [
    {
     "data": {
      "text/plain": [
       "array([[1., 0., 1.],\n",
       "       [0., 0., 2.],\n",
       "       [0., 0., 1.]])"
      ]
     },
     "execution_count": 8,
     "metadata": {},
     "output_type": "execute_result"
    }
   ],
   "source": [
    "n = np.array([1,0,0])\n",
    "b = np.array([0,0,0])\n",
    "s = np.array([1,2,1])\n",
    "\n",
    "N = n.shape[0]\n",
    "\n",
    "data = np.zeros((N,3))\n",
    "\n",
    "data[:,0] = n\n",
    "data[:,1] = b\n",
    "data[:,2] = s\n",
    "\n",
    "data"
   ]
  },
  {
   "cell_type": "code",
   "execution_count": null,
   "id": "8a261e10",
   "metadata": {},
   "outputs": [],
   "source": []
  },
  {
   "cell_type": "code",
   "execution_count": 9,
   "id": "ea842a9f",
   "metadata": {},
   "outputs": [],
   "source": [
    "mu = np.linspace(0.001,2.,1000)\n",
    "Posterior = np.zeros_like(mu)"
   ]
  },
  {
   "cell_type": "code",
   "execution_count": null,
   "id": "82afa27a",
   "metadata": {},
   "outputs": [],
   "source": []
  },
  {
   "cell_type": "code",
   "execution_count": null,
   "id": "e9651ed1",
   "metadata": {},
   "outputs": [],
   "source": []
  },
  {
   "cell_type": "code",
   "execution_count": null,
   "id": "8c14dc10",
   "metadata": {},
   "outputs": [],
   "source": []
  },
  {
   "cell_type": "code",
   "execution_count": null,
   "id": "3d5a1eb9",
   "metadata": {},
   "outputs": [],
   "source": []
  },
  {
   "cell_type": "code",
   "execution_count": 10,
   "id": "ff9681c7",
   "metadata": {},
   "outputs": [
    {
     "ename": "NameError",
     "evalue": "name 'n_params' is not defined",
     "output_type": "error",
     "traceback": [
      "\u001b[0;31m---------------------------------------------------------------------------\u001b[0m",
      "\u001b[0;31mNameError\u001b[0m                                 Traceback (most recent call last)",
      "Input \u001b[0;32mIn [10]\u001b[0m, in \u001b[0;36m<cell line: 1>\u001b[0;34m()\u001b[0m\n\u001b[0;32m----> 1\u001b[0m fig, axes \u001b[38;5;241m=\u001b[39m plt\u001b[38;5;241m.\u001b[39msubplots(\u001b[43mn_params\u001b[49m, figsize\u001b[38;5;241m=\u001b[39m(\u001b[38;5;241m10\u001b[39m, \u001b[38;5;241m5\u001b[39m), sharex\u001b[38;5;241m=\u001b[39m\u001b[38;5;28;01mTrue\u001b[39;00m)\n\u001b[1;32m      3\u001b[0m samples \u001b[38;5;241m=\u001b[39m sampler\u001b[38;5;241m.\u001b[39mget_chain()\n\u001b[1;32m      4\u001b[0m labels \u001b[38;5;241m=\u001b[39m [\u001b[38;5;124m\"\u001b[39m\u001b[38;5;124m$p$\u001b[39m\u001b[38;5;124m\"\u001b[39m]\n",
      "\u001b[0;31mNameError\u001b[0m: name 'n_params' is not defined"
     ]
    }
   ],
   "source": [
    "fig, axes = plt.subplots(n_params, figsize=(10, 5), sharex=True)\n",
    "\n",
    "samples = sampler.get_chain()\n",
    "labels = [\"$p$\"]\n",
    "\n",
    "for i in range(n_params):\n",
    "    #ax = axes[i]\n",
    "    axes.plot(samples[:,:,i], \"k\", alpha=0.7)\n",
    "    axes.set_xlim(0, len(samples))\n",
    "    axes.set_ylabel(labels[i],rotation=0, fontsize=15)\n",
    "    axes.yaxis.set_label_coords(-0.1, 0.5)\n",
    "\n",
    "axes.set_xlabel(\"step number\",fontsize=15)"
   ]
  },
  {
   "cell_type": "code",
   "execution_count": null,
   "id": "586a5ef4",
   "metadata": {},
   "outputs": [],
   "source": []
  }
 ],
 "metadata": {
  "kernelspec": {
   "display_name": "Python 3 (ipykernel)",
   "language": "python",
   "name": "python3"
  },
  "language_info": {
   "codemirror_mode": {
    "name": "ipython",
    "version": 3
   },
   "file_extension": ".py",
   "mimetype": "text/x-python",
   "name": "python",
   "nbconvert_exporter": "python",
   "pygments_lexer": "ipython3",
   "version": "3.9.12"
  }
 },
 "nbformat": 4,
 "nbformat_minor": 5
}
