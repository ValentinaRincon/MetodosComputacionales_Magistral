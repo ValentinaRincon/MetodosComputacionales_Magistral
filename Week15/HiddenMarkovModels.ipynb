{
 "cells": [
  {
   "cell_type": "code",
   "execution_count": 1,
   "id": "88e88eba",
   "metadata": {},
   "outputs": [],
   "source": [
    "import numpy as np\n",
    "import matplotlib.pyplot as plt\n",
    "from itertools import permutations\n",
    "from itertools import combinations\n",
    "from itertools import combinations_with_replacement"
   ]
  },
  {
   "cell_type": "code",
   "execution_count": 2,
   "id": "e7a7d5d1",
   "metadata": {},
   "outputs": [],
   "source": [
    "# Definimos estados y priors\n",
    "States = np.array([0,1]) # Deben ser enteros \n",
    "Prior =  np.array([0.4,0.6])"
   ]
  },
  {
   "cell_type": "code",
   "execution_count": 3,
   "id": "eccdd47f",
   "metadata": {},
   "outputs": [],
   "source": [
    "# Definimos matrices de emisión y transmision\n",
    "T = np.array([[0.7,0.5],[0.3,0.5]])\n",
    "\n",
    "E = np.array([[0.8,0.2],[0.1,0.3],[0.1,0.5]])\n",
    "\n",
    "#np.sum(T,axis=0)"
   ]
  },
  {
   "cell_type": "code",
   "execution_count": 4,
   "id": "1d684a23",
   "metadata": {},
   "outputs": [
    {
     "data": {
      "text/plain": [
       "'Feliz'"
      ]
     },
     "execution_count": 4,
     "metadata": {},
     "output_type": "execute_result"
    }
   ],
   "source": [
    "DictH = {0:'Feliz',1:'Triste'} \n",
    "DictH[0]"
   ]
  },
  {
   "cell_type": "code",
   "execution_count": 5,
   "id": "a995a256",
   "metadata": {},
   "outputs": [
    {
     "data": {
      "text/plain": [
       "'Rojo'"
      ]
     },
     "execution_count": 5,
     "metadata": {},
     "output_type": "execute_result"
    }
   ],
   "source": [
    "DictO = {0:'Rojo',1:'Verde',2:'Azul'}\n",
    "DictO[0]"
   ]
  },
  {
   "cell_type": "code",
   "execution_count": 22,
   "id": "cd6b98a0",
   "metadata": {},
   "outputs": [],
   "source": [
    "# Secuencia observada 120 -> VAR\n",
    "Obs = np.array([1,2,0])"
   ]
  },
  {
   "cell_type": "code",
   "execution_count": 23,
   "id": "c4644779",
   "metadata": {},
   "outputs": [],
   "source": [
    "def GetStates(States,N):\n",
    "    \n",
    "    CStates = list( combinations_with_replacement(States,N) )\n",
    "    \n",
    "    print(CStates)\n",
    "    \n",
    "    Permu = []\n",
    "    \n",
    "    for it in CStates:\n",
    "        p = list(permutations(it,N))\n",
    "       # print(p)\n",
    "        \n",
    "        for i in p:\n",
    "            if i not in Permu:\n",
    "                Permu.append(i)\n",
    "                \n",
    "    return np.array(Permu)"
   ]
  },
  {
   "cell_type": "code",
   "execution_count": 24,
   "id": "a18a9159",
   "metadata": {},
   "outputs": [
    {
     "name": "stdout",
     "output_type": "stream",
     "text": [
      "[(0, 0, 0), (0, 0, 1), (0, 1, 1), (1, 1, 1)]\n"
     ]
    },
    {
     "data": {
      "text/plain": [
       "array([[0, 0, 0],\n",
       "       [0, 0, 1],\n",
       "       [0, 1, 0],\n",
       "       [1, 0, 0],\n",
       "       [0, 1, 1],\n",
       "       [1, 0, 1],\n",
       "       [1, 1, 0],\n",
       "       [1, 1, 1]])"
      ]
     },
     "execution_count": 24,
     "metadata": {},
     "output_type": "execute_result"
    }
   ],
   "source": [
    "HiddenStates = GetStates(States,3)\n",
    "HiddenStates"
   ]
  },
  {
   "cell_type": "code",
   "execution_count": 28,
   "id": "d8585c5c",
   "metadata": {},
   "outputs": [],
   "source": [
    "def GetProb(T,E,Obs,State,Prior):\n",
    "    \n",
    "    n = len(Obs)\n",
    "    p = 1.\n",
    "    \n",
    "    p *= Prior[State[0]]\n",
    "    \n",
    "    # Matriz de transicion\n",
    "    for i in range(n-1):\n",
    "        p *= T[ State[i+1], State[i]  ]\n",
    "        \n",
    "    for i in range(n):\n",
    "        p *= E[ Obs[i], State[i] ]\n",
    "        \n",
    "    return p"
   ]
  },
  {
   "cell_type": "code",
   "execution_count": 29,
   "id": "fe875dbe",
   "metadata": {},
   "outputs": [],
   "source": [
    "P = np.zeros(HiddenStates.shape[0], dtype=np.float64)"
   ]
  },
  {
   "cell_type": "code",
   "execution_count": 30,
   "id": "2cc4bb20",
   "metadata": {},
   "outputs": [
    {
     "name": "stdout",
     "output_type": "stream",
     "text": [
      "[0.001568 0.000168 0.0024   0.00504  0.0006   0.00054  0.018    0.0045  ]\n"
     ]
    }
   ],
   "source": [
    "for i in range(P.shape[0]):\n",
    "    P[i] = GetProb(T,E,Obs,HiddenStates[i],Prior)\n",
    "    \n",
    "print(P)"
   ]
  },
  {
   "cell_type": "code",
   "execution_count": 31,
   "id": "c9567987",
   "metadata": {},
   "outputs": [
    {
     "data": {
      "text/plain": [
       "[<matplotlib.lines.Line2D at 0x7f34e9dfa2b0>]"
      ]
     },
     "execution_count": 31,
     "metadata": {},
     "output_type": "execute_result"
    },
    {
     "data": {
      "image/png": "[encoded data removed]",
      "text/plain": [
       "<Figure size 432x288 with 1 Axes>"
      ]
     },
     "metadata": {
      "needs_background": "light"
     },
     "output_type": "display_data"
    }
   ],
   "source": [
    "plt.plot(P)"
   ]
  },
  {
   "cell_type": "code",
   "execution_count": 33,
   "id": "54ac916a",
   "metadata": {},
   "outputs": [
    {
     "name": "stdout",
     "output_type": "stream",
     "text": [
      "[[1 1 0]]\n"
     ]
    }
   ],
   "source": [
    "ii = np.where( P == np.amax(P))\n",
    "print(HiddenStates[ii])"
   ]
  },
  {
   "cell_type": "code",
   "execution_count": 34,
   "id": "e170ebd8",
   "metadata": {},
   "outputs": [
    {
     "data": {
      "text/plain": [
       "0.032816"
      ]
     },
     "execution_count": 34,
     "metadata": {},
     "output_type": "execute_result"
    }
   ],
   "source": [
    "np.sum(P)"
   ]
  },
  {
   "cell_type": "code",
   "execution_count": 36,
   "id": "32eca701",
   "metadata": {},
   "outputs": [
    {
     "name": "stdout",
     "output_type": "stream",
     "text": [
      "[(0, 0, 0), (0, 0, 1), (0, 0, 2), (0, 1, 1), (0, 1, 2), (0, 2, 2), (1, 1, 1), (1, 1, 2), (1, 2, 2), (2, 2, 2)]\n"
     ]
    }
   ],
   "source": [
    "ObsStates = GetStates([0,1,2],3)\n",
    "#ObsStates"
   ]
  },
  {
   "cell_type": "code",
   "execution_count": 37,
   "id": "6f61ee8a",
   "metadata": {},
   "outputs": [],
   "source": [
    "Nobs = ObsStates.shape[0]\n",
    "\n",
    "PObs = np.zeros(Nobs)\n",
    "\n",
    "for j in range(Nobs):\n",
    "    \n",
    "    dim = HiddenStates.shape[0]\n",
    "    P = np.zeros(dim)\n",
    "    \n",
    "    for i in range(dim):\n",
    "        P[i] = GetProb(T,E,ObsStates[j],HiddenStates[i],Prior)\n",
    "        \n",
    "    PObs[j] = np.sum(P)"
   ]
  },
  {
   "cell_type": "code",
   "execution_count": 38,
   "id": "8b6f43d9",
   "metadata": {},
   "outputs": [
    {
     "data": {
      "text/plain": [
       "[<matplotlib.lines.Line2D at 0x7f34e71e4eb0>]"
      ]
     },
     "execution_count": 38,
     "metadata": {},
     "output_type": "execute_result"
    },
    {
     "data": {
      "image/png": "[encoded data removed]",
      "text/plain": [
       "<Figure size 432x288 with 1 Axes>"
      ]
     },
     "metadata": {
      "needs_background": "light"
     },
     "output_type": "display_data"
    }
   ],
   "source": [
    "plt.plot(PObs)"
   ]
  },
  {
   "cell_type": "code",
   "execution_count": 39,
   "id": "66eb9e9d",
   "metadata": {},
   "outputs": [
    {
     "name": "stdout",
     "output_type": "stream",
     "text": [
      "[[0 0 0]]\n"
     ]
    }
   ],
   "source": [
    "ii = np.where( PObs == np.amax(PObs))\n",
    "print(ObsStates[ii])"
   ]
  },
  {
   "cell_type": "code",
   "execution_count": 40,
   "id": "9b637592",
   "metadata": {},
   "outputs": [
    {
     "data": {
      "text/plain": [
       "1.0"
      ]
     },
     "execution_count": 40,
     "metadata": {},
     "output_type": "execute_result"
    }
   ],
   "source": [
    "np.sum(PObs)"
   ]
  },
  {
   "cell_type": "code",
   "execution_count": null,
   "id": "df39ab08",
   "metadata": {},
   "outputs": [],
   "source": []
  }
 ],
 "metadata": {
  "kernelspec": {
   "display_name": "Python 3 (ipykernel)",
   "language": "python",
   "name": "python3"
  },
  "language_info": {
   "codemirror_mode": {
    "name": "ipython",
    "version": 3
   },
   "file_extension": ".py",
   "mimetype": "text/x-python",
   "name": "python",
   "nbconvert_exporter": "python",
   "pygments_lexer": "ipython3",
   "version": "3.9.12"
  }
 },
 "nbformat": 4,
 "nbformat_minor": 5
}
