{
 "cells": [
  {
   "cell_type": "code",
   "execution_count": 1,
   "id": "88e88eba",
   "metadata": {},
   "outputs": [],
   "source": [
    "import numpy as np\n",
    "import matplotlib.pyplot as plt\n",
    "from itertools import permutations\n",
    "from itertools import combinations\n",
    "from itertools import combinations_with_replacement"
   ]
  },
  {
   "cell_type": "code",
   "execution_count": 2,
   "id": "e7a7d5d1",
   "metadata": {},
   "outputs": [],
   "source": [
    "# Definimos estados y priors\n",
    "States = np.array([0,1]) # Deben ser enteros \n",
    "Prior =  np.array([0.4,0.6])"
   ]
  },
  {
   "cell_type": "code",
   "execution_count": 3,
   "id": "eccdd47f",
   "metadata": {},
   "outputs": [],
   "source": [
    "# Definimos matrices de emisión y transmision\n",
    "T = np.array([[0.7,0.5],[0.3,0.5]])\n",
    "\n",
    "E = np.array([[0.8,0.2],[0.1,0.3],[0.1,0.5]])\n",
    "\n",
    "#np.sum(T,axis=0)"
   ]
  },
  {
   "cell_type": "code",
   "execution_count": 4,
   "id": "1d684a23",
   "metadata": {},
   "outputs": [
    {
     "data": {
      "text/plain": [
       "'Feliz'"
      ]
     },
     "execution_count": 4,
     "metadata": {},
     "output_type": "execute_result"
    }
   ],
   "source": [
    "DictH = {0:'Feliz',1:'Triste'} \n",
    "DictH[0]"
   ]
  },
  {
   "cell_type": "code",
   "execution_count": 5,
   "id": "a995a256",
   "metadata": {},
   "outputs": [
    {
     "data": {
      "text/plain": [
       "'Rojo'"
      ]
     },
     "execution_count": 5,
     "metadata": {},
     "output_type": "execute_result"
    }
   ],
   "source": [
    "DictO = {0:'Rojo',1:'Verde',2:'Azul'}\n",
    "DictO[0]"
   ]
  },
  {
   "cell_type": "code",
   "execution_count": 6,
   "id": "cd6b98a0",
   "metadata": {},
   "outputs": [],
   "source": [
    "# Secuencia observada 120 -> VAR\n",
    "Obs = np.array([1,2,0])"
   ]
  },
  {
   "cell_type": "code",
   "execution_count": 16,
   "id": "c4644779",
   "metadata": {},
   "outputs": [],
   "source": [
    "def GetStates(States,N):\n",
    "    \n",
    "    CStates = list( combinations_with_replacement(States,N) )\n",
    "    \n",
    "    print(CStates)\n",
    "    \n",
    "    Permu = []\n",
    "    \n",
    "    for it in CStates:\n",
    "        p = list(permutations(it,N))\n",
    "       # print(p)\n",
    "        \n",
    "        for i in p:\n",
    "            if i not in Permu:\n",
    "                Permu.append(i)\n",
    "                \n",
    "    return np.array(Permu)"
   ]
  },
  {
   "cell_type": "code",
   "execution_count": 18,
   "id": "d376f65b",
   "metadata": {},
   "outputs": [
    {
     "name": "stdout",
     "output_type": "stream",
     "text": [
      "[(0, 0, 0), (0, 0, 1), (0, 1, 1), (1, 1, 1)]\n"
     ]
    },
    {
     "data": {
      "text/plain": [
       "array([[0, 0, 0],\n",
       "       [0, 0, 1],\n",
       "       [0, 1, 0],\n",
       "       [1, 0, 0],\n",
       "       [0, 1, 1],\n",
       "       [1, 0, 1],\n",
       "       [1, 1, 0],\n",
       "       [1, 1, 1]])"
      ]
     },
     "execution_count": 18,
     "metadata": {},
     "output_type": "execute_result"
    }
   ],
   "source": [
    "HiddenStates = GetStates(States,3)\n",
    "HiddenStates"
   ]
  },
  {
   "cell_type": "code",
   "execution_count": null,
   "id": "8530ba92",
   "metadata": {},
   "outputs": [],
   "source": []
  }
 ],
 "metadata": {
  "kernelspec": {
   "display_name": "Python 3 (ipykernel)",
   "language": "python",
   "name": "python3"
  },
  "language_info": {
   "codemirror_mode": {
    "name": "ipython",
    "version": 3
   },
   "file_extension": ".py",
   "mimetype": "text/x-python",
   "name": "python",
   "nbconvert_exporter": "python",
   "pygments_lexer": "ipython3",
   "version": "3.9.12"
  }
 },
 "nbformat": 4,
 "nbformat_minor": 5
}
