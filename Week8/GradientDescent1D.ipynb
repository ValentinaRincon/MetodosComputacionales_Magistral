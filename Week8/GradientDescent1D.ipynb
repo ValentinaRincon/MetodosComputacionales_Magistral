{
 "cells": [
  {
   "cell_type": "code",
   "execution_count": 1,
   "id": "d04fc765",
   "metadata": {},
   "outputs": [],
   "source": [
    "#from IPython.display import display, HTML\n",
    "#display(HTML(\"<style>.container { width:100% !important; }</style>\"))\n",
    "#%matplotlib notebook\n",
    "%matplotlib ipympl \n",
    "import numpy as np\n",
    "import matplotlib.pyplot as plt\n",
    "import matplotlib.animation as animation\n",
    "from tqdm import tqdm"
   ]
  },
  {
   "cell_type": "code",
   "execution_count": null,
   "id": "62634d45",
   "metadata": {},
   "outputs": [],
   "source": []
  },
  {
   "cell_type": "code",
   "execution_count": 2,
   "id": "5b051742",
   "metadata": {},
   "outputs": [],
   "source": [
    "def f(x):\n",
    "   # return (x-1)**2\n",
    "    return x**2 + 10*np.sin(x)\n",
    "    #return x**4 - 2*x**2 -20*x -6"
   ]
  },
  {
   "cell_type": "code",
   "execution_count": 3,
   "id": "90a1f932",
   "metadata": {},
   "outputs": [],
   "source": [
    "Dx = lambda f,x,h=1e-5: (f(x+h) - f(x-h))/(2*h)"
   ]
  },
  {
   "cell_type": "code",
   "execution_count": 4,
   "id": "6abfb3ca",
   "metadata": {},
   "outputs": [],
   "source": [
    "_x = np.linspace(-10,10,50)\n",
    "F = f(_x)"
   ]
  },
  {
   "cell_type": "code",
   "execution_count": null,
   "id": "fe97894b",
   "metadata": {},
   "outputs": [],
   "source": []
  },
  {
   "cell_type": "code",
   "execution_count": 5,
   "id": "615427dc",
   "metadata": {},
   "outputs": [],
   "source": [
    "def Minimizer(f, N=300, gamma=0.01):\n",
    "    \n",
    "    r = np.zeros(N)\n",
    "    # Seed\n",
    "    r[0] = np.random.uniform(-5,5)\n",
    "    \n",
    "    for i in tqdm(range(1,N)):\n",
    "        r[i] = r[i-1] - gamma*Dx(f,r[i-1])\n",
    "        \n",
    "    return r"
   ]
  },
  {
   "cell_type": "code",
   "execution_count": 6,
   "id": "61a8df1d",
   "metadata": {},
   "outputs": [
    {
     "name": "stderr",
     "output_type": "stream",
     "text": [
      "100%|██████████| 299/299 [00:00<00:00, 226780.63it/s]\n"
     ]
    }
   ],
   "source": [
    "x = Minimizer(f)"
   ]
  },
  {
   "cell_type": "code",
   "execution_count": 7,
   "id": "2199a5b5",
   "metadata": {},
   "outputs": [],
   "source": [
    "# Definimos la funcion de costo\n",
    "Cost = f(x)"
   ]
  },
  {
   "cell_type": "code",
   "execution_count": 8,
   "id": "a43b6332",
   "metadata": {},
   "outputs": [
    {
     "data": {
      "text/plain": [
       "3.8374671064905552"
      ]
     },
     "execution_count": 8,
     "metadata": {},
     "output_type": "execute_result"
    }
   ],
   "source": [
    "x[-1]"
   ]
  },
  {
   "cell_type": "code",
   "execution_count": 9,
   "id": "1325456f",
   "metadata": {},
   "outputs": [
    {
     "data": {
      "text/plain": [
       "8.31558557947746"
      ]
     },
     "execution_count": 9,
     "metadata": {},
     "output_type": "execute_result"
    }
   ],
   "source": [
    "# Ultimo valor\n",
    "Cost[-1]"
   ]
  },
  {
   "cell_type": "code",
   "execution_count": 10,
   "id": "d0acbbce",
   "metadata": {},
   "outputs": [
    {
     "data": {
      "application/vnd.jupyter.widget-view+json": {
       "model_id": "d0f25fff25074382aac399c28517f5b3",
       "version_major": 2,
       "version_minor": 0
      },
      "image/png": "[encoded data removed]",
      "text/html": [
       "\n",
       "            <div style=\"display: inline-block;\">\n",
       "                <div class=\"jupyter-widgets widget-label\" style=\"text-align: center;\">\n",
       "                    Figure\n",
       "                </div>\n",
       "                <img src='data:image/png;base64,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' width=700.0/>\n",
       "            </div>\n",
       "        "
      ],
      "text/plain": [
       "Canvas(toolbar=Toolbar(toolitems=[('Home', 'Reset original view', 'home', 'home'), ('Back', 'Back to previous …"
      ]
     },
     "metadata": {},
     "output_type": "display_data"
    }
   ],
   "source": [
    "fig = plt.figure(figsize=(7,2))\n",
    "ax = fig.add_subplot(1,2,1)\n",
    "ax1 = fig.add_subplot(1,2,2)\n",
    "\n",
    "def init():\n",
    "    \n",
    "    ax.set_xlim(_x[0],_x[-1])\n",
    "    \n",
    "    ax.set_xlabel(r'$x$',fontsize=10)\n",
    "    ax.set_ylabel(r'$f(x)$',fontsize=10)\n",
    "    \n",
    "    ax1.set_xlabel(r'$N$',fontsize=10)\n",
    "    ax1.set_ylabel(r'$Cost \\ Function$',fontsize=15)\n",
    "    \n",
    "def Update(i):\n",
    "    \n",
    "    ax.clear()\n",
    "    init()\n",
    "    ax.plot(_x,f(_x))\n",
    "    ax.axhline(y=f(x[i]),ls='--',color='r')\n",
    "    ax.scatter(x[i],f(x[i]), marker='o',color='r', label=r'$N=%.0f$'%(i),s=50)                 \n",
    "    ax1.scatter(i,Cost[i],marker='.',color='k')                  \n",
    "    \n",
    "    ax.legend()\n",
    "\n",
    "\n",
    "Animation = animation.FuncAnimation(fig, Update, frames=len(x),init_func=init)"
   ]
  },
  {
   "cell_type": "code",
   "execution_count": 11,
   "id": "e7ff9fec",
   "metadata": {},
   "outputs": [],
   "source": [
    "Writer = animation.writers['ffmpeg']\n",
    "writer = Writer(fps=2, metadata=dict(artist='Me'), bitrate=1800 )\n",
    "#Animation.save( 'Gradient1D.mp4', writer=writer )"
   ]
  },
  {
   "cell_type": "code",
   "execution_count": null,
   "id": "416e33f5",
   "metadata": {},
   "outputs": [],
   "source": []
  },
  {
   "cell_type": "code",
   "execution_count": null,
   "id": "2a141139",
   "metadata": {},
   "outputs": [],
   "source": []
  }
 ],
 "metadata": {
  "kernelspec": {
   "display_name": "Python 3",
   "language": "python",
   "name": "python3"
  },
  "language_info": {
   "codemirror_mode": {
    "name": "ipython",
    "version": 3
   },
   "file_extension": ".py",
   "mimetype": "text/x-python",
   "name": "python",
   "nbconvert_exporter": "python",
   "pygments_lexer": "ipython3",
   "version": "3.8.10"
  }
 },
 "nbformat": 4,
 "nbformat_minor": 5
}
