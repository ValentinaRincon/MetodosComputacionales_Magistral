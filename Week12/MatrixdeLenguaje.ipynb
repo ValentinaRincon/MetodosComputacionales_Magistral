{
 "cells": [
  {
   "cell_type": "code",
   "execution_count": 3,
   "id": "fba10310",
   "metadata": {},
   "outputs": [],
   "source": [
    "import numpy as np\n",
    "import matplotlib.pyplot as plt"
   ]
  },
  {
   "cell_type": "code",
   "execution_count": 4,
   "id": "87e7ba76",
   "metadata": {},
   "outputs": [
    {
     "data": {
      "text/plain": [
       "'m'"
      ]
     },
     "execution_count": 4,
     "metadata": {},
     "output_type": "execute_result"
    }
   ],
   "source": [
    "# Definimos un alfabeto\n",
    "Dict = { 0: 'a', 1: 'o', 2:'m', 3:'r', 4:' ' }\n",
    "Dict[2]"
   ]
  },
  {
   "cell_type": "code",
   "execution_count": 14,
   "id": "1914f3c3",
   "metadata": {},
   "outputs": [],
   "source": [
    "T = np.array([[0.10,0.10,0.80,0.10,0.00],\\\n",
    "              [0.10,0.10,0.00,0.70,0.00],\\\n",
    "              [0.00,0.70,0.10,0.10,0.00],\\\n",
    "              [0.00,0.10,0.10,0.10,0.90],\\\n",
    "              [0.80,0.00,0.00,0.00,0.10],\\\n",
    "             ])"
   ]
  },
  {
   "cell_type": "code",
   "execution_count": 15,
   "id": "fab7c973",
   "metadata": {},
   "outputs": [
    {
     "data": {
      "text/plain": [
       "array([1., 1., 1., 1., 1.])"
      ]
     },
     "execution_count": 15,
     "metadata": {},
     "output_type": "execute_result"
    }
   ],
   "source": [
    "np.sum(T,axis=0)"
   ]
  },
  {
   "cell_type": "code",
   "execution_count": 16,
   "id": "454dad36",
   "metadata": {},
   "outputs": [],
   "source": [
    "def GetString(Initial,T,N=int(30)):\n",
    "    \n",
    "    tex = \"\"\n",
    "    States = np.array(Initial)\n",
    "    \n",
    "    for i in range(N):\n",
    "        Initial = np.dot(T,Initial)\n",
    "        States = np.vstack((States,Initial))\n",
    "        index = np.where(np.amax(Initial)==Initial)[0]\n",
    "        \n",
    "        word = Dict[index[0]]\n",
    "        tex = tex + word\n",
    "        \n",
    "    return tex,States"
   ]
  },
  {
   "cell_type": "code",
   "execution_count": 17,
   "id": "e85358a1",
   "metadata": {},
   "outputs": [
    {
     "data": {
      "text/plain": [
       "'roma romaarrrrrrrrrrrrrrrrrrrr'"
      ]
     },
     "execution_count": 17,
     "metadata": {},
     "output_type": "execute_result"
    }
   ],
   "source": [
    "initial = np.array([0.,0.,0.,0.,1.])\n",
    "tex, States = GetString(initial,T)\n",
    "tex"
   ]
  },
  {
   "cell_type": "code",
   "execution_count": 13,
   "id": "09695370",
   "metadata": {},
   "outputs": [
    {
     "data": {
      "image/png": "[encoded data removed]",
      "text/plain": [
       "<Figure size 432x288 with 1 Axes>"
      ]
     },
     "metadata": {
      "needs_background": "light"
     },
     "output_type": "display_data"
    }
   ],
   "source": [
    "for i in range(States.shape[1]):\n",
    "    plt.plot(States[:,i])"
   ]
  },
  {
   "cell_type": "code",
   "execution_count": null,
   "id": "27b1f8fd",
   "metadata": {},
   "outputs": [],
   "source": []
  }
 ],
 "metadata": {
  "kernelspec": {
   "display_name": "Python 3 (ipykernel)",
   "language": "python",
   "name": "python3"
  },
  "language_info": {
   "codemirror_mode": {
    "name": "ipython",
    "version": 3
   },
   "file_extension": ".py",
   "mimetype": "text/x-python",
   "name": "python",
   "nbconvert_exporter": "python",
   "pygments_lexer": "ipython3",
   "version": "3.9.12"
  }
 },
 "nbformat": 4,
 "nbformat_minor": 5
}
