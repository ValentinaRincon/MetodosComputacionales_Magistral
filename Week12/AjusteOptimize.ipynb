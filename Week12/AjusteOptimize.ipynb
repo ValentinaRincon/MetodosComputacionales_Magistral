{
 "cells": [
  {
   "cell_type": "code",
   "execution_count": 1,
   "id": "f71c3d21",
   "metadata": {},
   "outputs": [],
   "source": [
    "#%matplotlib notebook\n",
    "import numpy as np\n",
    "import matplotlib.pyplot as plt\n",
    "\n",
    "import sympy as sym\n",
    "from scipy.stats import chi2\n",
    "import scipy.optimize as spo\n",
    "\n",
    "import os\n",
    "import os.path as path\n",
    "import wget"
   ]
  },
  {
   "cell_type": "code",
   "execution_count": 2,
   "id": "78d5c37c",
   "metadata": {},
   "outputs": [
    {
     "name": "stdout",
     "output_type": "stream",
     "text": [
      "\r",
      "  0% [                                                                                ]    0 / 1025\r",
      "100% [................................................................................] 1025 / 1025File loaded\n"
     ]
    }
   ],
   "source": [
    "if not path.exists('Data'):\n",
    "    os.mkdir('Data')\n",
    "\n",
    "!rm Data/Minimos.dat\n",
    "\n",
    "file = 'Data/Minimos.dat'\n",
    "\n",
    "\n",
    "#url = 'https://raw.githubusercontent.com/asegura4488/Database/main/MetodosComputacionalesReforma/MinimosLineal.txt'\n",
    "#url = 'https://raw.githubusercontent.com/asegura4488/Database/main/MetodosComputacionalesReforma/MinimosCuadratico.txt'\n",
    "url = 'https://raw.githubusercontent.com/asegura4488/Database/main/MetodosComputacionalesReforma/Exponencial.dat'\n",
    "\n",
    "if not path.exists(file):\n",
    "    Path_ = wget.download(url,file)\n",
    "    print('File loaded')\n",
    "else:\n",
    "    Path_ = file"
   ]
  },
  {
   "cell_type": "code",
   "execution_count": 50,
   "id": "f23de65b",
   "metadata": {},
   "outputs": [
    {
     "name": "stdout",
     "output_type": "stream",
     "text": [
      "[ 2.87023182  8.55661144  0.79691416  4.3479544   5.62273815  5.31176612\n",
      " 11.92628121 18.75759582  1.84197505  5.96670404  8.58695064  0.57941421\n",
      "  2.78085567 20.12309041  0.93334035  2.04168042 16.63118783 11.61206308\n",
      "  4.17495112 12.60025344  6.09136075  7.30474948  6.05786784 15.91862182\n",
      "  6.0361259   0.81416496  0.91678872  5.04763581  4.98191542 13.35402044]\n"
     ]
    }
   ],
   "source": [
    "data = np.loadtxt(Path_)\n",
    "x = data[:,0]\n",
    "y = data[:,1]\n",
    "N = len(x)\n",
    "\n",
    "sigma = np.random.normal(loc=0,scale=10,size=N)\n",
    "sigma = np.abs(sigma)\n",
    "print(sigma)"
   ]
  },
  {
   "cell_type": "code",
   "execution_count": 51,
   "id": "d3c41781",
   "metadata": {},
   "outputs": [
    {
     "data": {
      "text/plain": [
       "<ErrorbarContainer object of 3 artists>"
      ]
     },
     "execution_count": 51,
     "metadata": {},
     "output_type": "execute_result"
    },
    {
     "data": {
      "image/png": "[encoded data removed]",
      "text/plain": [
       "<Figure size 432x288 with 1 Axes>"
      ]
     },
     "metadata": {
      "needs_background": "light"
     },
     "output_type": "display_data"
    }
   ],
   "source": [
    "plt.errorbar(x,y,yerr=sigma,fmt='.',color='r')"
   ]
  },
  {
   "cell_type": "code",
   "execution_count": 52,
   "id": "86920338",
   "metadata": {},
   "outputs": [],
   "source": [
    "# Definimos el modelo con sus parametros\n",
    "def GetModel1(x,p):\n",
    "    \n",
    "    y = 0.\n",
    "    for n in range(len(p)):\n",
    "        y += p[n]*x**n\n",
    "    \n",
    "    return y"
   ]
  },
  {
   "cell_type": "code",
   "execution_count": 53,
   "id": "b33d7a04",
   "metadata": {},
   "outputs": [],
   "source": [
    "def GetModel2(x,p):\n",
    "    \n",
    "    A,B,C = p\n",
    "   # C  = 0.\n",
    "    return A*np.exp(B*x)+C"
   ]
  },
  {
   "cell_type": "code",
   "execution_count": 54,
   "id": "807a7663",
   "metadata": {},
   "outputs": [],
   "source": [
    "def Chi2(p,x,y,sigma,Model):\n",
    "    return np.sum( ( ( y - Model(x,p) )/sigma )**2  + np.log(sigma) ) "
   ]
  },
  {
   "cell_type": "code",
   "execution_count": 55,
   "id": "1f359a52",
   "metadata": {},
   "outputs": [],
   "source": [
    "#primer modelo\n",
    "p0 = np.ones(8)\n",
    "nll = lambda *p: Chi2(*p)"
   ]
  },
  {
   "cell_type": "code",
   "execution_count": 56,
   "id": "49205d9a",
   "metadata": {},
   "outputs": [
    {
     "name": "stdout",
     "output_type": "stream",
     "text": [
      "Optimization terminated successfully.\n",
      "         Current function value: 138.084835\n",
      "         Iterations: 818\n",
      "         Function evaluations: 1281\n"
     ]
    }
   ],
   "source": [
    "result = spo.minimize( nll, p0, args=(x,y,sigma,GetModel1), options={\"disp\":True},method='Nelder-mead')"
   ]
  },
  {
   "cell_type": "code",
   "execution_count": 57,
   "id": "5182960e",
   "metadata": {},
   "outputs": [
    {
     "name": "stdout",
     "output_type": "stream",
     "text": [
      "Success!\n",
      "x=[  5.86386629  -2.39754545  13.28924336 -10.22850013  -4.28093043\n",
      "   6.13101328  -1.54317574   0.15336758] y = 138.08483491946677\n"
     ]
    }
   ],
   "source": [
    "if result.success:\n",
    "    print('Success!')\n",
    "    print(f\"x={result.x} y = {result.fun}\")\n",
    "else:\n",
    "    print('could not find a minimum')\n",
    "    print(f\"x={result.x} y = {result.fun}\")"
   ]
  },
  {
   "cell_type": "code",
   "execution_count": 58,
   "id": "c91e976a",
   "metadata": {},
   "outputs": [],
   "source": [
    "param = result.x"
   ]
  },
  {
   "cell_type": "code",
   "execution_count": 59,
   "id": "e650a4d4",
   "metadata": {},
   "outputs": [
    {
     "data": {
      "text/plain": [
       "138.08483491946677"
      ]
     },
     "execution_count": 59,
     "metadata": {},
     "output_type": "execute_result"
    }
   ],
   "source": [
    "ObsChi2 = Chi2(param,x,y,sigma,GetModel1)\n",
    "ObsChi2"
   ]
  },
  {
   "cell_type": "code",
   "execution_count": 60,
   "id": "43a84484",
   "metadata": {},
   "outputs": [],
   "source": [
    "def Chi2Reducido(p,Model):\n",
    "    return Chi2(p,x,y,sigma,Model)/(N-len(p))"
   ]
  },
  {
   "cell_type": "code",
   "execution_count": 61,
   "id": "bfaf01ec",
   "metadata": {},
   "outputs": [
    {
     "data": {
      "text/plain": [
       "6.276583405430308"
      ]
     },
     "execution_count": 61,
     "metadata": {},
     "output_type": "execute_result"
    }
   ],
   "source": [
    "Chi2R = Chi2Reducido(param,GetModel1)\n",
    "Chi2R"
   ]
  },
  {
   "cell_type": "code",
   "execution_count": 62,
   "id": "be3adadb",
   "metadata": {},
   "outputs": [
    {
     "name": "stdout",
     "output_type": "stream",
     "text": [
      "Warning: Desired error not necessarily achieved due to precision loss.\n",
      "         Current function value: 141.745836\n",
      "         Iterations: 49\n",
      "         Function evaluations: 324\n",
      "         Gradient evaluations: 81\n"
     ]
    }
   ],
   "source": [
    "#segundo modelo\n",
    "p0 = np.ones(3)\n",
    "nll = lambda *p: Chi2(*p)\n",
    "result1 = spo.minimize( nll, p0, args=(x,y,sigma,GetModel2), options={\"disp\":True})"
   ]
  },
  {
   "cell_type": "code",
   "execution_count": 63,
   "id": "592705fe",
   "metadata": {},
   "outputs": [
    {
     "data": {
      "text/plain": [
       "141.74583566756104"
      ]
     },
     "execution_count": 63,
     "metadata": {},
     "output_type": "execute_result"
    }
   ],
   "source": [
    "param1 = result1.x\n",
    "ObsChi2 = Chi2(param1,x,y,sigma,GetModel2)\n",
    "ObsChi2"
   ]
  },
  {
   "cell_type": "code",
   "execution_count": 64,
   "id": "13959178",
   "metadata": {},
   "outputs": [
    {
     "data": {
      "text/plain": [
       "5.249845765465223"
      ]
     },
     "execution_count": 64,
     "metadata": {},
     "output_type": "execute_result"
    }
   ],
   "source": [
    "Chi2RE = Chi2Reducido(param1,GetModel2)\n",
    "Chi2RE"
   ]
  },
  {
   "cell_type": "code",
   "execution_count": 65,
   "id": "16122174",
   "metadata": {},
   "outputs": [
    {
     "data": {
      "text/plain": [
       "<matplotlib.legend.Legend at 0x7f20c04dda60>"
      ]
     },
     "execution_count": 65,
     "metadata": {},
     "output_type": "execute_result"
    },
    {
     "data": {
      "image/png": "[encoded data removed]",
      "text/plain": [
       "<Figure size 360x360 with 1 Axes>"
      ]
     },
     "metadata": {
      "needs_background": "light"
     },
     "output_type": "display_data"
    }
   ],
   "source": [
    "fig = plt.figure(figsize=(5,5))\n",
    "ax = fig.add_subplot(1,1,1)\n",
    "ax.errorbar(x,y,yerr=sigma,fmt='o',color='k',label='Data')\n",
    "\n",
    "t = np.linspace(np.min(x),np.max(x),100)\n",
    "ax.plot(t,GetModel1(t,param),lw=3,label='Polinomial')\n",
    "ax.plot(t,GetModel2(t,param1),lw=3,label='Exponential')\n",
    "ax.legend()"
   ]
  },
  {
   "cell_type": "code",
   "execution_count": 66,
   "id": "a9479ce2",
   "metadata": {},
   "outputs": [],
   "source": [
    "#df = N - len(param)\n",
    "#df"
   ]
  },
  {
   "cell_type": "code",
   "execution_count": 67,
   "id": "45abb1f3",
   "metadata": {},
   "outputs": [],
   "source": [
    "#CriChi2 = chi2.ppf(0.975,df=df)\n",
    "#print(CriChi2)"
   ]
  },
  {
   "cell_type": "code",
   "execution_count": 68,
   "id": "9db2058b",
   "metadata": {},
   "outputs": [],
   "source": [
    "#_x = np.linspace(0,100,100)\n",
    "#_y = chi2.pdf(_x,df=df)\n",
    "#plt.plot(_x,_y)\n",
    "\n",
    "#plt.axvline(x=CriChi2,color='r')\n",
    "#plt.axvline(x=ObsChi2,color='k')"
   ]
  },
  {
   "cell_type": "code",
   "execution_count": 69,
   "id": "c8c72748",
   "metadata": {},
   "outputs": [
    {
     "name": "stdout",
     "output_type": "stream",
     "text": [
      "Optimization terminated successfully.\n",
      "         Current function value: 4099.475629\n",
      "         Iterations: 69\n",
      "         Function evaluations: 130\n",
      "Optimization terminated successfully.\n",
      "         Current function value: 365.657419\n",
      "         Iterations: 148\n",
      "         Function evaluations: 262\n",
      "Optimization terminated successfully.\n",
      "         Current function value: 161.917135\n",
      "         Iterations: 324\n",
      "         Function evaluations: 550\n",
      "Optimization terminated successfully.\n",
      "         Current function value: 118.528500\n",
      "         Iterations: 605\n",
      "         Function evaluations: 991\n",
      "Warning: Maximum number of function evaluations has been exceeded.\n",
      "Warning: Maximum number of function evaluations has been exceeded.\n",
      "Optimization terminated successfully.\n",
      "         Current function value: 138.084835\n",
      "         Iterations: 818\n",
      "         Function evaluations: 1281\n",
      "Optimization terminated successfully.\n",
      "         Current function value: 118.419844\n",
      "         Iterations: 1114\n",
      "         Function evaluations: 1664\n",
      "Warning: Maximum number of function evaluations has been exceeded.\n",
      "Optimization terminated successfully.\n",
      "         Current function value: 350.997614\n",
      "         Iterations: 963\n",
      "         Function evaluations: 1455\n",
      "Warning: Maximum number of function evaluations has been exceeded.\n",
      "Optimization terminated successfully.\n",
      "         Current function value: 1760.076725\n",
      "         Iterations: 1073\n",
      "         Function evaluations: 1609\n",
      "Warning: Maximum number of function evaluations has been exceeded.\n"
     ]
    }
   ],
   "source": [
    "Chi2V = []\n",
    "npfit = []\n",
    "\n",
    "nparams = 15\n",
    "\n",
    "for i in range(2,nparams):\n",
    "    \n",
    "    p0 = np.ones(i)\n",
    "    result = spo.minimize( nll, p0, args=(x,y,sigma,GetModel1), options={\"disp\":True},method='Nelder-Mead')\n",
    "    \n",
    "    if result.success:\n",
    "        \n",
    "    \n",
    "        param = result.x\n",
    "    \n",
    "        fig = plt.figure(figsize=(5,5))\n",
    "        ax = fig.add_subplot(1,1,1)\n",
    "        ax.errorbar(x,y,yerr=sigma,fmt='o',color='r',label='Data')\n",
    "\n",
    "        t = np.linspace(np.min(x),np.max(x),100)\n",
    "        ax.plot(t,GetModel1(t,param),lw=3,label='Polinomio_{}'.format(i))\n",
    "        ax.legend()\n",
    "    \n",
    "        plt.savefig('Ajuste_%.0f.jpg' %(i))\n",
    "        plt.close()\n",
    "    \n",
    "        Chi2V.append( Chi2Reducido(param,GetModel1) )\n",
    "        npfit.append(i)"
   ]
  },
  {
   "cell_type": "code",
   "execution_count": 70,
   "id": "dc92ff4f",
   "metadata": {},
   "outputs": [
    {
     "data": {
      "image/png": "[encoded data removed]",
      "text/plain": [
       "<Figure size 432x288 with 1 Axes>"
      ]
     },
     "metadata": {
      "needs_background": "light"
     },
     "output_type": "display_data"
    }
   ],
   "source": [
    "plt.scatter(npfit,np.array(Chi2V),color='k',marker='^')\n",
    "plt.axhline(y=Chi2RE,color='r')\n",
    "plt.yscale('log')"
   ]
  },
  {
   "cell_type": "code",
   "execution_count": 71,
   "id": "99cac8d2",
   "metadata": {},
   "outputs": [
    {
     "data": {
      "text/plain": [
       "[146.40984389626973,\n",
       " 13.542867376864532,\n",
       " 6.2275821009825325,\n",
       " 4.741140006631325,\n",
       " 6.276583405430308,\n",
       " 5.6390401884511965,\n",
       " 18.473558630889123,\n",
       " 103.53392498675824]"
      ]
     },
     "execution_count": 71,
     "metadata": {},
     "output_type": "execute_result"
    }
   ],
   "source": [
    "Chi2V"
   ]
  },
  {
   "cell_type": "code",
   "execution_count": 72,
   "id": "2f56c9c2",
   "metadata": {},
   "outputs": [
    {
     "data": {
      "text/plain": [
       "5.249845765465223"
      ]
     },
     "execution_count": 72,
     "metadata": {},
     "output_type": "execute_result"
    }
   ],
   "source": [
    "Chi2RE"
   ]
  },
  {
   "cell_type": "code",
   "execution_count": null,
   "id": "8f29a218",
   "metadata": {},
   "outputs": [],
   "source": []
  },
  {
   "cell_type": "code",
   "execution_count": null,
   "id": "ab5d6c82",
   "metadata": {},
   "outputs": [],
   "source": []
  },
  {
   "cell_type": "code",
   "execution_count": null,
   "id": "49705863",
   "metadata": {},
   "outputs": [],
   "source": []
  }
 ],
 "metadata": {
  "kernelspec": {
   "display_name": "Python 3 (ipykernel)",
   "language": "python",
   "name": "python3"
  },
  "language_info": {
   "codemirror_mode": {
    "name": "ipython",
    "version": 3
   },
   "file_extension": ".py",
   "mimetype": "text/x-python",
   "name": "python",
   "nbconvert_exporter": "python",
   "pygments_lexer": "ipython3",
   "version": "3.9.12"
  }
 },
 "nbformat": 4,
 "nbformat_minor": 5
}
