{
 "cells": [
  {
   "cell_type": "code",
   "execution_count": 1,
   "id": "f71c3d21",
   "metadata": {},
   "outputs": [],
   "source": [
    "#%matplotlib notebook\n",
    "import numpy as np\n",
    "import matplotlib.pyplot as plt\n",
    "\n",
    "import sympy as sym\n",
    "from scipy.stats import chi2\n",
    "import scipy.optimize as spo\n",
    "\n",
    "import os\n",
    "import os.path as path\n",
    "import wget"
   ]
  },
  {
   "cell_type": "code",
   "execution_count": 2,
   "id": "78d5c37c",
   "metadata": {},
   "outputs": [
    {
     "name": "stdout",
     "output_type": "stream",
     "text": [
      "\r",
      "  0% [                                                                                  ]   0 / 521\r",
      "100% [..................................................................................] 521 / 521File loaded\n"
     ]
    }
   ],
   "source": [
    "if not path.exists('Data'):\n",
    "    os.mkdir('Data')\n",
    "\n",
    "!rm Data/Minimos.dat\n",
    "\n",
    "file = 'Data/Minimos.dat'\n",
    "\n",
    "\n",
    "#url = 'https://raw.githubusercontent.com/asegura4488/Database/main/MetodosComputacionalesReforma/MinimosLineal.txt'\n",
    "url = 'https://raw.githubusercontent.com/asegura4488/Database/main/MetodosComputacionalesReforma/MinimosCuadratico.txt'\n",
    "#url = 'https://raw.githubusercontent.com/asegura4488/Database/main/MetodosComputacionalesReforma/Exponencial.dat'\n",
    "\n",
    "if not path.exists(file):\n",
    "    Path_ = wget.download(url,file)\n",
    "    print('File loaded')\n",
    "else:\n",
    "    Path_ = file"
   ]
  },
  {
   "cell_type": "code",
   "execution_count": 3,
   "id": "f23de65b",
   "metadata": {},
   "outputs": [
    {
     "name": "stdout",
     "output_type": "stream",
     "text": [
      "[24.17696469 21.80063109  9.59963019  8.95215575  1.16110204 11.90389044\n",
      "  1.07771908 14.61169024 20.62106301  7.50513157 18.53891388  4.35694683\n",
      "  2.93884717  0.03420968 10.70954828  1.12719552  8.3653453   3.77329618\n",
      "  5.8515591   7.13807831]\n"
     ]
    }
   ],
   "source": [
    "data = np.loadtxt(Path_)\n",
    "x = data[:,0]\n",
    "y = data[:,1]\n",
    "N = len(x)\n",
    "\n",
    "sigma = np.random.normal(loc=0,scale=10,size=N)\n",
    "sigma = np.abs(sigma)\n",
    "print(sigma)"
   ]
  },
  {
   "cell_type": "code",
   "execution_count": 4,
   "id": "d3c41781",
   "metadata": {},
   "outputs": [
    {
     "data": {
      "text/plain": [
       "<ErrorbarContainer object of 3 artists>"
      ]
     },
     "execution_count": 4,
     "metadata": {},
     "output_type": "execute_result"
    },
    {
     "data": {
      "image/png": "[encoded data removed]",
      "text/plain": [
       "<Figure size 432x288 with 1 Axes>"
      ]
     },
     "metadata": {
      "needs_background": "light"
     },
     "output_type": "display_data"
    }
   ],
   "source": [
    "plt.errorbar(x,y,yerr=sigma,fmt='.',color='r')"
   ]
  },
  {
   "cell_type": "code",
   "execution_count": 5,
   "id": "86920338",
   "metadata": {},
   "outputs": [],
   "source": [
    "# Definimos el modelo con sus parametros\n",
    "def GetModel1(x,p):\n",
    "    \n",
    "    y = 0.\n",
    "    for n in range(len(p)):\n",
    "        y += p[n]*x**n\n",
    "    \n",
    "    return y"
   ]
  },
  {
   "cell_type": "code",
   "execution_count": 34,
   "id": "b33d7a04",
   "metadata": {},
   "outputs": [],
   "source": [
    "def GetModel2(x,p):\n",
    "    \n",
    "    A,B = p\n",
    "    C  = 0.\n",
    "    return A*np.exp(B*x)+C"
   ]
  },
  {
   "cell_type": "code",
   "execution_count": 35,
   "id": "807a7663",
   "metadata": {},
   "outputs": [],
   "source": [
    "def Chi2(p,x,y,sigma,Model):\n",
    "    return np.sum( ( ( y - Model(x,p) )/sigma )**2  + np.log(sigma) ) "
   ]
  },
  {
   "cell_type": "code",
   "execution_count": 36,
   "id": "1f359a52",
   "metadata": {},
   "outputs": [],
   "source": [
    "#primer modelo\n",
    "p0 = np.ones(3)\n",
    "nll = lambda *p: Chi2(*p)"
   ]
  },
  {
   "cell_type": "code",
   "execution_count": 37,
   "id": "49205d9a",
   "metadata": {},
   "outputs": [
    {
     "name": "stdout",
     "output_type": "stream",
     "text": [
      "Optimization terminated successfully.\n",
      "         Current function value: 154.717776\n",
      "         Iterations: 157\n",
      "         Function evaluations: 292\n"
     ]
    }
   ],
   "source": [
    "result = spo.minimize( nll, p0, args=(x,y,sigma,GetModel1), options={\"disp\":True},method='Nelder-mead')"
   ]
  },
  {
   "cell_type": "code",
   "execution_count": 38,
   "id": "5182960e",
   "metadata": {},
   "outputs": [
    {
     "name": "stdout",
     "output_type": "stream",
     "text": [
      "Success!\n",
      "x=[-6.28075037 11.0942594   2.46815952] y = 154.71777572661574\n"
     ]
    }
   ],
   "source": [
    "if result.success:\n",
    "    print('Success!')\n",
    "    print(f\"x={result.x} y = {result.fun}\")\n",
    "else:\n",
    "    print('could not find a minimum')\n",
    "    print(f\"x={result.x} y = {result.fun}\")"
   ]
  },
  {
   "cell_type": "code",
   "execution_count": 39,
   "id": "c91e976a",
   "metadata": {},
   "outputs": [],
   "source": [
    "param = result.x"
   ]
  },
  {
   "cell_type": "code",
   "execution_count": 40,
   "id": "e650a4d4",
   "metadata": {},
   "outputs": [
    {
     "data": {
      "text/plain": [
       "154.71777572661574"
      ]
     },
     "execution_count": 40,
     "metadata": {},
     "output_type": "execute_result"
    }
   ],
   "source": [
    "ObsChi2 = Chi2(param,x,y,sigma,GetModel1)\n",
    "ObsChi2"
   ]
  },
  {
   "cell_type": "code",
   "execution_count": 41,
   "id": "43a84484",
   "metadata": {},
   "outputs": [],
   "source": [
    "def Chi2Reducido(p,Model):\n",
    "    return Chi2(p,x,y,sigma,Model)/(N-len(p))"
   ]
  },
  {
   "cell_type": "code",
   "execution_count": 42,
   "id": "bfaf01ec",
   "metadata": {},
   "outputs": [
    {
     "data": {
      "text/plain": [
       "9.101045630977396"
      ]
     },
     "execution_count": 42,
     "metadata": {},
     "output_type": "execute_result"
    }
   ],
   "source": [
    "Chi2R = Chi2Reducido(param,GetModel1)\n",
    "Chi2R"
   ]
  },
  {
   "cell_type": "code",
   "execution_count": 43,
   "id": "be3adadb",
   "metadata": {},
   "outputs": [
    {
     "name": "stdout",
     "output_type": "stream",
     "text": [
      "Warning: Desired error not necessarily achieved due to precision loss.\n",
      "         Current function value: 1220.118750\n",
      "         Iterations: 130\n",
      "         Function evaluations: 636\n",
      "         Gradient evaluations: 208\n"
     ]
    }
   ],
   "source": [
    "#segundo modelo\n",
    "p0 = np.ones(2)\n",
    "nll = lambda *p: Chi2(*p)\n",
    "result1 = spo.minimize( nll, p0, args=(x,y,sigma,GetModel2), options={\"disp\":True})"
   ]
  },
  {
   "cell_type": "code",
   "execution_count": 44,
   "id": "592705fe",
   "metadata": {},
   "outputs": [
    {
     "data": {
      "text/plain": [
       "1220.1187504820155"
      ]
     },
     "execution_count": 44,
     "metadata": {},
     "output_type": "execute_result"
    }
   ],
   "source": [
    "param1 = result1.x\n",
    "ObsChi2 = Chi2(param1,x,y,sigma,GetModel2)\n",
    "ObsChi2"
   ]
  },
  {
   "cell_type": "code",
   "execution_count": 45,
   "id": "13959178",
   "metadata": {},
   "outputs": [
    {
     "data": {
      "text/plain": [
       "67.78437502677863"
      ]
     },
     "execution_count": 45,
     "metadata": {},
     "output_type": "execute_result"
    }
   ],
   "source": [
    "Chi2RE = Chi2Reducido(param1,GetModel2)\n",
    "Chi2RE"
   ]
  },
  {
   "cell_type": "code",
   "execution_count": 46,
   "id": "16122174",
   "metadata": {},
   "outputs": [
    {
     "data": {
      "text/plain": [
       "<matplotlib.legend.Legend at 0x7f926ddee520>"
      ]
     },
     "execution_count": 46,
     "metadata": {},
     "output_type": "execute_result"
    },
    {
     "data": {
      "image/png": "[encoded data removed]",
      "text/plain": [
       "<Figure size 360x360 with 1 Axes>"
      ]
     },
     "metadata": {
      "needs_background": "light"
     },
     "output_type": "display_data"
    }
   ],
   "source": [
    "fig = plt.figure(figsize=(5,5))\n",
    "ax = fig.add_subplot(1,1,1)\n",
    "ax.errorbar(x,y,yerr=sigma,fmt='o',color='k',label='Data')\n",
    "\n",
    "t = np.linspace(np.min(x),np.max(x),100)\n",
    "ax.plot(t,GetModel1(t,param),lw=3,label='Polinomial')\n",
    "ax.plot(t,GetModel2(t,param1),lw=3,label='Exponential')\n",
    "ax.legend()"
   ]
  },
  {
   "cell_type": "code",
   "execution_count": 47,
   "id": "a9479ce2",
   "metadata": {},
   "outputs": [],
   "source": [
    "#df = N - len(param)\n",
    "#df"
   ]
  },
  {
   "cell_type": "code",
   "execution_count": 20,
   "id": "45abb1f3",
   "metadata": {},
   "outputs": [],
   "source": [
    "#CriChi2 = chi2.ppf(0.975,df=df)\n",
    "#print(CriChi2)"
   ]
  },
  {
   "cell_type": "code",
   "execution_count": 21,
   "id": "9db2058b",
   "metadata": {},
   "outputs": [],
   "source": [
    "#_x = np.linspace(0,100,100)\n",
    "#_y = chi2.pdf(_x,df=df)\n",
    "#plt.plot(_x,_y)\n",
    "\n",
    "#plt.axvline(x=CriChi2,color='r')\n",
    "#plt.axvline(x=ObsChi2,color='k')"
   ]
  },
  {
   "cell_type": "code",
   "execution_count": 22,
   "id": "c8c72748",
   "metadata": {},
   "outputs": [
    {
     "name": "stdout",
     "output_type": "stream",
     "text": [
      "Optimization terminated successfully.\n",
      "         Current function value: 510.174045\n",
      "         Iterations: 95\n",
      "         Function evaluations: 177\n",
      "Optimization terminated successfully.\n",
      "         Current function value: 154.717776\n",
      "         Iterations: 157\n",
      "         Function evaluations: 292\n",
      "Warning: Maximum number of function evaluations has been exceeded.\n",
      "Optimization terminated successfully.\n",
      "         Current function value: 631.705683\n",
      "         Iterations: 269\n",
      "         Function evaluations: 472\n",
      "Optimization terminated successfully.\n",
      "         Current function value: 233.063421\n",
      "         Iterations: 523\n",
      "         Function evaluations: 856\n",
      "Optimization terminated successfully.\n",
      "         Current function value: 311.259965\n",
      "         Iterations: 366\n",
      "         Function evaluations: 631\n",
      "Optimization terminated successfully.\n",
      "         Current function value: 887.511264\n",
      "         Iterations: 704\n",
      "         Function evaluations: 1115\n",
      "Optimization terminated successfully.\n",
      "         Current function value: 46426.040999\n",
      "         Iterations: 964\n",
      "         Function evaluations: 1508\n",
      "Optimization terminated successfully.\n",
      "         Current function value: 3283178.608209\n",
      "         Iterations: 1106\n",
      "         Function evaluations: 1728\n",
      "Optimization terminated successfully.\n",
      "         Current function value: 88365398.584786\n",
      "         Iterations: 1159\n",
      "         Function evaluations: 1808\n",
      "Warning: Maximum number of function evaluations has been exceeded.\n",
      "Warning: Maximum number of function evaluations has been exceeded.\n",
      "Warning: Maximum number of function evaluations has been exceeded.\n"
     ]
    }
   ],
   "source": [
    "Chi2V = []\n",
    "npfit = []\n",
    "\n",
    "nparams = 15\n",
    "\n",
    "for i in range(2,nparams):\n",
    "    \n",
    "    p0 = np.ones(i)\n",
    "    result = spo.minimize( nll, p0, args=(x,y,sigma,GetModel1), options={\"disp\":True},method='Nelder-Mead')\n",
    "    \n",
    "    if result.success:\n",
    "        \n",
    "    \n",
    "        param = result.x\n",
    "    \n",
    "        fig = plt.figure(figsize=(5,5))\n",
    "        ax = fig.add_subplot(1,1,1)\n",
    "        ax.errorbar(x,y,yerr=sigma,fmt='o',color='r',label='Data')\n",
    "\n",
    "        t = np.linspace(np.min(x),np.max(x),100)\n",
    "        ax.plot(t,GetModel1(t,param),lw=3,label='Polinomio_{}'.format(i))\n",
    "        ax.legend()\n",
    "    \n",
    "        plt.savefig('Ajuste_%.0f.jpg' %(i))\n",
    "        plt.close()\n",
    "    \n",
    "        Chi2V.append( Chi2Reducido(param,GetModel1) )\n",
    "        npfit.append(i)"
   ]
  },
  {
   "cell_type": "code",
   "execution_count": 23,
   "id": "dc92ff4f",
   "metadata": {},
   "outputs": [
    {
     "data": {
      "image/png": "[encoded data removed]",
      "text/plain": [
       "<Figure size 432x288 with 1 Axes>"
      ]
     },
     "metadata": {
      "needs_background": "light"
     },
     "output_type": "display_data"
    }
   ],
   "source": [
    "plt.scatter(npfit,np.array(Chi2V),color='k',marker='^')\n",
    "plt.axhline(y=Chi2RE,color='r')\n",
    "plt.yscale('log')"
   ]
  },
  {
   "cell_type": "code",
   "execution_count": 24,
   "id": "99cac8d2",
   "metadata": {},
   "outputs": [
    {
     "data": {
      "text/plain": [
       "[28.34300248158422,\n",
       " 9.101045630977396,\n",
       " 42.11371218250284,\n",
       " 16.647387233562277,\n",
       " 23.94307424581569,\n",
       " 73.95927201011577,\n",
       " 4220.549181725185,\n",
       " 328317.8608209341,\n",
       " 9818377.620531749]"
      ]
     },
     "execution_count": 24,
     "metadata": {},
     "output_type": "execute_result"
    }
   ],
   "source": [
    "Chi2V"
   ]
  },
  {
   "cell_type": "code",
   "execution_count": 25,
   "id": "2f56c9c2",
   "metadata": {},
   "outputs": [
    {
     "data": {
      "text/plain": [
       "2124.5837548283794"
      ]
     },
     "execution_count": 25,
     "metadata": {},
     "output_type": "execute_result"
    }
   ],
   "source": [
    "Chi2RE"
   ]
  },
  {
   "cell_type": "code",
   "execution_count": null,
   "id": "8f29a218",
   "metadata": {},
   "outputs": [],
   "source": []
  },
  {
   "cell_type": "code",
   "execution_count": null,
   "id": "ab5d6c82",
   "metadata": {},
   "outputs": [],
   "source": []
  },
  {
   "cell_type": "code",
   "execution_count": null,
   "id": "49705863",
   "metadata": {},
   "outputs": [],
   "source": []
  }
 ],
 "metadata": {
  "kernelspec": {
   "display_name": "Python 3 (ipykernel)",
   "language": "python",
   "name": "python3"
  },
  "language_info": {
   "codemirror_mode": {
    "name": "ipython",
    "version": 3
   },
   "file_extension": ".py",
   "mimetype": "text/x-python",
   "name": "python",
   "nbconvert_exporter": "python",
   "pygments_lexer": "ipython3",
   "version": "3.9.12"
  }
 },
 "nbformat": 4,
 "nbformat_minor": 5
}
