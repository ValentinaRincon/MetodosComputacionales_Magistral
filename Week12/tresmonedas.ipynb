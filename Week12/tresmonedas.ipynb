{
 "cells": [
  {
   "cell_type": "code",
   "execution_count": 1,
   "id": "bf047d5a",
   "metadata": {},
   "outputs": [],
   "source": [
    "import numpy as np\n",
    "import matplotlib.pyplot as plt"
   ]
  },
  {
   "cell_type": "code",
   "execution_count": 5,
   "id": "4cf9ab41",
   "metadata": {},
   "outputs": [],
   "source": [
    "def GetSample(N = int(1e4), ncoins = 3, Weights=None):\n",
    "    \n",
    "    Sample = np.zeros((N,ncoins))\n",
    "    \n",
    "    Events = [0,1]\n",
    "    \n",
    "    for i in range(N):\n",
    "        \n",
    "        if Weights == None:\n",
    "            Exp = np.random.choice(Events,ncoins)\n",
    "            \n",
    "       # print(Exp)\n",
    "        Sample[i] = Exp\n",
    "        \n",
    "    return Sample"
   ]
  },
  {
   "cell_type": "code",
   "execution_count": 14,
   "id": "c9848e72",
   "metadata": {},
   "outputs": [],
   "source": [
    "N = 10000\n",
    "Sample = GetSample()"
   ]
  },
  {
   "cell_type": "code",
   "execution_count": 7,
   "id": "56cae4c0",
   "metadata": {},
   "outputs": [
    {
     "data": {
      "text/plain": [
       "array([[0., 1., 0.],\n",
       "       [0., 0., 1.],\n",
       "       [1., 1., 1.],\n",
       "       ...,\n",
       "       [1., 1., 0.],\n",
       "       [0., 1., 0.],\n",
       "       [0., 0., 0.]])"
      ]
     },
     "execution_count": 7,
     "metadata": {},
     "output_type": "execute_result"
    }
   ],
   "source": [
    "Sample"
   ]
  },
  {
   "cell_type": "code",
   "execution_count": 8,
   "id": "83327240",
   "metadata": {},
   "outputs": [],
   "source": [
    "Frecuencias = np.array([],dtype=np.int64)\n",
    "\n",
    "for i in range(Sample.shape[0]):\n",
    "    \n",
    "    NCaras = 0\n",
    "    \n",
    "    for j in range(Sample.shape[1]):\n",
    "        \n",
    "        if Sample[i,j] == 0:\n",
    "            NCaras += 1\n",
    "            \n",
    "    Frecuencias = np.append(Frecuencias,NCaras)"
   ]
  },
  {
   "cell_type": "code",
   "execution_count": 9,
   "id": "1df015f5",
   "metadata": {},
   "outputs": [
    {
     "data": {
      "text/plain": [
       "array([2, 2, 0, ..., 1, 2, 3])"
      ]
     },
     "execution_count": 9,
     "metadata": {},
     "output_type": "execute_result"
    }
   ],
   "source": [
    "Frecuencias"
   ]
  },
  {
   "cell_type": "code",
   "execution_count": 10,
   "id": "8e8cbf48",
   "metadata": {},
   "outputs": [
    {
     "data": {
      "text/plain": [
       "3678"
      ]
     },
     "execution_count": 10,
     "metadata": {},
     "output_type": "execute_result"
    }
   ],
   "source": [
    "ii = np.where( Frecuencias == 2 )\n",
    "Events = len(Frecuencias[ii])\n",
    "Events"
   ]
  },
  {
   "cell_type": "code",
   "execution_count": 11,
   "id": "abfa22ee",
   "metadata": {},
   "outputs": [
    {
     "data": {
      "text/plain": [
       "0.3678"
      ]
     },
     "execution_count": 11,
     "metadata": {},
     "output_type": "execute_result"
    }
   ],
   "source": [
    "Events/10000"
   ]
  },
  {
   "cell_type": "code",
   "execution_count": 12,
   "id": "94517859",
   "metadata": {},
   "outputs": [
    {
     "data": {
      "text/plain": [
       "0.375"
      ]
     },
     "execution_count": 12,
     "metadata": {},
     "output_type": "execute_result"
    }
   ],
   "source": [
    "3/8."
   ]
  },
  {
   "cell_type": "code",
   "execution_count": 16,
   "id": "e21721be",
   "metadata": {},
   "outputs": [
    {
     "data": {
      "text/plain": [
       "(array([0.409     , 0.        , 0.        , 1.26666667, 0.        ,\n",
       "        0.        , 1.226     , 0.        , 0.        , 0.43166667]),\n",
       " array([0. , 0.3, 0.6, 0.9, 1.2, 1.5, 1.8, 2.1, 2.4, 2.7, 3. ]),\n",
       " <BarContainer object of 10 artists>)"
      ]
     },
     "execution_count": 16,
     "metadata": {},
     "output_type": "execute_result"
    },
    {
     "data": {
      "image/png": "[encoded data removed]",
      "text/plain": [
       "<Figure size 432x288 with 1 Axes>"
      ]
     },
     "metadata": {
      "needs_background": "light"
     },
     "output_type": "display_data"
    }
   ],
   "source": [
    "plt.hist(Frecuencias,density=True)"
   ]
  },
  {
   "cell_type": "code",
   "execution_count": null,
   "id": "805834b1",
   "metadata": {},
   "outputs": [],
   "source": []
  }
 ],
 "metadata": {
  "kernelspec": {
   "display_name": "Python 3 (ipykernel)",
   "language": "python",
   "name": "python3"
  },
  "language_info": {
   "codemirror_mode": {
    "name": "ipython",
    "version": 3
   },
   "file_extension": ".py",
   "mimetype": "text/x-python",
   "name": "python",
   "nbconvert_exporter": "python",
   "pygments_lexer": "ipython3",
   "version": "3.9.12"
  }
 },
 "nbformat": 4,
 "nbformat_minor": 5
}
