{
 "cells": [
  {
   "cell_type": "code",
   "execution_count": 1,
   "id": "fb366a9e",
   "metadata": {},
   "outputs": [],
   "source": [
    "import numpy as np\n",
    "import matplotlib.pyplot as plt"
   ]
  },
  {
   "cell_type": "code",
   "execution_count": 5,
   "id": "ab93b2cf",
   "metadata": {},
   "outputs": [],
   "source": [
    "def GetSample(N = int(1e4), ncoins = 3, Weights=None):\n",
    "    \n",
    "    Sample = np.zeros((N,ncoins))\n",
    "    \n",
    "    Events = [0,1]\n",
    "    \n",
    "    for i in range(N):\n",
    "        \n",
    "        if Weights == None:\n",
    "            Exp = np.random.choice(Events,ncoins)\n",
    "            \n",
    "       # print(Exp)\n",
    "        Sample[i] = Exp\n",
    "        \n",
    "    return Sample"
   ]
  },
  {
   "cell_type": "code",
   "execution_count": 6,
   "id": "549ba500",
   "metadata": {},
   "outputs": [],
   "source": [
    "Sample = GetSample()"
   ]
  },
  {
   "cell_type": "code",
   "execution_count": 7,
   "id": "ae324836",
   "metadata": {},
   "outputs": [
    {
     "data": {
      "text/plain": [
       "array([[0., 1., 0.],\n",
       "       [0., 0., 1.],\n",
       "       [1., 1., 1.],\n",
       "       ...,\n",
       "       [1., 1., 0.],\n",
       "       [0., 1., 0.],\n",
       "       [0., 0., 0.]])"
      ]
     },
     "execution_count": 7,
     "metadata": {},
     "output_type": "execute_result"
    }
   ],
   "source": [
    "Sample"
   ]
  },
  {
   "cell_type": "code",
   "execution_count": null,
   "id": "92e7dbb2",
   "metadata": {},
   "outputs": [],
   "source": []
  }
 ],
 "metadata": {
  "kernelspec": {
   "display_name": "Python 3 (ipykernel)",
   "language": "python",
   "name": "python3"
  },
  "language_info": {
   "codemirror_mode": {
    "name": "ipython",
    "version": 3
   },
   "file_extension": ".py",
   "mimetype": "text/x-python",
   "name": "python",
   "nbconvert_exporter": "python",
   "pygments_lexer": "ipython3",
   "version": "3.9.12"
  }
 },
 "nbformat": 4,
 "nbformat_minor": 5
}
