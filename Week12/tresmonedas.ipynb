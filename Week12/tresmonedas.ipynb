{
 "cells": [
  {
   "cell_type": "code",
   "execution_count": 1,
   "id": "f9c463dc",
   "metadata": {},
   "outputs": [],
   "source": [
    "import numpy as np\n",
    "import matplotlib.pyplot as plt"
   ]
  },
  {
   "cell_type": "code",
   "execution_count": 17,
   "id": "c3a1dbf2",
   "metadata": {},
   "outputs": [],
   "source": [
    "def GetSample(N = int(1e4), ncoins = 20, Weights=None):\n",
    "    \n",
    "    Sample = np.zeros((N,ncoins))\n",
    "    \n",
    "    Events = [0,1]\n",
    "    \n",
    "    for i in range(N):\n",
    "        \n",
    "        if Weights == None:\n",
    "            Exp = np.random.choice(Events,ncoins)\n",
    "            \n",
    "       # print(Exp)\n",
    "        Sample[i] = Exp\n",
    "        \n",
    "    return Sample"
   ]
  },
  {
   "cell_type": "code",
   "execution_count": 18,
   "id": "70354ffd",
   "metadata": {},
   "outputs": [],
   "source": [
    "N = 10000\n",
    "Sample = GetSample()"
   ]
  },
  {
   "cell_type": "code",
   "execution_count": 19,
   "id": "1ee3f991",
   "metadata": {},
   "outputs": [
    {
     "data": {
      "text/plain": [
       "array([[0., 0., 1., ..., 0., 1., 1.],\n",
       "       [0., 1., 1., ..., 0., 0., 0.],\n",
       "       [0., 0., 0., ..., 1., 1., 0.],\n",
       "       ...,\n",
       "       [1., 1., 1., ..., 0., 1., 1.],\n",
       "       [1., 1., 1., ..., 1., 1., 1.],\n",
       "       [1., 0., 0., ..., 1., 1., 1.]])"
      ]
     },
     "execution_count": 19,
     "metadata": {},
     "output_type": "execute_result"
    }
   ],
   "source": [
    "Sample"
   ]
  },
  {
   "cell_type": "code",
   "execution_count": 20,
   "id": "0915b36d",
   "metadata": {},
   "outputs": [],
   "source": [
    "Frecuencias = np.array([],dtype=np.int64)\n",
    "\n",
    "for i in range(Sample.shape[0]):\n",
    "    \n",
    "    NCaras = 0\n",
    "    \n",
    "    for j in range(Sample.shape[1]):\n",
    "        \n",
    "        if Sample[i,j] == 0:\n",
    "            NCaras += 1\n",
    "            \n",
    "    Frecuencias = np.append(Frecuencias,NCaras)"
   ]
  },
  {
   "cell_type": "code",
   "execution_count": 21,
   "id": "99d77860",
   "metadata": {},
   "outputs": [
    {
     "data": {
      "text/plain": [
       "array([12,  9, 10, ...,  7,  8,  9])"
      ]
     },
     "execution_count": 21,
     "metadata": {},
     "output_type": "execute_result"
    }
   ],
   "source": [
    "Frecuencias"
   ]
  },
  {
   "cell_type": "code",
   "execution_count": 22,
   "id": "839f833f",
   "metadata": {},
   "outputs": [
    {
     "data": {
      "text/plain": [
       "0"
      ]
     },
     "execution_count": 22,
     "metadata": {},
     "output_type": "execute_result"
    }
   ],
   "source": [
    "ii = np.where( Frecuencias == 2 )\n",
    "Events = len(Frecuencias[ii])\n",
    "Events"
   ]
  },
  {
   "cell_type": "code",
   "execution_count": 23,
   "id": "d45a6391",
   "metadata": {},
   "outputs": [
    {
     "data": {
      "text/plain": [
       "0.0"
      ]
     },
     "execution_count": 23,
     "metadata": {},
     "output_type": "execute_result"
    }
   ],
   "source": [
    "Events/10000"
   ]
  },
  {
   "cell_type": "code",
   "execution_count": 24,
   "id": "5c34286d",
   "metadata": {},
   "outputs": [
    {
     "data": {
      "text/plain": [
       "0.375"
      ]
     },
     "execution_count": 24,
     "metadata": {},
     "output_type": "execute_result"
    }
   ],
   "source": [
    "3/8."
   ]
  },
  {
   "cell_type": "code",
   "execution_count": 25,
   "id": "4c87cb41",
   "metadata": {},
   "outputs": [
    {
     "data": {
      "text/plain": [
       "(array([0.00326667, 0.01      , 0.07453333, 0.0792    , 0.22646667,\n",
       "        0.10573333, 0.1278    , 0.0242    , 0.01473333, 0.00073333]),\n",
       " array([ 3. ,  4.5,  6. ,  7.5,  9. , 10.5, 12. , 13.5, 15. , 16.5, 18. ]),\n",
       " <BarContainer object of 10 artists>)"
      ]
     },
     "execution_count": 25,
     "metadata": {},
     "output_type": "execute_result"
    },
    {
     "data": {
      "image/png": "[encoded data removed]",
      "text/plain": [
       "<Figure size 432x288 with 1 Axes>"
      ]
     },
     "metadata": {
      "needs_background": "light"
     },
     "output_type": "display_data"
    }
   ],
   "source": [
    "plt.hist(Frecuencias,density=True)"
   ]
  },
  {
   "cell_type": "code",
   "execution_count": null,
   "id": "d4ab9d5f",
   "metadata": {},
   "outputs": [],
   "source": []
  }
 ],
 "metadata": {
  "kernelspec": {
   "display_name": "Python 3 (ipykernel)",
   "language": "python",
   "name": "python3"
  },
  "language_info": {
   "codemirror_mode": {
    "name": "ipython",
    "version": 3
   },
   "file_extension": ".py",
   "mimetype": "text/x-python",
   "name": "python",
   "nbconvert_exporter": "python",
   "pygments_lexer": "ipython3",
   "version": "3.9.12"
  }
 },
 "nbformat": 4,
 "nbformat_minor": 5
}
