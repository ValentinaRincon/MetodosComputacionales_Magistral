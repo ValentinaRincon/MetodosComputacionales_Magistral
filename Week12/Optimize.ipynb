{
 "cells": [
  {
   "cell_type": "code",
   "execution_count": 1,
   "id": "6b390bcf",
   "metadata": {},
   "outputs": [],
   "source": [
    "import numpy as np\n",
    "import matplotlib.pyplot as plt\n",
    "import scipy.optimize as spo"
   ]
  },
  {
   "cell_type": "code",
   "execution_count": 2,
   "id": "36495058",
   "metadata": {},
   "outputs": [],
   "source": [
    "def f(x,b):\n",
    "    return x**2 -b*x + 20"
   ]
  },
  {
   "cell_type": "code",
   "execution_count": 3,
   "id": "ab1b1c54",
   "metadata": {},
   "outputs": [],
   "source": [
    "x = np.linspace(-10,10,200)\n",
    "y = f(x,b=-5) "
   ]
  },
  {
   "cell_type": "code",
   "execution_count": 4,
   "id": "9abfed45",
   "metadata": {},
   "outputs": [
    {
     "data": {
      "text/plain": [
       "[<matplotlib.lines.Line2D at 0x7f84a8987d00>]"
      ]
     },
     "execution_count": 4,
     "metadata": {},
     "output_type": "execute_result"
    },
    {
     "data": {
      "image/png": "[encoded data removed]",
      "text/plain": [
       "<Figure size 432x288 with 1 Axes>"
      ]
     },
     "metadata": {
      "needs_background": "light"
     },
     "output_type": "display_data"
    }
   ],
   "source": [
    "plt.plot(x,y)"
   ]
  },
  {
   "cell_type": "code",
   "execution_count": 5,
   "id": "1a5f3435",
   "metadata": {},
   "outputs": [
    {
     "data": {
      "text/plain": [
       "      fun: 13.750000000000124\n",
       " hess_inv: array([[0.50000005]])\n",
       "      jac: array([-5.96046448e-07])\n",
       "  message: 'Optimization terminated successfully.'\n",
       "     nfev: 8\n",
       "      nit: 3\n",
       "     njev: 4\n",
       "   status: 0\n",
       "  success: True\n",
       "        x: array([-2.50000036])"
      ]
     },
     "execution_count": 5,
     "metadata": {},
     "output_type": "execute_result"
    }
   ],
   "source": [
    "x0 = 5.\n",
    "result = spo.minimize( f, x0, args=(-5) )\n",
    "result"
   ]
  },
  {
   "cell_type": "code",
   "execution_count": 6,
   "id": "50d8fc3d",
   "metadata": {},
   "outputs": [],
   "source": [
    "_x = result.x\n",
    "_f = result.fun"
   ]
  },
  {
   "cell_type": "code",
   "execution_count": 7,
   "id": "27d88aaf",
   "metadata": {},
   "outputs": [
    {
     "data": {
      "text/plain": [
       "<matplotlib.collections.PathCollection at 0x7f84a68ad340>"
      ]
     },
     "execution_count": 7,
     "metadata": {},
     "output_type": "execute_result"
    },
    {
     "data": {
      "image/png": "[encoded data removed]",
      "text/plain": [
       "<Figure size 432x288 with 1 Axes>"
      ]
     },
     "metadata": {
      "needs_background": "light"
     },
     "output_type": "display_data"
    }
   ],
   "source": [
    "plt.plot(x,y)\n",
    "plt.scatter(_x,_f)"
   ]
  },
  {
   "cell_type": "code",
   "execution_count": 8,
   "id": "50a344b9",
   "metadata": {},
   "outputs": [],
   "source": [
    "def A(p):\n",
    "    return -p[0]*p[1]"
   ]
  },
  {
   "cell_type": "code",
   "execution_count": 13,
   "id": "31996015",
   "metadata": {},
   "outputs": [
    {
     "data": {
      "text/plain": [
       "     fun: -1249.9999999999657\n",
       "     jac: array([-50.00001526, -25.        ])\n",
       " message: 'Optimization terminated successfully'\n",
       "    nfev: 12\n",
       "     nit: 4\n",
       "    njev: 4\n",
       "  status: 0\n",
       " success: True\n",
       "       x: array([24.99999586, 50.00000827])"
      ]
     },
     "execution_count": 13,
     "metadata": {},
     "output_type": "execute_result"
    }
   ],
   "source": [
    "bounds = ( (1,100),(1,100) )\n",
    "\n",
    "constraints = ( {'type':'eq','fun': lambda p: 2*p[0] + p[1] - 100} )\n",
    "\n",
    "p0 = [1,1]\n",
    "result = spo.minimize( A, p0, constraints = constraints )\n",
    "result"
   ]
  },
  {
   "cell_type": "code",
   "execution_count": null,
   "id": "c3e4d643",
   "metadata": {},
   "outputs": [],
   "source": []
  }
 ],
 "metadata": {
  "kernelspec": {
   "display_name": "Python 3 (ipykernel)",
   "language": "python",
   "name": "python3"
  },
  "language_info": {
   "codemirror_mode": {
    "name": "ipython",
    "version": 3
   },
   "file_extension": ".py",
   "mimetype": "text/x-python",
   "name": "python",
   "nbconvert_exporter": "python",
   "pygments_lexer": "ipython3",
   "version": "3.9.12"
  }
 },
 "nbformat": 4,
 "nbformat_minor": 5
}
