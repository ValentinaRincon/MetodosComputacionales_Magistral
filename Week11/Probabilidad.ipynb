{
 "cells": [
  {
   "cell_type": "code",
   "execution_count": 1,
   "id": "55692511",
   "metadata": {},
   "outputs": [],
   "source": [
    "import numpy as np\n",
    "import matplotlib.pyplot as plt"
   ]
  },
  {
   "cell_type": "code",
   "execution_count": 2,
   "id": "9f85718a",
   "metadata": {},
   "outputs": [],
   "source": [
    "def GetExperiments(N=1000):\n",
    "    \n",
    "    freq = np.zeros(N)\n",
    "    \n",
    "    for i in range(int(N)):\n",
    "        \n",
    "        d1 = np.random.randint(1,7)\n",
    "        d2 = np.random.randint(1,7)\n",
    "        \n",
    "        freq[i] = d1+d2\n",
    "        \n",
    "    return freq"
   ]
  },
  {
   "cell_type": "code",
   "execution_count": 4,
   "id": "e0c20087",
   "metadata": {},
   "outputs": [],
   "source": [
    "freq = GetExperiments()"
   ]
  },
  {
   "cell_type": "code",
   "execution_count": 6,
   "id": "f5a36b41",
   "metadata": {},
   "outputs": [],
   "source": [
    "x = np.linspace(2,13,12)\n",
    "h,bins = np.histogram(freq,bins=x)\n",
    "w = np.diff(bins)"
   ]
  },
  {
   "cell_type": "code",
   "execution_count": 9,
   "id": "1d570c94",
   "metadata": {},
   "outputs": [
    {
     "data": {
      "text/plain": [
       "<BarContainer object of 11 artists>"
      ]
     },
     "execution_count": 9,
     "metadata": {},
     "output_type": "execute_result"
    },
    {
     "data": {
      "image/png": "[encoded data removed]",
      "text/plain": [
       "<Figure size 432x288 with 1 Axes>"
      ]
     },
     "metadata": {
      "needs_background": "light"
     },
     "output_type": "display_data"
    }
   ],
   "source": [
    "plt.bar(bins[:-1],h,width=w,ec='k')"
   ]
  },
  {
   "cell_type": "code",
   "execution_count": 5,
   "id": "7083e37d",
   "metadata": {},
   "outputs": [
    {
     "data": {
      "text/plain": [
       "(array([ 27.,  49.,  82., 113., 140., 168., 137., 128.,  76.,  80.]),\n",
       " array([ 2.,  3.,  4.,  5.,  6.,  7.,  8.,  9., 10., 11., 12.]),\n",
       " <BarContainer object of 10 artists>)"
      ]
     },
     "execution_count": 5,
     "metadata": {},
     "output_type": "execute_result"
    },
    {
     "data": {
      "image/png": "[encoded data removed]",
      "text/plain": [
       "<Figure size 432x288 with 1 Axes>"
      ]
     },
     "metadata": {
      "needs_background": "light"
     },
     "output_type": "display_data"
    }
   ],
   "source": [
    "plt.hist(freq)"
   ]
  },
  {
   "cell_type": "code",
   "execution_count": null,
   "id": "0481c1c6",
   "metadata": {},
   "outputs": [],
   "source": []
  }
 ],
 "metadata": {
  "kernelspec": {
   "display_name": "Python 3 (ipykernel)",
   "language": "python",
   "name": "python3"
  },
  "language_info": {
   "codemirror_mode": {
    "name": "ipython",
    "version": 3
   },
   "file_extension": ".py",
   "mimetype": "text/x-python",
   "name": "python",
   "nbconvert_exporter": "python",
   "pygments_lexer": "ipython3",
   "version": "3.9.12"
  }
 },
 "nbformat": 4,
 "nbformat_minor": 5
}
