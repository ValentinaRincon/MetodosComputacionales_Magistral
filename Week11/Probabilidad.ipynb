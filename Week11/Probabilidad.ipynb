{
 "cells": [
  {
   "cell_type": "code",
   "execution_count": 1,
   "id": "d14f412a",
   "metadata": {},
   "outputs": [],
   "source": [
    "import numpy as np\n",
    "import matplotlib.pyplot as plt"
   ]
  },
  {
   "cell_type": "code",
   "execution_count": 2,
   "id": "81b6f6a8",
   "metadata": {},
   "outputs": [],
   "source": [
    "def GetExperiments(N=1000):\n",
    "    \n",
    "    freq = np.zeros(N)\n",
    "    \n",
    "    for i in range(int(N)):\n",
    "        \n",
    "        d1 = np.random.randint(1,7)\n",
    "        d2 = np.random.randint(1,7)\n",
    "        \n",
    "        freq[i] = d1+d2\n",
    "        \n",
    "    return freq"
   ]
  },
  {
   "cell_type": "code",
   "execution_count": 4,
   "id": "23755a50",
   "metadata": {},
   "outputs": [],
   "source": [
    "freq = GetExperiments()"
   ]
  },
  {
   "cell_type": "code",
   "execution_count": 6,
   "id": "4b72ebeb",
   "metadata": {},
   "outputs": [],
   "source": [
    "x = np.linspace(2,13,12)\n",
    "h,bins = np.histogram(freq,bins=x)\n",
    "w = np.diff(bins)"
   ]
  },
  {
   "cell_type": "code",
   "execution_count": 9,
   "id": "7fba89fd",
   "metadata": {},
   "outputs": [
    {
     "data": {
      "text/plain": [
       "<BarContainer object of 11 artists>"
      ]
     },
     "execution_count": 9,
     "metadata": {},
     "output_type": "execute_result"
    },
    {
     "data": {
      "image/png": "[encoded data removed]",
      "text/plain": [
       "<Figure size 432x288 with 1 Axes>"
      ]
     },
     "metadata": {
      "needs_background": "light"
     },
     "output_type": "display_data"
    }
   ],
   "source": [
    "plt.bar(bins[:-1],h,width=w,ec='k')"
   ]
  },
  {
   "cell_type": "code",
   "execution_count": 11,
   "id": "031df816",
   "metadata": {},
   "outputs": [
    {
     "data": {
      "text/plain": [
       "array([0.027, 0.049, 0.082, 0.113, 0.14 , 0.168, 0.137, 0.128, 0.076,\n",
       "       0.055, 0.025])"
      ]
     },
     "execution_count": 11,
     "metadata": {},
     "output_type": "execute_result"
    }
   ],
   "source": [
    "hr = h/1000.\n",
    "\n",
    "hr"
   ]
  },
  {
   "cell_type": "code",
   "execution_count": 15,
   "id": "8c1f53a8",
   "metadata": {},
   "outputs": [
    {
     "data": {
      "text/plain": [
       "0.5790000000000001"
      ]
     },
     "execution_count": 15,
     "metadata": {},
     "output_type": "execute_result"
    }
   ],
   "source": [
    "np.sum(hr[:6])"
   ]
  },
  {
   "cell_type": "code",
   "execution_count": null,
   "id": "32c20c3b",
   "metadata": {},
   "outputs": [],
   "source": []
  }
 ],
 "metadata": {
  "kernelspec": {
   "display_name": "Python 3 (ipykernel)",
   "language": "python",
   "name": "python3"
  },
  "language_info": {
   "codemirror_mode": {
    "name": "ipython",
    "version": 3
   },
   "file_extension": ".py",
   "mimetype": "text/x-python",
   "name": "python",
   "nbconvert_exporter": "python",
   "pygments_lexer": "ipython3",
   "version": "3.9.12"
  }
 },
 "nbformat": 4,
 "nbformat_minor": 5
}
