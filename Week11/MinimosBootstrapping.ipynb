{
 "cells": [
  {
   "cell_type": "code",
   "execution_count": 1,
   "id": "13f09633",
   "metadata": {},
   "outputs": [
    {
     "data": {
      "text/html": [
       "<style>.container { width:90% !important; }</style>"
      ],
      "text/plain": [
       "<IPython.core.display.HTML object>"
      ]
     },
     "metadata": {},
     "output_type": "display_data"
    }
   ],
   "source": [
    "#%matplotlib notebook\n",
    "from IPython.display import display, HTML\n",
    "display(HTML(\"<style>.container { width:90% !important; }</style>\"))\n",
    "\n",
    "import numpy as np\n",
    "import matplotlib.pyplot as plt\n",
    "import sympy as sym\n",
    "\n",
    "from scipy.stats import norm\n",
    "from scipy.stats import t\n",
    "from scipy.stats import chi2\n",
    "\n",
    "from scipy import integrate\n",
    "\n",
    "import os\n",
    "import os.path as path\n",
    "import wget\n",
    "\n",
    "from tqdm import tqdm\n",
    "import corner"
   ]
  },
  {
   "cell_type": "code",
   "execution_count": 4,
   "id": "b292c9b5",
   "metadata": {},
   "outputs": [],
   "source": [
    "sample = np.array([0.974,0.950,0.932,1.104,1.038,0.920,0.935,0.907,0.810,0.915])"
   ]
  },
  {
   "cell_type": "code",
   "execution_count": 5,
   "id": "e89ff685",
   "metadata": {},
   "outputs": [
    {
     "name": "stdout",
     "output_type": "stream",
     "text": [
      "0.9484999999999999\n"
     ]
    }
   ],
   "source": [
    "media = np.mean(sample)\n",
    "print(media)"
   ]
  },
  {
   "cell_type": "code",
   "execution_count": 6,
   "id": "f275822f",
   "metadata": {},
   "outputs": [],
   "source": [
    "def Resample(sample):\n",
    "    resample_ = np.random.choice(sample, size=len(sample), replace=True) # remuestreo con reemplazo\n",
    "    return resample_"
   ]
  },
  {
   "cell_type": "code",
   "execution_count": null,
   "id": "7d941616",
   "metadata": {},
   "outputs": [],
   "source": []
  },
  {
   "cell_type": "code",
   "execution_count": null,
   "id": "e8225887",
   "metadata": {},
   "outputs": [],
   "source": []
  },
  {
   "cell_type": "code",
   "execution_count": 21,
   "id": "11bfc9de",
   "metadata": {},
   "outputs": [
    {
     "name": "stdout",
     "output_type": "stream",
     "text": [
      "rm: no se puede borrar 'Data/*': No existe el archivo o el directorio\n",
      "100% [..................................................................................] 521 / 521File loaded\n"
     ]
    }
   ],
   "source": [
    "# Descargamos data\n",
    "if not path.exists('Data'):\n",
    "    os.mkdir('Data')\n",
    "\n",
    "!rm Data/*\n",
    "\n",
    "file = 'Data/data.csv'\n",
    "url = 'https://raw.githubusercontent.com/asegura4488/Database/main/MetodosComputacionalesReforma/MinimosCuadratico.txt'\n",
    "#url = 'https://raw.githubusercontent.com/asegura4488/Database/main/MetodosComputacionalesReforma/MinimosLineal.txt'\n",
    "\n",
    "if not path.exists(file):\n",
    "    Path_ = wget.download(url,file)\n",
    "    print('File loaded')\n",
    "else:\n",
    "    Path_ = file"
   ]
  },
  {
   "cell_type": "code",
   "execution_count": 22,
   "id": "0b408812",
   "metadata": {},
   "outputs": [],
   "source": [
    "Data = np.loadtxt(Path_)"
   ]
  },
  {
   "cell_type": "code",
   "execution_count": 23,
   "id": "4339ab44",
   "metadata": {},
   "outputs": [
    {
     "data": {
      "text/plain": [
       "array([2.62234244, 2.17647584, 2.17818411, 1.39812128, 3.05963145,\n",
       "       3.42263153, 1.81365513, 3.26926834, 1.78384232, 3.20594048,\n",
       "       3.45694961, 1.2754592 , 2.21392283, 1.39614931, 1.00755947,\n",
       "       1.77215488, 3.40432693, 2.31973762, 2.99167524, 3.57751934])"
      ]
     },
     "execution_count": 23,
     "metadata": {},
     "output_type": "execute_result"
    }
   ],
   "source": [
    "x = Data[:,0]\n",
    "y = Data[:,1]\n",
    "N = len(x)\n",
    "sigma = np.random.uniform(1,4,size=N)\n",
    "sigma"
   ]
  },
  {
   "cell_type": "code",
   "execution_count": 24,
   "id": "9ae7f361",
   "metadata": {},
   "outputs": [],
   "source": [
    "def GetFit(x,y,n=3):\n",
    "    \n",
    "    size = len(x)\n",
    "    b = y\n",
    "    \n",
    "    A = np.ones((size,n+1))\n",
    "    \n",
    "    for i in range(1,n+1):\n",
    "        A[:,i] = x**(i)\n",
    "\n",
    "    # Hacer ajuste cuadratico\n",
    "    \n",
    "    M = np.dot(A.T,A)\n",
    "    bt = np.dot(A.T,b)\n",
    "    \n",
    "    xsol = np.linalg.solve(M,bt)\n",
    "\n",
    "    return xsol"
   ]
  },
  {
   "cell_type": "code",
   "execution_count": 25,
   "id": "0faa73fc",
   "metadata": {},
   "outputs": [
    {
     "name": "stdout",
     "output_type": "stream",
     "text": [
      "[1.22132054 6.09075205 2.9565874 ]\n"
     ]
    }
   ],
   "source": [
    "n = 2 # order of the polynomial\n",
    "param = GetFit(x,y,n=n)\n",
    "print(param)"
   ]
  },
  {
   "cell_type": "code",
   "execution_count": 26,
   "id": "ea9d7f50",
   "metadata": {},
   "outputs": [],
   "source": [
    "def GetModel(x,p):\n",
    "    \n",
    "    y = 0.\n",
    "    for i in range(len(p)):\n",
    "        y += p[i]*x**i\n",
    "    \n",
    "    return y"
   ]
  },
  {
   "cell_type": "code",
   "execution_count": 27,
   "id": "a23b8519",
   "metadata": {},
   "outputs": [
    {
     "data": {
      "text/latex": [
       "$\\displaystyle 2.9565874017739 x^{2} + 6.09075204636184 x + 1.22132053617134$"
      ],
      "text/plain": [
       "2.9565874017739*x**2 + 6.09075204636184*x + 1.22132053617134"
      ]
     },
     "execution_count": 27,
     "metadata": {},
     "output_type": "execute_result"
    }
   ],
   "source": [
    "X = sym.Symbol('x',real=True)\n",
    "GetModel(X,param)"
   ]
  },
  {
   "cell_type": "code",
   "execution_count": 28,
   "id": "5c55a52f",
   "metadata": {
    "scrolled": true
   },
   "outputs": [
    {
     "data": {
      "text/plain": [
       "<matplotlib.legend.Legend at 0x7ff4484822b0>"
      ]
     },
     "execution_count": 28,
     "metadata": {},
     "output_type": "execute_result"
    },
    {
     "data": {
      "image/png": "[encoded data removed]",
      "text/plain": [
       "<Figure size 360x360 with 1 Axes>"
      ]
     },
     "metadata": {
      "needs_background": "light"
     },
     "output_type": "display_data"
    }
   ],
   "source": [
    "t = np.linspace(np.min(x),np.max(x),100)\n",
    "\n",
    "fig = plt.figure(figsize=(5,5))\n",
    "ax = fig.add_subplot(1,1,1)\n",
    "ax.errorbar(x,y,yerr=sigma,fmt='o',color='r',label='Data')\n",
    "ax.set_title('Fit')\n",
    "ax.plot(t,GetModel(t,param),lw=3) \n",
    "#ax.plot(t,GetModel(t,param), label=\"Parameters: {0}\".format(np.round(param,2))) \n",
    "ax.legend(loc=0)"
   ]
  },
  {
   "cell_type": "markdown",
   "id": "58c897a6",
   "metadata": {},
   "source": [
    "# Bootstraping"
   ]
  },
  {
   "cell_type": "code",
   "execution_count": 31,
   "id": "00164be1",
   "metadata": {},
   "outputs": [],
   "source": [
    "# Necesitamos hacer un diccionario para ligar la variable y la imagen\n",
    "dict1 = dict(zip(x,y))"
   ]
  },
  {
   "cell_type": "code",
   "execution_count": null,
   "id": "16f49b82",
   "metadata": {},
   "outputs": [],
   "source": []
  }
 ],
 "metadata": {
  "kernelspec": {
   "display_name": "Python 3 (ipykernel)",
   "language": "python",
   "name": "python3"
  },
  "language_info": {
   "codemirror_mode": {
    "name": "ipython",
    "version": 3
   },
   "file_extension": ".py",
   "mimetype": "text/x-python",
   "name": "python",
   "nbconvert_exporter": "python",
   "pygments_lexer": "ipython3",
   "version": "3.9.12"
  }
 },
 "nbformat": 4,
 "nbformat_minor": 5
}
