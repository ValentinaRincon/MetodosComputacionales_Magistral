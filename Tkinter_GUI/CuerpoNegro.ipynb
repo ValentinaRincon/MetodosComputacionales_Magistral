{
 "cells": [
  {
   "cell_type": "code",
   "execution_count": 1,
   "id": "e66ef719",
   "metadata": {},
   "outputs": [],
   "source": [
    "import tkinter as tk\n",
    "import matplotlib \n",
    "import matplotlib.pyplot as plt\n",
    "import numpy as np\n",
    "from matplotlib.backends.backend_tkagg import FigureCanvasTkAgg\n",
    "from scipy import integrate"
   ]
  },
  {
   "cell_type": "code",
   "execution_count": 2,
   "id": "98369646",
   "metadata": {},
   "outputs": [],
   "source": [
    "c = 3e8\n",
    "kb = 1.3806e-23\n",
    "h = 6.626e-34\n",
    "T = 5772\n",
    "a = 0.\n",
    "b = 0."
   ]
  },
  {
   "cell_type": "code",
   "execution_count": 3,
   "id": "3ee125dd",
   "metadata": {},
   "outputs": [],
   "source": [
    "f = lambda x: x**3/(np.exp(x)-1)"
   ]
  },
  {
   "cell_type": "code",
   "execution_count": 4,
   "id": "aea20f56",
   "metadata": {},
   "outputs": [],
   "source": [
    "nu = np.linspace(0.1,30,100)\n",
    "p = f(nu)"
   ]
  },
  {
   "cell_type": "code",
   "execution_count": 5,
   "id": "322f0e64",
   "metadata": {},
   "outputs": [],
   "source": [
    "def GetLimits():\n",
    "    \n",
    "    l0 = float(lambda0.get())*1e-9\n",
    "    l1 = float(lambda1.get())*1e-9\n",
    "\n",
    "    # Actualizar los limites globalmente\n",
    "    global a\n",
    "    global b\n",
    "    \n",
    "    a = h*c/(kb*T*l1)\n",
    "    b = h*c/(kb*T*l0)"
   ]
  },
  {
   "cell_type": "code",
   "execution_count": 6,
   "id": "3f3608db",
   "metadata": {},
   "outputs": [],
   "source": [
    "def Plotting():\n",
    "    \n",
    "    ax.clear()\n",
    "    \n",
    "    GetLimits()\n",
    "    print(a,b)\n",
    "    \n",
    "    ax.plot(nu,p,color='k')\n",
    "    ax.axvline(x=a,ls='--',color='r')\n",
    "    ax.axvline(x=b,ls='--',color='r')\n",
    "\n",
    "    l = np.linspace(a,b,100)\n",
    "    ax.fill_between(l,f(l),alpha=0.5)\n",
    "    \n",
    "    canvas.draw()"
   ]
  },
  {
   "cell_type": "code",
   "execution_count": 7,
   "id": "2e2814d9",
   "metadata": {},
   "outputs": [],
   "source": [
    "def GetIntegral():\n",
    "    \n",
    "    Num = integrate.quad(f,a,b)[0]\n",
    "    Den = integrate.quad(f,0.001,np.inf)[0]\n",
    "    \n",
    "    I = np.round(Num/Den,6)\n",
    "    \n",
    "    Text1.delete(\"1.0\",\"end\")\n",
    "    Text1.insert(tk.END, I)"
   ]
  },
  {
   "cell_type": "code",
   "execution_count": 8,
   "id": "b806bbf4",
   "metadata": {},
   "outputs": [
    {
     "name": "stdout",
     "output_type": "stream",
     "text": [
      "6.2361780093201205 24.944712037280482\n"
     ]
    },
    {
     "name": "stderr",
     "output_type": "stream",
     "text": [
      "/tmp/ipykernel_12984/1851717489.py:1: RuntimeWarning: overflow encountered in exp\n",
      "  f = lambda x: x**3/(np.exp(x)-1)\n"
     ]
    },
    {
     "name": "stdout",
     "output_type": "stream",
     "text": [
      "3.3259616049707317 6.2361780093201205\n",
      "0.24944712037280484 3.3259616049707317\n"
     ]
    },
    {
     "data": {
      "image/png": "[encoded data removed]",
      "text/plain": [
       "<Figure size 500x500 with 1 Axes>"
      ]
     },
     "metadata": {
      "needs_background": "light"
     },
     "output_type": "display_data"
    }
   ],
   "source": [
    "Window = tk.Tk()\n",
    "Window.geometry(\"850x500\")\n",
    "Window.title('Potencia de cuerpo negro')\n",
    "\n",
    "Frame1 = tk.Frame(Window)\n",
    "Frame2 = tk.Frame(Window)\n",
    "\n",
    "Frame1.config(relief='sunken', cursor='pirate',bd=5)\n",
    "Frame2.config(relief='sunken', cursor='heart', bd=5)\n",
    "\n",
    "Frame1.pack(side=tk.LEFT, expand=True,fill='both')\n",
    "Frame2.pack(side=tk.RIGHT,expand=True,fill='both')\n",
    "\n",
    "# Controls \n",
    "Label0 = tk.Label(Frame2,text='Longitud de Onda 1 [nm]',bg=\"White\")\n",
    "Label0.grid(row=0,column=0,padx=10, pady=10)\n",
    "\n",
    "lambda0 = tk.StringVar()\n",
    "lambda0.set(\"100\")\n",
    "Entry0 = tk.Entry(Frame2, textvariable=lambda0)\n",
    "Entry0.grid(row=0,column=1, padx=10, pady=10)\n",
    "\n",
    "Label1 = tk.Label(Frame2,text='Longitud de Onda 2 [nm]',bg=\"White\")\n",
    "Label1.grid(row=1,column=0,padx=10, pady=10)\n",
    "\n",
    "lambda1 = tk.StringVar()\n",
    "lambda1.set(\"400\")\n",
    "Entry1 = tk.Entry(Frame2, textvariable=lambda1)\n",
    "Entry1.grid(row=1,column=1, padx=10, pady=10)\n",
    "\n",
    "# Limits\n",
    "Boton1 = tk.Button(Frame2, text='GetLimits', height=5, width=10, command=GetLimits)\n",
    "Boton1.grid(row=2,column=0, columnspan=2 ,padx=10, pady=10)\n",
    "\n",
    "# Plotting button\n",
    "Boton2 = tk.Button(Frame2, text='Plot', height=5, width=10, command=Plotting)\n",
    "Boton2.grid(row=3,column=0, columnspan=2 ,padx=10, pady=10)\n",
    "\n",
    "# Integrator buttom\n",
    "Boton3 = tk.Button(Frame2, text='Integrate', height=5, width=10, command=GetIntegral)\n",
    "Boton3.grid(row=4,column=0,padx=10, pady=10)\n",
    "\n",
    "Text1 = tk.Text(Frame2, height=2, width=10)\n",
    "Text1.grid(row=4,column=1,padx=10, pady=10)\n",
    "\n",
    "Boton4 = tk.Button(Frame2, text='Quit', command=Window.destroy)\n",
    "Boton4.grid(row=5,column=0,columnspan=2, padx=10,pady=10)\n",
    "\n",
    "fig = plt.figure(figsize=(5,5),dpi=100)\n",
    "ax = fig.add_subplot(111)\n",
    "canvas = FigureCanvasTkAgg(fig,master=Frame1)\n",
    "canvas.get_tk_widget().grid(column=0,row=0)\n",
    "\n",
    "Window.mainloop()"
   ]
  },
  {
   "cell_type": "code",
   "execution_count": null,
   "id": "993da00a",
   "metadata": {},
   "outputs": [],
   "source": []
  },
  {
   "cell_type": "code",
   "execution_count": null,
   "id": "3160d5fc",
   "metadata": {},
   "outputs": [],
   "source": []
  }
 ],
 "metadata": {
  "kernelspec": {
   "display_name": "Python 3 (ipykernel)",
   "language": "python",
   "name": "python3"
  },
  "language_info": {
   "codemirror_mode": {
    "name": "ipython",
    "version": 3
   },
   "file_extension": ".py",
   "mimetype": "text/x-python",
   "name": "python",
   "nbconvert_exporter": "python",
   "pygments_lexer": "ipython3",
   "version": "3.9.12"
  }
 },
 "nbformat": 4,
 "nbformat_minor": 5
}
